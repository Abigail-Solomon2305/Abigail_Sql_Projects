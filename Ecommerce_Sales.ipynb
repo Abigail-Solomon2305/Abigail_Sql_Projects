{
  "nbformat": 4,
  "nbformat_minor": 0,
  "metadata": {
    "colab": {
      "provenance": [],
      "include_colab_link": true
    },
    "kernelspec": {
      "name": "python3",
      "display_name": "Python 3"
    },
    "language_info": {
      "name": "python"
    }
  },
  "cells": [
    {
      "cell_type": "markdown",
      "metadata": {
        "id": "view-in-github",
        "colab_type": "text"
      },
      "source": [
        "<a href=\"https://colab.research.google.com/github/Abigail-Solomon2305/Abigail_Sql_Projects/blob/main/Ecommerce_Sales.ipynb\" target=\"_parent\"><img src=\"https://colab.research.google.com/assets/colab-badge.svg\" alt=\"Open In Colab\"/></a>"
      ]
    },
    {
      "cell_type": "code",
      "source": [
        "# James\n",
        "import pandas as pd\n",
        "from sqlalchemy import create_engine, text\n",
        "\n",
        "# 1️⃣ Load dataset\n",
        "df = pd.read_csv(\"ecommerce_sales_day1.csv\")\n",
        "\n",
        "# 2️⃣ Create in-memory SQLite database (use 'sqlite:///my.db' to save to disk)\n",
        "engine = create_engine('sqlite://', echo=True)\n",
        "\n",
        "# 3️⃣ Write DataFrame to SQL\n",
        "df.to_sql('sales', con=engine, index=False, if_exists='replace')"
      ],
      "metadata": {
        "id": "wblJ8tcuTB9g",
        "collapsed": true
      },
      "execution_count": null,
      "outputs": []
    },
    {
      "cell_type": "code",
      "source": [
        "# Abigail\n",
        "# imported and loaded libaries\n",
        "import pandas as pd\n",
        "from sqlalchemy import create_engine, text\n",
        "\n",
        "from google.colab import files\n",
        "uploaded = files.upload()"
      ],
      "metadata": {
        "colab": {
          "base_uri": "https://localhost:8080/",
          "height": 71
        },
        "id": "Fw2LwKC8YjfS",
        "outputId": "62e7ef4f-9f33-47b9-d083-45f16a108136"
      },
      "execution_count": 4,
      "outputs": [
        {
          "output_type": "display_data",
          "data": {
            "text/plain": [
              "<IPython.core.display.HTML object>"
            ],
            "text/html": [
              "\n",
              "     <input type=\"file\" id=\"files-a052af26-496c-442b-a981-c78fb703e12a\" name=\"files[]\" multiple disabled\n",
              "        style=\"border:none\" />\n",
              "     <output id=\"result-a052af26-496c-442b-a981-c78fb703e12a\">\n",
              "      Upload widget is only available when the cell has been executed in the\n",
              "      current browser session. Please rerun this cell to enable.\n",
              "      </output>\n",
              "      <script>// Copyright 2017 Google LLC\n",
              "//\n",
              "// Licensed under the Apache License, Version 2.0 (the \"License\");\n",
              "// you may not use this file except in compliance with the License.\n",
              "// You may obtain a copy of the License at\n",
              "//\n",
              "//      http://www.apache.org/licenses/LICENSE-2.0\n",
              "//\n",
              "// Unless required by applicable law or agreed to in writing, software\n",
              "// distributed under the License is distributed on an \"AS IS\" BASIS,\n",
              "// WITHOUT WARRANTIES OR CONDITIONS OF ANY KIND, either express or implied.\n",
              "// See the License for the specific language governing permissions and\n",
              "// limitations under the License.\n",
              "\n",
              "/**\n",
              " * @fileoverview Helpers for google.colab Python module.\n",
              " */\n",
              "(function(scope) {\n",
              "function span(text, styleAttributes = {}) {\n",
              "  const element = document.createElement('span');\n",
              "  element.textContent = text;\n",
              "  for (const key of Object.keys(styleAttributes)) {\n",
              "    element.style[key] = styleAttributes[key];\n",
              "  }\n",
              "  return element;\n",
              "}\n",
              "\n",
              "// Max number of bytes which will be uploaded at a time.\n",
              "const MAX_PAYLOAD_SIZE = 100 * 1024;\n",
              "\n",
              "function _uploadFiles(inputId, outputId) {\n",
              "  const steps = uploadFilesStep(inputId, outputId);\n",
              "  const outputElement = document.getElementById(outputId);\n",
              "  // Cache steps on the outputElement to make it available for the next call\n",
              "  // to uploadFilesContinue from Python.\n",
              "  outputElement.steps = steps;\n",
              "\n",
              "  return _uploadFilesContinue(outputId);\n",
              "}\n",
              "\n",
              "// This is roughly an async generator (not supported in the browser yet),\n",
              "// where there are multiple asynchronous steps and the Python side is going\n",
              "// to poll for completion of each step.\n",
              "// This uses a Promise to block the python side on completion of each step,\n",
              "// then passes the result of the previous step as the input to the next step.\n",
              "function _uploadFilesContinue(outputId) {\n",
              "  const outputElement = document.getElementById(outputId);\n",
              "  const steps = outputElement.steps;\n",
              "\n",
              "  const next = steps.next(outputElement.lastPromiseValue);\n",
              "  return Promise.resolve(next.value.promise).then((value) => {\n",
              "    // Cache the last promise value to make it available to the next\n",
              "    // step of the generator.\n",
              "    outputElement.lastPromiseValue = value;\n",
              "    return next.value.response;\n",
              "  });\n",
              "}\n",
              "\n",
              "/**\n",
              " * Generator function which is called between each async step of the upload\n",
              " * process.\n",
              " * @param {string} inputId Element ID of the input file picker element.\n",
              " * @param {string} outputId Element ID of the output display.\n",
              " * @return {!Iterable<!Object>} Iterable of next steps.\n",
              " */\n",
              "function* uploadFilesStep(inputId, outputId) {\n",
              "  const inputElement = document.getElementById(inputId);\n",
              "  inputElement.disabled = false;\n",
              "\n",
              "  const outputElement = document.getElementById(outputId);\n",
              "  outputElement.innerHTML = '';\n",
              "\n",
              "  const pickedPromise = new Promise((resolve) => {\n",
              "    inputElement.addEventListener('change', (e) => {\n",
              "      resolve(e.target.files);\n",
              "    });\n",
              "  });\n",
              "\n",
              "  const cancel = document.createElement('button');\n",
              "  inputElement.parentElement.appendChild(cancel);\n",
              "  cancel.textContent = 'Cancel upload';\n",
              "  const cancelPromise = new Promise((resolve) => {\n",
              "    cancel.onclick = () => {\n",
              "      resolve(null);\n",
              "    };\n",
              "  });\n",
              "\n",
              "  // Wait for the user to pick the files.\n",
              "  const files = yield {\n",
              "    promise: Promise.race([pickedPromise, cancelPromise]),\n",
              "    response: {\n",
              "      action: 'starting',\n",
              "    }\n",
              "  };\n",
              "\n",
              "  cancel.remove();\n",
              "\n",
              "  // Disable the input element since further picks are not allowed.\n",
              "  inputElement.disabled = true;\n",
              "\n",
              "  if (!files) {\n",
              "    return {\n",
              "      response: {\n",
              "        action: 'complete',\n",
              "      }\n",
              "    };\n",
              "  }\n",
              "\n",
              "  for (const file of files) {\n",
              "    const li = document.createElement('li');\n",
              "    li.append(span(file.name, {fontWeight: 'bold'}));\n",
              "    li.append(span(\n",
              "        `(${file.type || 'n/a'}) - ${file.size} bytes, ` +\n",
              "        `last modified: ${\n",
              "            file.lastModifiedDate ? file.lastModifiedDate.toLocaleDateString() :\n",
              "                                    'n/a'} - `));\n",
              "    const percent = span('0% done');\n",
              "    li.appendChild(percent);\n",
              "\n",
              "    outputElement.appendChild(li);\n",
              "\n",
              "    const fileDataPromise = new Promise((resolve) => {\n",
              "      const reader = new FileReader();\n",
              "      reader.onload = (e) => {\n",
              "        resolve(e.target.result);\n",
              "      };\n",
              "      reader.readAsArrayBuffer(file);\n",
              "    });\n",
              "    // Wait for the data to be ready.\n",
              "    let fileData = yield {\n",
              "      promise: fileDataPromise,\n",
              "      response: {\n",
              "        action: 'continue',\n",
              "      }\n",
              "    };\n",
              "\n",
              "    // Use a chunked sending to avoid message size limits. See b/62115660.\n",
              "    let position = 0;\n",
              "    do {\n",
              "      const length = Math.min(fileData.byteLength - position, MAX_PAYLOAD_SIZE);\n",
              "      const chunk = new Uint8Array(fileData, position, length);\n",
              "      position += length;\n",
              "\n",
              "      const base64 = btoa(String.fromCharCode.apply(null, chunk));\n",
              "      yield {\n",
              "        response: {\n",
              "          action: 'append',\n",
              "          file: file.name,\n",
              "          data: base64,\n",
              "        },\n",
              "      };\n",
              "\n",
              "      let percentDone = fileData.byteLength === 0 ?\n",
              "          100 :\n",
              "          Math.round((position / fileData.byteLength) * 100);\n",
              "      percent.textContent = `${percentDone}% done`;\n",
              "\n",
              "    } while (position < fileData.byteLength);\n",
              "  }\n",
              "\n",
              "  // All done.\n",
              "  yield {\n",
              "    response: {\n",
              "      action: 'complete',\n",
              "    }\n",
              "  };\n",
              "}\n",
              "\n",
              "scope.google = scope.google || {};\n",
              "scope.google.colab = scope.google.colab || {};\n",
              "scope.google.colab._files = {\n",
              "  _uploadFiles,\n",
              "  _uploadFilesContinue,\n",
              "};\n",
              "})(self);\n",
              "</script> "
            ]
          },
          "metadata": {}
        },
        {
          "output_type": "stream",
          "name": "stdout",
          "text": [
            "Saving ecommerce_sales_day1.csv to ecommerce_sales_day1.csv\n"
          ]
        }
      ]
    },
    {
      "cell_type": "code",
      "source": [
        "# 1️⃣ Load dataset\n",
        "df = pd.read_csv(\"ecommerce_sales_day1.csv\")"
      ],
      "metadata": {
        "id": "8WGM9WrDYomI"
      },
      "execution_count": 5,
      "outputs": []
    },
    {
      "cell_type": "code",
      "source": [
        "\n",
        "# 2️⃣ Create in-memory SQLite database (use 'sqlite:///my.db' to save to disk)\n",
        "engine = create_engine('sqlite://', echo=True)\n",
        "\n",
        "# 3️⃣ Write DataFrame to SQL\n",
        "df.to_sql('sales', con=engine, index=False, if_exists='replace')\n"
      ],
      "metadata": {
        "colab": {
          "base_uri": "https://localhost:8080/"
        },
        "id": "96-YM1DBbpDf",
        "outputId": "d21b2f56-c8e0-4d05-9b1a-a9cca7a749f9"
      },
      "execution_count": 6,
      "outputs": [
        {
          "output_type": "stream",
          "name": "stdout",
          "text": [
            "2025-10-14 20:19:26,391 INFO sqlalchemy.engine.Engine BEGIN (implicit)\n"
          ]
        },
        {
          "output_type": "stream",
          "name": "stderr",
          "text": [
            "INFO:sqlalchemy.engine.Engine:BEGIN (implicit)\n"
          ]
        },
        {
          "output_type": "stream",
          "name": "stdout",
          "text": [
            "2025-10-14 20:19:26,396 INFO sqlalchemy.engine.Engine PRAGMA main.table_info(\"sales\")\n"
          ]
        },
        {
          "output_type": "stream",
          "name": "stderr",
          "text": [
            "INFO:sqlalchemy.engine.Engine:PRAGMA main.table_info(\"sales\")\n"
          ]
        },
        {
          "output_type": "stream",
          "name": "stdout",
          "text": [
            "2025-10-14 20:19:26,400 INFO sqlalchemy.engine.Engine [raw sql] ()\n"
          ]
        },
        {
          "output_type": "stream",
          "name": "stderr",
          "text": [
            "INFO:sqlalchemy.engine.Engine:[raw sql] ()\n"
          ]
        },
        {
          "output_type": "stream",
          "name": "stdout",
          "text": [
            "2025-10-14 20:19:26,405 INFO sqlalchemy.engine.Engine PRAGMA temp.table_info(\"sales\")\n"
          ]
        },
        {
          "output_type": "stream",
          "name": "stderr",
          "text": [
            "INFO:sqlalchemy.engine.Engine:PRAGMA temp.table_info(\"sales\")\n"
          ]
        },
        {
          "output_type": "stream",
          "name": "stdout",
          "text": [
            "2025-10-14 20:19:26,408 INFO sqlalchemy.engine.Engine [raw sql] ()\n"
          ]
        },
        {
          "output_type": "stream",
          "name": "stderr",
          "text": [
            "INFO:sqlalchemy.engine.Engine:[raw sql] ()\n"
          ]
        },
        {
          "output_type": "stream",
          "name": "stdout",
          "text": [
            "2025-10-14 20:19:26,413 INFO sqlalchemy.engine.Engine \n",
            "CREATE TABLE sales (\n",
            "\t\"Store_id\" BIGINT, \n",
            "\torder_reference BIGINT, \n",
            "\t\"Net_sale\" BIGINT, \n",
            "\t\"Date\" TEXT\n",
            ")\n",
            "\n",
            "\n"
          ]
        },
        {
          "output_type": "stream",
          "name": "stderr",
          "text": [
            "INFO:sqlalchemy.engine.Engine:\n",
            "CREATE TABLE sales (\n",
            "\t\"Store_id\" BIGINT, \n",
            "\torder_reference BIGINT, \n",
            "\t\"Net_sale\" BIGINT, \n",
            "\t\"Date\" TEXT\n",
            ")\n",
            "\n",
            "\n"
          ]
        },
        {
          "output_type": "stream",
          "name": "stdout",
          "text": [
            "2025-10-14 20:19:26,417 INFO sqlalchemy.engine.Engine [no key 0.00345s] ()\n"
          ]
        },
        {
          "output_type": "stream",
          "name": "stderr",
          "text": [
            "INFO:sqlalchemy.engine.Engine:[no key 0.00345s] ()\n"
          ]
        },
        {
          "output_type": "stream",
          "name": "stdout",
          "text": [
            "2025-10-14 20:19:26,428 INFO sqlalchemy.engine.Engine INSERT INTO sales (\"Store_id\", order_reference, \"Net_sale\", \"Date\") VALUES (?, ?, ?, ?)\n"
          ]
        },
        {
          "output_type": "stream",
          "name": "stderr",
          "text": [
            "INFO:sqlalchemy.engine.Engine:INSERT INTO sales (\"Store_id\", order_reference, \"Net_sale\", \"Date\") VALUES (?, ?, ?, ?)\n"
          ]
        },
        {
          "output_type": "stream",
          "name": "stdout",
          "text": [
            "2025-10-14 20:19:26,431 INFO sqlalchemy.engine.Engine [generated in 0.00296s] [(101, 1001, 250, '9/1/2025'), (102, 1002, 400, '9/1/2025'), (103, 1003, 150, '9/2/2025'), (101, 1004, 300, '9/2/2025'), (104, 1005, 200, '9/3/2025'), (102, 1006, 350, '9/3/2025'), (105, 1007, 500, '9/4/2025'), (101, 1008, 450, '9/5/2025'), (103, 1009, 120, '9/5/2025'), (104, 1010, 330, '9/6/2025')]\n"
          ]
        },
        {
          "output_type": "stream",
          "name": "stderr",
          "text": [
            "INFO:sqlalchemy.engine.Engine:[generated in 0.00296s] [(101, 1001, 250, '9/1/2025'), (102, 1002, 400, '9/1/2025'), (103, 1003, 150, '9/2/2025'), (101, 1004, 300, '9/2/2025'), (104, 1005, 200, '9/3/2025'), (102, 1006, 350, '9/3/2025'), (105, 1007, 500, '9/4/2025'), (101, 1008, 450, '9/5/2025'), (103, 1009, 120, '9/5/2025'), (104, 1010, 330, '9/6/2025')]\n"
          ]
        },
        {
          "output_type": "stream",
          "name": "stdout",
          "text": [
            "2025-10-14 20:19:26,436 INFO sqlalchemy.engine.Engine COMMIT\n"
          ]
        },
        {
          "output_type": "stream",
          "name": "stderr",
          "text": [
            "INFO:sqlalchemy.engine.Engine:COMMIT\n"
          ]
        },
        {
          "output_type": "execute_result",
          "data": {
            "text/plain": [
              "10"
            ]
          },
          "metadata": {},
          "execution_count": 6
        }
      ]
    },
    {
      "cell_type": "markdown",
      "metadata": {
        "id": "df36a1a4"
      },
      "source": [
        "To upload a file directly to your Colab environment:\n",
        "\n",
        "1.  Click on the folder icon on the left sidebar.\n",
        "2.  Click on the \"Upload to session storage\" icon (it looks like a file with an arrow pointing up).\n",
        "3.  Select the file from your computer.\n",
        "\n",
        "Once uploaded, the file will be available in the current session's storage. You can then access it by its filename (e.g., `ecommerce_sales_day_1.csv`) in your code. Keep in mind that these files are temporary and will be deleted when the session ends."
      ]
    },
    {
      "cell_type": "code",
      "source": [
        "# 4️⃣ Run an SQL query\n",
        "query = \"\"\"\n",
        "SELECT Date\n",
        "FROM sales\n",
        "LIMIT 2\n",
        "\"\"\"\n",
        "\n",
        "# Correct 2.x syntax — open a connection\n",
        "with engine.connect() as conn:\n",
        "    result = conn.execute(text(query))\n",
        "    top_products = pd.DataFrame(result.fetchall(), columns=result.keys())\n",
        "\n",
        "print(top_products)"
      ],
      "metadata": {
        "colab": {
          "base_uri": "https://localhost:8080/"
        },
        "id": "xI_NINIbU2t-",
        "outputId": "36f49362-53fd-4c8f-a1a4-78d2fef83e40"
      },
      "execution_count": 7,
      "outputs": [
        {
          "output_type": "stream",
          "name": "stdout",
          "text": [
            "2025-10-14 20:19:32,257 INFO sqlalchemy.engine.Engine BEGIN (implicit)\n"
          ]
        },
        {
          "output_type": "stream",
          "name": "stderr",
          "text": [
            "INFO:sqlalchemy.engine.Engine:BEGIN (implicit)\n"
          ]
        },
        {
          "output_type": "stream",
          "name": "stdout",
          "text": [
            "2025-10-14 20:19:32,259 INFO sqlalchemy.engine.Engine \n",
            "SELECT Date\n",
            "FROM sales\n",
            "LIMIT 2\n",
            "\n"
          ]
        },
        {
          "output_type": "stream",
          "name": "stderr",
          "text": [
            "INFO:sqlalchemy.engine.Engine:\n",
            "SELECT Date\n",
            "FROM sales\n",
            "LIMIT 2\n",
            "\n"
          ]
        },
        {
          "output_type": "stream",
          "name": "stdout",
          "text": [
            "2025-10-14 20:19:32,261 INFO sqlalchemy.engine.Engine [generated in 0.00425s] ()\n"
          ]
        },
        {
          "output_type": "stream",
          "name": "stderr",
          "text": [
            "INFO:sqlalchemy.engine.Engine:[generated in 0.00425s] ()\n"
          ]
        },
        {
          "output_type": "stream",
          "name": "stdout",
          "text": [
            "2025-10-14 20:19:32,266 INFO sqlalchemy.engine.Engine ROLLBACK\n"
          ]
        },
        {
          "output_type": "stream",
          "name": "stderr",
          "text": [
            "INFO:sqlalchemy.engine.Engine:ROLLBACK\n"
          ]
        },
        {
          "output_type": "stream",
          "name": "stdout",
          "text": [
            "       Date\n",
            "0  9/1/2025\n",
            "1  9/1/2025\n"
          ]
        }
      ]
    },
    {
      "cell_type": "code",
      "source": [
        "# 4️⃣ Run an SQL query to see the column netsale\n",
        "query = \"\"\"\n",
        "SELECT Net_Sale\n",
        "FROM sales\n",
        "\"\"\"\n",
        "\n",
        "# Correct 2.x syntax — open a connection\n",
        "with engine.connect() as conn:\n",
        "    result = conn.execute(text(query))\n",
        "    top_products = pd.DataFrame(result.fetchall(), columns=result.keys())\n",
        "\n",
        "print(top_products)"
      ],
      "metadata": {
        "colab": {
          "base_uri": "https://localhost:8080/"
        },
        "id": "V-lqkWcJW_zW",
        "outputId": "ce3b206b-4ed2-4d40-8637-8ac34639e12f"
      },
      "execution_count": null,
      "outputs": [
        {
          "output_type": "stream",
          "name": "stdout",
          "text": [
            "2025-10-13 21:16:55,658 INFO sqlalchemy.engine.Engine BEGIN (implicit)\n"
          ]
        },
        {
          "output_type": "stream",
          "name": "stderr",
          "text": [
            "INFO:sqlalchemy.engine.Engine:BEGIN (implicit)\n"
          ]
        },
        {
          "output_type": "stream",
          "name": "stdout",
          "text": [
            "2025-10-13 21:16:55,660 INFO sqlalchemy.engine.Engine \n",
            "SELECT Net_Sale\n",
            "FROM sales\n",
            "\n"
          ]
        },
        {
          "output_type": "stream",
          "name": "stderr",
          "text": [
            "INFO:sqlalchemy.engine.Engine:\n",
            "SELECT Net_Sale\n",
            "FROM sales\n",
            "\n"
          ]
        },
        {
          "output_type": "stream",
          "name": "stdout",
          "text": [
            "2025-10-13 21:16:55,661 INFO sqlalchemy.engine.Engine [generated in 0.00367s] ()\n"
          ]
        },
        {
          "output_type": "stream",
          "name": "stderr",
          "text": [
            "INFO:sqlalchemy.engine.Engine:[generated in 0.00367s] ()\n"
          ]
        },
        {
          "output_type": "stream",
          "name": "stdout",
          "text": [
            "2025-10-13 21:16:55,666 INFO sqlalchemy.engine.Engine ROLLBACK\n"
          ]
        },
        {
          "output_type": "stream",
          "name": "stderr",
          "text": [
            "INFO:sqlalchemy.engine.Engine:ROLLBACK\n"
          ]
        },
        {
          "output_type": "stream",
          "name": "stdout",
          "text": [
            "   Net_sale\n",
            "0       250\n",
            "1       400\n",
            "2       150\n",
            "3       300\n",
            "4       200\n",
            "5       350\n",
            "6       500\n",
            "7       450\n",
            "8       120\n",
            "9       330\n"
          ]
        }
      ]
    },
    {
      "cell_type": "code",
      "source": [
        "# 4️⃣ Run an SQL query for aggregate funtion on net sale\n",
        "query = \"\"\"\n",
        "SELECT sum(net_sale)\n",
        "FROM sales\n",
        "\"\"\"\n",
        "\n",
        "# Correct 2.x syntax — open a connection\n",
        "with engine.connect() as conn:\n",
        "    result = conn.execute(text(query))\n",
        "    top_products = pd.DataFrame(result.fetchall(), columns=result.keys())\n",
        "\n",
        "print(top_products)"
      ],
      "metadata": {
        "colab": {
          "base_uri": "https://localhost:8080/"
        },
        "id": "PWTkT1bhcko2",
        "outputId": "9ff6f34c-2a9e-424f-c958-9ad092754a26"
      },
      "execution_count": null,
      "outputs": [
        {
          "output_type": "stream",
          "name": "stdout",
          "text": [
            "2025-10-13 21:21:05,638 INFO sqlalchemy.engine.Engine BEGIN (implicit)\n"
          ]
        },
        {
          "output_type": "stream",
          "name": "stderr",
          "text": [
            "INFO:sqlalchemy.engine.Engine:BEGIN (implicit)\n"
          ]
        },
        {
          "output_type": "stream",
          "name": "stdout",
          "text": [
            "2025-10-13 21:21:05,641 INFO sqlalchemy.engine.Engine \n",
            "SELECT sum(net_sale)\n",
            "FROM sales\n",
            "\n"
          ]
        },
        {
          "output_type": "stream",
          "name": "stderr",
          "text": [
            "INFO:sqlalchemy.engine.Engine:\n",
            "SELECT sum(net_sale)\n",
            "FROM sales\n",
            "\n"
          ]
        },
        {
          "output_type": "stream",
          "name": "stdout",
          "text": [
            "2025-10-13 21:21:05,643 INFO sqlalchemy.engine.Engine [generated in 0.00452s] ()\n"
          ]
        },
        {
          "output_type": "stream",
          "name": "stderr",
          "text": [
            "INFO:sqlalchemy.engine.Engine:[generated in 0.00452s] ()\n"
          ]
        },
        {
          "output_type": "stream",
          "name": "stdout",
          "text": [
            "2025-10-13 21:21:05,645 INFO sqlalchemy.engine.Engine ROLLBACK\n"
          ]
        },
        {
          "output_type": "stream",
          "name": "stderr",
          "text": [
            "INFO:sqlalchemy.engine.Engine:ROLLBACK\n"
          ]
        },
        {
          "output_type": "stream",
          "name": "stdout",
          "text": [
            "   sum(net_sale)\n",
            "0           3050\n"
          ]
        }
      ]
    },
    {
      "cell_type": "code",
      "source": [
        "# 4️⃣ Run an SQL query for sum of net sale by store Id\n",
        "query = \"\"\"\n",
        "SELECT sum(net_sale), store_id\n",
        "FROM sales\n",
        "GROUP BY store_id\n",
        "\"\"\"\n",
        "\n",
        "# Correct 2.x syntax — open a connection\n",
        "with engine.connect() as conn:\n",
        "    result = conn.execute(text(query))\n",
        "    top_products = pd.DataFrame(result.fetchall(), columns=result.keys())\n",
        "\n",
        "print(top_products)"
      ],
      "metadata": {
        "colab": {
          "base_uri": "https://localhost:8080/"
        },
        "id": "ift5eNNQc-aN",
        "outputId": "c615fe8d-16e0-439d-b37f-a64eb1c03e10"
      },
      "execution_count": null,
      "outputs": [
        {
          "output_type": "stream",
          "name": "stdout",
          "text": [
            "2025-10-13 21:24:14,981 INFO sqlalchemy.engine.Engine BEGIN (implicit)\n"
          ]
        },
        {
          "output_type": "stream",
          "name": "stderr",
          "text": [
            "INFO:sqlalchemy.engine.Engine:BEGIN (implicit)\n"
          ]
        },
        {
          "output_type": "stream",
          "name": "stdout",
          "text": [
            "2025-10-13 21:24:14,985 INFO sqlalchemy.engine.Engine \n",
            "SELECT sum(net_sale), store_id\n",
            "FROM sales\n",
            "GROUP BY store_id\n",
            "\n"
          ]
        },
        {
          "output_type": "stream",
          "name": "stderr",
          "text": [
            "INFO:sqlalchemy.engine.Engine:\n",
            "SELECT sum(net_sale), store_id\n",
            "FROM sales\n",
            "GROUP BY store_id\n",
            "\n"
          ]
        },
        {
          "output_type": "stream",
          "name": "stdout",
          "text": [
            "2025-10-13 21:24:14,987 INFO sqlalchemy.engine.Engine [generated in 0.00578s] ()\n"
          ]
        },
        {
          "output_type": "stream",
          "name": "stderr",
          "text": [
            "INFO:sqlalchemy.engine.Engine:[generated in 0.00578s] ()\n"
          ]
        },
        {
          "output_type": "stream",
          "name": "stdout",
          "text": [
            "2025-10-13 21:24:14,990 INFO sqlalchemy.engine.Engine ROLLBACK\n"
          ]
        },
        {
          "output_type": "stream",
          "name": "stderr",
          "text": [
            "INFO:sqlalchemy.engine.Engine:ROLLBACK\n"
          ]
        },
        {
          "output_type": "stream",
          "name": "stdout",
          "text": [
            "   sum(net_sale)  Store_id\n",
            "0           1000       101\n",
            "1            750       102\n",
            "2            270       103\n",
            "3            530       104\n",
            "4            500       105\n"
          ]
        }
      ]
    },
    {
      "cell_type": "code",
      "source": [
        "# 4️⃣ Run an SQL query for sum of net sale by storeId sorted by storeId\n",
        "query = \"\"\"\n",
        "SELECT sum(net_sale), store_id\n",
        "FROM sales\n",
        "GROUP BY store_id\n",
        "ORDER BY sum(net_sale) DESC\n",
        "\"\"\"\n",
        "\n",
        "# Correct 2.x syntax — open a connection\n",
        "with engine.connect() as conn:\n",
        "    result = conn.execute(text(query))\n",
        "    top_products = pd.DataFrame(result.fetchall(), columns=result.keys())\n",
        "\n",
        "print(top_products)"
      ],
      "metadata": {
        "colab": {
          "base_uri": "https://localhost:8080/"
        },
        "id": "KZay6eBEdarX",
        "outputId": "9438601f-ab46-4143-e4c1-2e2414468da5"
      },
      "execution_count": null,
      "outputs": [
        {
          "output_type": "stream",
          "name": "stdout",
          "text": [
            "2025-10-13 21:30:15,675 INFO sqlalchemy.engine.Engine BEGIN (implicit)\n"
          ]
        },
        {
          "output_type": "stream",
          "name": "stderr",
          "text": [
            "INFO:sqlalchemy.engine.Engine:BEGIN (implicit)\n"
          ]
        },
        {
          "output_type": "stream",
          "name": "stdout",
          "text": [
            "2025-10-13 21:30:15,678 INFO sqlalchemy.engine.Engine \n",
            "SELECT sum(net_sale), store_id\n",
            "FROM sales\n",
            "GROUP BY store_id\n",
            "ORDER BY sum(net_sale) DESC\n",
            "\n"
          ]
        },
        {
          "output_type": "stream",
          "name": "stderr",
          "text": [
            "INFO:sqlalchemy.engine.Engine:\n",
            "SELECT sum(net_sale), store_id\n",
            "FROM sales\n",
            "GROUP BY store_id\n",
            "ORDER BY sum(net_sale) DESC\n",
            "\n"
          ]
        },
        {
          "output_type": "stream",
          "name": "stdout",
          "text": [
            "2025-10-13 21:30:15,680 INFO sqlalchemy.engine.Engine [generated in 0.00547s] ()\n"
          ]
        },
        {
          "output_type": "stream",
          "name": "stderr",
          "text": [
            "INFO:sqlalchemy.engine.Engine:[generated in 0.00547s] ()\n"
          ]
        },
        {
          "output_type": "stream",
          "name": "stdout",
          "text": [
            "2025-10-13 21:30:15,684 INFO sqlalchemy.engine.Engine ROLLBACK\n"
          ]
        },
        {
          "output_type": "stream",
          "name": "stderr",
          "text": [
            "INFO:sqlalchemy.engine.Engine:ROLLBACK\n"
          ]
        },
        {
          "output_type": "stream",
          "name": "stdout",
          "text": [
            "   sum(net_sale)  Store_id\n",
            "0           1000       101\n",
            "1            750       102\n",
            "2            530       104\n",
            "3            500       105\n",
            "4            270       103\n"
          ]
        }
      ]
    }
  ]
}