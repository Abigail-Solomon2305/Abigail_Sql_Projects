{
  "nbformat": 4,
  "nbformat_minor": 0,
  "metadata": {
    "colab": {
      "provenance": [],
      "authorship_tag": "ABX9TyOObP/oslu749hEmsRxJyV9",
      "include_colab_link": true
    },
    "kernelspec": {
      "name": "python3",
      "display_name": "Python 3"
    },
    "language_info": {
      "name": "python"
    }
  },
  "cells": [
    {
      "cell_type": "markdown",
      "metadata": {
        "id": "view-in-github",
        "colab_type": "text"
      },
      "source": [
        "<a href=\"https://colab.research.google.com/github/Abigail-Solomon2305/Abigail_Sql_Projects/blob/main/Inventory_Analysis.ipynb\" target=\"_parent\"><img src=\"https://colab.research.google.com/assets/colab-badge.svg\" alt=\"Open In Colab\"/></a>"
      ]
    },
    {
      "cell_type": "code",
      "execution_count": null,
      "metadata": {
        "colab": {
          "base_uri": "https://localhost:8080/",
          "height": 73
        },
        "id": "vGZtLU-7QsrN",
        "outputId": "f61d7a81-5141-4c2b-ba7a-47725c3c6b0a"
      },
      "outputs": [
        {
          "output_type": "display_data",
          "data": {
            "text/plain": [
              "<IPython.core.display.HTML object>"
            ],
            "text/html": [
              "\n",
              "     <input type=\"file\" id=\"files-909f84fb-e970-4ef3-9f5e-4681e16b23a9\" name=\"files[]\" multiple disabled\n",
              "        style=\"border:none\" />\n",
              "     <output id=\"result-909f84fb-e970-4ef3-9f5e-4681e16b23a9\">\n",
              "      Upload widget is only available when the cell has been executed in the\n",
              "      current browser session. Please rerun this cell to enable.\n",
              "      </output>\n",
              "      <script>// Copyright 2017 Google LLC\n",
              "//\n",
              "// Licensed under the Apache License, Version 2.0 (the \"License\");\n",
              "// you may not use this file except in compliance with the License.\n",
              "// You may obtain a copy of the License at\n",
              "//\n",
              "//      http://www.apache.org/licenses/LICENSE-2.0\n",
              "//\n",
              "// Unless required by applicable law or agreed to in writing, software\n",
              "// distributed under the License is distributed on an \"AS IS\" BASIS,\n",
              "// WITHOUT WARRANTIES OR CONDITIONS OF ANY KIND, either express or implied.\n",
              "// See the License for the specific language governing permissions and\n",
              "// limitations under the License.\n",
              "\n",
              "/**\n",
              " * @fileoverview Helpers for google.colab Python module.\n",
              " */\n",
              "(function(scope) {\n",
              "function span(text, styleAttributes = {}) {\n",
              "  const element = document.createElement('span');\n",
              "  element.textContent = text;\n",
              "  for (const key of Object.keys(styleAttributes)) {\n",
              "    element.style[key] = styleAttributes[key];\n",
              "  }\n",
              "  return element;\n",
              "}\n",
              "\n",
              "// Max number of bytes which will be uploaded at a time.\n",
              "const MAX_PAYLOAD_SIZE = 100 * 1024;\n",
              "\n",
              "function _uploadFiles(inputId, outputId) {\n",
              "  const steps = uploadFilesStep(inputId, outputId);\n",
              "  const outputElement = document.getElementById(outputId);\n",
              "  // Cache steps on the outputElement to make it available for the next call\n",
              "  // to uploadFilesContinue from Python.\n",
              "  outputElement.steps = steps;\n",
              "\n",
              "  return _uploadFilesContinue(outputId);\n",
              "}\n",
              "\n",
              "// This is roughly an async generator (not supported in the browser yet),\n",
              "// where there are multiple asynchronous steps and the Python side is going\n",
              "// to poll for completion of each step.\n",
              "// This uses a Promise to block the python side on completion of each step,\n",
              "// then passes the result of the previous step as the input to the next step.\n",
              "function _uploadFilesContinue(outputId) {\n",
              "  const outputElement = document.getElementById(outputId);\n",
              "  const steps = outputElement.steps;\n",
              "\n",
              "  const next = steps.next(outputElement.lastPromiseValue);\n",
              "  return Promise.resolve(next.value.promise).then((value) => {\n",
              "    // Cache the last promise value to make it available to the next\n",
              "    // step of the generator.\n",
              "    outputElement.lastPromiseValue = value;\n",
              "    return next.value.response;\n",
              "  });\n",
              "}\n",
              "\n",
              "/**\n",
              " * Generator function which is called between each async step of the upload\n",
              " * process.\n",
              " * @param {string} inputId Element ID of the input file picker element.\n",
              " * @param {string} outputId Element ID of the output display.\n",
              " * @return {!Iterable<!Object>} Iterable of next steps.\n",
              " */\n",
              "function* uploadFilesStep(inputId, outputId) {\n",
              "  const inputElement = document.getElementById(inputId);\n",
              "  inputElement.disabled = false;\n",
              "\n",
              "  const outputElement = document.getElementById(outputId);\n",
              "  outputElement.innerHTML = '';\n",
              "\n",
              "  const pickedPromise = new Promise((resolve) => {\n",
              "    inputElement.addEventListener('change', (e) => {\n",
              "      resolve(e.target.files);\n",
              "    });\n",
              "  });\n",
              "\n",
              "  const cancel = document.createElement('button');\n",
              "  inputElement.parentElement.appendChild(cancel);\n",
              "  cancel.textContent = 'Cancel upload';\n",
              "  const cancelPromise = new Promise((resolve) => {\n",
              "    cancel.onclick = () => {\n",
              "      resolve(null);\n",
              "    };\n",
              "  });\n",
              "\n",
              "  // Wait for the user to pick the files.\n",
              "  const files = yield {\n",
              "    promise: Promise.race([pickedPromise, cancelPromise]),\n",
              "    response: {\n",
              "      action: 'starting',\n",
              "    }\n",
              "  };\n",
              "\n",
              "  cancel.remove();\n",
              "\n",
              "  // Disable the input element since further picks are not allowed.\n",
              "  inputElement.disabled = true;\n",
              "\n",
              "  if (!files) {\n",
              "    return {\n",
              "      response: {\n",
              "        action: 'complete',\n",
              "      }\n",
              "    };\n",
              "  }\n",
              "\n",
              "  for (const file of files) {\n",
              "    const li = document.createElement('li');\n",
              "    li.append(span(file.name, {fontWeight: 'bold'}));\n",
              "    li.append(span(\n",
              "        `(${file.type || 'n/a'}) - ${file.size} bytes, ` +\n",
              "        `last modified: ${\n",
              "            file.lastModifiedDate ? file.lastModifiedDate.toLocaleDateString() :\n",
              "                                    'n/a'} - `));\n",
              "    const percent = span('0% done');\n",
              "    li.appendChild(percent);\n",
              "\n",
              "    outputElement.appendChild(li);\n",
              "\n",
              "    const fileDataPromise = new Promise((resolve) => {\n",
              "      const reader = new FileReader();\n",
              "      reader.onload = (e) => {\n",
              "        resolve(e.target.result);\n",
              "      };\n",
              "      reader.readAsArrayBuffer(file);\n",
              "    });\n",
              "    // Wait for the data to be ready.\n",
              "    let fileData = yield {\n",
              "      promise: fileDataPromise,\n",
              "      response: {\n",
              "        action: 'continue',\n",
              "      }\n",
              "    };\n",
              "\n",
              "    // Use a chunked sending to avoid message size limits. See b/62115660.\n",
              "    let position = 0;\n",
              "    do {\n",
              "      const length = Math.min(fileData.byteLength - position, MAX_PAYLOAD_SIZE);\n",
              "      const chunk = new Uint8Array(fileData, position, length);\n",
              "      position += length;\n",
              "\n",
              "      const base64 = btoa(String.fromCharCode.apply(null, chunk));\n",
              "      yield {\n",
              "        response: {\n",
              "          action: 'append',\n",
              "          file: file.name,\n",
              "          data: base64,\n",
              "        },\n",
              "      };\n",
              "\n",
              "      let percentDone = fileData.byteLength === 0 ?\n",
              "          100 :\n",
              "          Math.round((position / fileData.byteLength) * 100);\n",
              "      percent.textContent = `${percentDone}% done`;\n",
              "\n",
              "    } while (position < fileData.byteLength);\n",
              "  }\n",
              "\n",
              "  // All done.\n",
              "  yield {\n",
              "    response: {\n",
              "      action: 'complete',\n",
              "    }\n",
              "  };\n",
              "}\n",
              "\n",
              "scope.google = scope.google || {};\n",
              "scope.google.colab = scope.google.colab || {};\n",
              "scope.google.colab._files = {\n",
              "  _uploadFiles,\n",
              "  _uploadFilesContinue,\n",
              "};\n",
              "})(self);\n",
              "</script> "
            ]
          },
          "metadata": {}
        },
        {
          "output_type": "stream",
          "name": "stdout",
          "text": [
            "Saving Grocery_Inventory_and_Sales_Dataset.csv to Grocery_Inventory_and_Sales_Dataset.csv\n"
          ]
        }
      ],
      "source": [
        "# Abigail\n",
        "# imported and loaded libaries\n",
        "import pandas as pd\n",
        "from sqlalchemy import create_engine, text\n",
        "\n",
        "from google.colab import files\n",
        "uploaded = files.upload()"
      ]
    },
    {
      "cell_type": "code",
      "source": [
        "\n",
        "import numpy as py\n",
        "import matplotlib.pyplot as plt\n",
        "import seaborn as sns\n"
      ],
      "metadata": {
        "id": "GEOpCBGqSms4"
      },
      "execution_count": null,
      "outputs": []
    },
    {
      "cell_type": "code",
      "source": [
        "# 1️⃣ Load dataset\n",
        "df = pd.read_csv(\"Grocery_Inventory_and_Sales_Dataset.csv\")"
      ],
      "metadata": {
        "id": "JslvW2MNSMjf"
      },
      "execution_count": null,
      "outputs": []
    },
    {
      "cell_type": "code",
      "source": [
        "\n",
        "# 2️⃣ Create in-memory SQLite database (use 'sqlite:///my.db' to save to disk)\n",
        "engine = create_engine('sqlite://', echo=True)\n",
        "\n",
        "# 3️⃣ Write DataFrame to SQL\n",
        "df.to_sql('Inventory', con=engine, index=False, if_exists='replace')\n"
      ],
      "metadata": {
        "colab": {
          "base_uri": "https://localhost:8080/"
        },
        "id": "_uoH16gAYSiF",
        "outputId": "c11105f0-0bb0-4d4a-957b-75ada6925a39",
        "collapsed": true
      },
      "execution_count": null,
      "outputs": [
        {
          "output_type": "stream",
          "name": "stdout",
          "text": [
            "2025-10-16 19:54:55,430 INFO sqlalchemy.engine.Engine BEGIN (implicit)\n"
          ]
        },
        {
          "output_type": "stream",
          "name": "stderr",
          "text": [
            "INFO:sqlalchemy.engine.Engine:BEGIN (implicit)\n"
          ]
        },
        {
          "output_type": "stream",
          "name": "stdout",
          "text": [
            "2025-10-16 19:54:55,437 INFO sqlalchemy.engine.Engine PRAGMA main.table_info(\"Inventory\")\n"
          ]
        },
        {
          "output_type": "stream",
          "name": "stderr",
          "text": [
            "INFO:sqlalchemy.engine.Engine:PRAGMA main.table_info(\"Inventory\")\n"
          ]
        },
        {
          "output_type": "stream",
          "name": "stdout",
          "text": [
            "2025-10-16 19:54:55,438 INFO sqlalchemy.engine.Engine [raw sql] ()\n"
          ]
        },
        {
          "output_type": "stream",
          "name": "stderr",
          "text": [
            "INFO:sqlalchemy.engine.Engine:[raw sql] ()\n"
          ]
        },
        {
          "output_type": "stream",
          "name": "stdout",
          "text": [
            "2025-10-16 19:54:55,441 INFO sqlalchemy.engine.Engine PRAGMA temp.table_info(\"Inventory\")\n"
          ]
        },
        {
          "output_type": "stream",
          "name": "stderr",
          "text": [
            "INFO:sqlalchemy.engine.Engine:PRAGMA temp.table_info(\"Inventory\")\n"
          ]
        },
        {
          "output_type": "stream",
          "name": "stdout",
          "text": [
            "2025-10-16 19:54:55,443 INFO sqlalchemy.engine.Engine [raw sql] ()\n"
          ]
        },
        {
          "output_type": "stream",
          "name": "stderr",
          "text": [
            "INFO:sqlalchemy.engine.Engine:[raw sql] ()\n"
          ]
        },
        {
          "output_type": "stream",
          "name": "stdout",
          "text": [
            "2025-10-16 19:54:55,449 INFO sqlalchemy.engine.Engine \n",
            "CREATE TABLE \"Inventory\" (\n",
            "\t\"Product_ID\" TEXT, \n",
            "\t\"Product_Name\" TEXT, \n",
            "\t\"Catagory\" TEXT, \n",
            "\t\"Supplier_ID\" TEXT, \n",
            "\t\"Supplier_Name\" TEXT, \n",
            "\t\"Stock_Quantity\" BIGINT, \n",
            "\t\"Reorder_Level\" BIGINT, \n",
            "\t\"Reorder_Quantity\" BIGINT, \n",
            "\t\"Unit_Price\" TEXT, \n",
            "\t\"Date_Received\" TEXT, \n",
            "\t\"Last_Order_Date\" TEXT, \n",
            "\t\"Expiration_Date\" TEXT, \n",
            "\t\"Warehouse_Location\" TEXT, \n",
            "\t\"Sales_Volume\" BIGINT, \n",
            "\t\"Inventory_Turnover_Rate\" BIGINT, \n",
            "\t\"Status\" TEXT\n",
            ")\n",
            "\n",
            "\n"
          ]
        },
        {
          "output_type": "stream",
          "name": "stderr",
          "text": [
            "INFO:sqlalchemy.engine.Engine:\n",
            "CREATE TABLE \"Inventory\" (\n",
            "\t\"Product_ID\" TEXT, \n",
            "\t\"Product_Name\" TEXT, \n",
            "\t\"Catagory\" TEXT, \n",
            "\t\"Supplier_ID\" TEXT, \n",
            "\t\"Supplier_Name\" TEXT, \n",
            "\t\"Stock_Quantity\" BIGINT, \n",
            "\t\"Reorder_Level\" BIGINT, \n",
            "\t\"Reorder_Quantity\" BIGINT, \n",
            "\t\"Unit_Price\" TEXT, \n",
            "\t\"Date_Received\" TEXT, \n",
            "\t\"Last_Order_Date\" TEXT, \n",
            "\t\"Expiration_Date\" TEXT, \n",
            "\t\"Warehouse_Location\" TEXT, \n",
            "\t\"Sales_Volume\" BIGINT, \n",
            "\t\"Inventory_Turnover_Rate\" BIGINT, \n",
            "\t\"Status\" TEXT\n",
            ")\n",
            "\n",
            "\n"
          ]
        },
        {
          "output_type": "stream",
          "name": "stdout",
          "text": [
            "2025-10-16 19:54:55,451 INFO sqlalchemy.engine.Engine [no key 0.00192s] ()\n"
          ]
        },
        {
          "output_type": "stream",
          "name": "stderr",
          "text": [
            "INFO:sqlalchemy.engine.Engine:[no key 0.00192s] ()\n"
          ]
        },
        {
          "output_type": "stream",
          "name": "stdout",
          "text": [
            "2025-10-16 19:54:55,472 INFO sqlalchemy.engine.Engine INSERT INTO \"Inventory\" (\"Product_ID\", \"Product_Name\", \"Catagory\", \"Supplier_ID\", \"Supplier_Name\", \"Stock_Quantity\", \"Reorder_Level\", \"Reorder_Quantity\", \"Unit_Price\", \"Date_Received\", \"Last_Order_Date\", \"Expiration_Date\", \"Warehouse_Location\", \"Sales_Volume\", \"Inventory_Turnover_Rate\", \"Status\") VALUES (?, ?, ?, ?, ?, ?, ?, ?, ?, ?, ?, ?, ?, ?, ?, ?)\n"
          ]
        },
        {
          "output_type": "stream",
          "name": "stderr",
          "text": [
            "INFO:sqlalchemy.engine.Engine:INSERT INTO \"Inventory\" (\"Product_ID\", \"Product_Name\", \"Catagory\", \"Supplier_ID\", \"Supplier_Name\", \"Stock_Quantity\", \"Reorder_Level\", \"Reorder_Quantity\", \"Unit_Price\", \"Date_Received\", \"Last_Order_Date\", \"Expiration_Date\", \"Warehouse_Location\", \"Sales_Volume\", \"Inventory_Turnover_Rate\", \"Status\") VALUES (?, ?, ?, ?, ?, ?, ?, ?, ?, ?, ?, ?, ?, ?, ?, ?)\n"
          ]
        },
        {
          "output_type": "stream",
          "name": "stdout",
          "text": [
            "2025-10-16 19:54:55,475 INFO sqlalchemy.engine.Engine [generated in 0.01018s] [('29-205-1132', 'Sushi Rice', 'Grains & Pulses', '38-037-1699', 'Jaxnation', 22, 72, 70, '$4.50 ', '8/16/2024', '6/29/2024', '9/19/2024', '48 Del Sol Trail', 32, 19, 'Discontinued'), ('40-681-9981', 'Arabica Coffee', 'Beverages', '54-470-2479', 'Feedmix', 45, 77, 2, '$20.00 ', '11/1/2024', '5/29/2024', '5/8/2024', '36 3rd Place', 85, 1, 'Discontinued'), ('06-955-3428', 'Black Rice', 'Grains & Pulses', '54-031-2945', 'Vinder', 30, 38, 83, '$6.00 ', '8/3/2024', '6/10/2024', '9/22/2024', '3296 Walton Court', 31, 34, 'Backordered'), ('71-594-6552', 'Long Grain Rice', 'Grains & Pulses', '63-492-7603', 'Brightbean', 12, 59, 62, '$1.50 ', '12/8/2024', '2/19/2025', '4/17/2024', '3 Westerfield Crossing', 95, 99, 'Active'), ('57-437-1828', 'Plum', 'Fruits & Vegetables', '54-226-4308', 'Topicstorm', 37, 30, 74, '$4.00 ', '7/3/2024', '10/11/2024', '10/5/2024', '15068 Scoville Court', 62, 25, 'Backordered'), ('21-120-6238', 'All-Purpose Flour', 'Grains & Pulses', '86-292-4587', 'Dabjam', 55, 33, 14, '$1.75 ', '12/3/2024', '5/26/2024', '9/5/2024', '050 Mcbride Avenue', 34, 62, 'Discontinued'), ('71-516-1996', 'Corn Oil', 'Oils & Fats', '04-391-7610', 'Tagfeed', 96, 52, 16, '$2.50 ', '3/18/2024', '5/7/2024', '6/20/2024', '12 Truax Court', 67, 13, 'Active'), ('39-629-5554', 'Egg (Goose)', 'Dairy', '67-679-4930', 'Muxo', 44, 90, 17, '$2.50 ', '2/3/2025', '4/9/2024', '2/5/2025', '267 International Plaza', 21, 91, 'Discontinued')  ... displaying 10 of 990 total bound parameter sets ...  ('86-692-2312', 'Avocado Oil', 'Oils & Fats', '77-783-4107', 'Dazzlesphere', 30, 48, 52, '$10.00 ', '6/11/2024', '12/7/2024', '4/30/2024', '00616 Manitowish Parkway', 22, 78, 'Active'), ('28-044-4102', 'Papaya', 'Fruits & Vegetables', '93-358-1118', 'Yakijo', 19, 28, 83, '$4.50 ', '11/26/2024', '3/1/2024', '8/27/2024', '309 Burning Wood Center', 91, 73, 'Discontinued')]\n"
          ]
        },
        {
          "output_type": "stream",
          "name": "stderr",
          "text": [
            "INFO:sqlalchemy.engine.Engine:[generated in 0.01018s] [('29-205-1132', 'Sushi Rice', 'Grains & Pulses', '38-037-1699', 'Jaxnation', 22, 72, 70, '$4.50 ', '8/16/2024', '6/29/2024', '9/19/2024', '48 Del Sol Trail', 32, 19, 'Discontinued'), ('40-681-9981', 'Arabica Coffee', 'Beverages', '54-470-2479', 'Feedmix', 45, 77, 2, '$20.00 ', '11/1/2024', '5/29/2024', '5/8/2024', '36 3rd Place', 85, 1, 'Discontinued'), ('06-955-3428', 'Black Rice', 'Grains & Pulses', '54-031-2945', 'Vinder', 30, 38, 83, '$6.00 ', '8/3/2024', '6/10/2024', '9/22/2024', '3296 Walton Court', 31, 34, 'Backordered'), ('71-594-6552', 'Long Grain Rice', 'Grains & Pulses', '63-492-7603', 'Brightbean', 12, 59, 62, '$1.50 ', '12/8/2024', '2/19/2025', '4/17/2024', '3 Westerfield Crossing', 95, 99, 'Active'), ('57-437-1828', 'Plum', 'Fruits & Vegetables', '54-226-4308', 'Topicstorm', 37, 30, 74, '$4.00 ', '7/3/2024', '10/11/2024', '10/5/2024', '15068 Scoville Court', 62, 25, 'Backordered'), ('21-120-6238', 'All-Purpose Flour', 'Grains & Pulses', '86-292-4587', 'Dabjam', 55, 33, 14, '$1.75 ', '12/3/2024', '5/26/2024', '9/5/2024', '050 Mcbride Avenue', 34, 62, 'Discontinued'), ('71-516-1996', 'Corn Oil', 'Oils & Fats', '04-391-7610', 'Tagfeed', 96, 52, 16, '$2.50 ', '3/18/2024', '5/7/2024', '6/20/2024', '12 Truax Court', 67, 13, 'Active'), ('39-629-5554', 'Egg (Goose)', 'Dairy', '67-679-4930', 'Muxo', 44, 90, 17, '$2.50 ', '2/3/2025', '4/9/2024', '2/5/2025', '267 International Plaza', 21, 91, 'Discontinued')  ... displaying 10 of 990 total bound parameter sets ...  ('86-692-2312', 'Avocado Oil', 'Oils & Fats', '77-783-4107', 'Dazzlesphere', 30, 48, 52, '$10.00 ', '6/11/2024', '12/7/2024', '4/30/2024', '00616 Manitowish Parkway', 22, 78, 'Active'), ('28-044-4102', 'Papaya', 'Fruits & Vegetables', '93-358-1118', 'Yakijo', 19, 28, 83, '$4.50 ', '11/26/2024', '3/1/2024', '8/27/2024', '309 Burning Wood Center', 91, 73, 'Discontinued')]\n"
          ]
        },
        {
          "output_type": "stream",
          "name": "stdout",
          "text": [
            "2025-10-16 19:54:55,486 INFO sqlalchemy.engine.Engine SELECT name FROM sqlite_master WHERE type='table' AND name NOT LIKE 'sqlite~_%' ESCAPE '~' ORDER BY name\n"
          ]
        },
        {
          "output_type": "stream",
          "name": "stderr",
          "text": [
            "INFO:sqlalchemy.engine.Engine:SELECT name FROM sqlite_master WHERE type='table' AND name NOT LIKE 'sqlite~_%' ESCAPE '~' ORDER BY name\n"
          ]
        },
        {
          "output_type": "stream",
          "name": "stdout",
          "text": [
            "2025-10-16 19:54:55,487 INFO sqlalchemy.engine.Engine [raw sql] ()\n"
          ]
        },
        {
          "output_type": "stream",
          "name": "stderr",
          "text": [
            "INFO:sqlalchemy.engine.Engine:[raw sql] ()\n"
          ]
        },
        {
          "output_type": "stream",
          "name": "stdout",
          "text": [
            "2025-10-16 19:54:55,490 INFO sqlalchemy.engine.Engine COMMIT\n"
          ]
        },
        {
          "output_type": "stream",
          "name": "stderr",
          "text": [
            "INFO:sqlalchemy.engine.Engine:COMMIT\n"
          ]
        },
        {
          "output_type": "execute_result",
          "data": {
            "text/plain": [
              "990"
            ]
          },
          "metadata": {},
          "execution_count": 7
        }
      ]
    },
    {
      "cell_type": "code",
      "source": [
        "# querying the data with panda to find what it is carrying\n",
        "df.head()"
      ],
      "metadata": {
        "colab": {
          "base_uri": "https://localhost:8080/",
          "height": 313
        },
        "id": "KvEhpY5FTu8B",
        "outputId": "31a5eb54-a055-4d9e-a13e-e507ed1988ad",
        "collapsed": true
      },
      "execution_count": null,
      "outputs": [
        {
          "output_type": "execute_result",
          "data": {
            "text/plain": [
              "    Product_ID     Product_Name             Catagory  Supplier_ID  \\\n",
              "0  29-205-1132       Sushi Rice      Grains & Pulses  38-037-1699   \n",
              "1  40-681-9981   Arabica Coffee            Beverages  54-470-2479   \n",
              "2  06-955-3428       Black Rice      Grains & Pulses  54-031-2945   \n",
              "3  71-594-6552  Long Grain Rice      Grains & Pulses  63-492-7603   \n",
              "4  57-437-1828             Plum  Fruits & Vegetables  54-226-4308   \n",
              "\n",
              "  Supplier_Name  Stock_Quantity  Reorder_Level  Reorder_Quantity Unit_Price  \\\n",
              "0     Jaxnation              22             72                70     $4.50    \n",
              "1       Feedmix              45             77                 2    $20.00    \n",
              "2        Vinder              30             38                83     $6.00    \n",
              "3    Brightbean              12             59                62     $1.50    \n",
              "4    Topicstorm              37             30                74     $4.00    \n",
              "\n",
              "  Date_Received Last_Order_Date Expiration_Date      Warehouse_Location  \\\n",
              "0     8/16/2024       6/29/2024       9/19/2024        48 Del Sol Trail   \n",
              "1     11/1/2024       5/29/2024        5/8/2024            36 3rd Place   \n",
              "2      8/3/2024       6/10/2024       9/22/2024       3296 Walton Court   \n",
              "3     12/8/2024       2/19/2025       4/17/2024  3 Westerfield Crossing   \n",
              "4      7/3/2024      10/11/2024       10/5/2024    15068 Scoville Court   \n",
              "\n",
              "   Sales_Volume  Inventory_Turnover_Rate        Status  \n",
              "0            32                       19  Discontinued  \n",
              "1            85                        1  Discontinued  \n",
              "2            31                       34   Backordered  \n",
              "3            95                       99        Active  \n",
              "4            62                       25   Backordered  "
            ],
            "text/html": [
              "\n",
              "  <div id=\"df-c64c027f-1703-45bc-8b3a-dd932f75b30e\" class=\"colab-df-container\">\n",
              "    <div>\n",
              "<style scoped>\n",
              "    .dataframe tbody tr th:only-of-type {\n",
              "        vertical-align: middle;\n",
              "    }\n",
              "\n",
              "    .dataframe tbody tr th {\n",
              "        vertical-align: top;\n",
              "    }\n",
              "\n",
              "    .dataframe thead th {\n",
              "        text-align: right;\n",
              "    }\n",
              "</style>\n",
              "<table border=\"1\" class=\"dataframe\">\n",
              "  <thead>\n",
              "    <tr style=\"text-align: right;\">\n",
              "      <th></th>\n",
              "      <th>Product_ID</th>\n",
              "      <th>Product_Name</th>\n",
              "      <th>Catagory</th>\n",
              "      <th>Supplier_ID</th>\n",
              "      <th>Supplier_Name</th>\n",
              "      <th>Stock_Quantity</th>\n",
              "      <th>Reorder_Level</th>\n",
              "      <th>Reorder_Quantity</th>\n",
              "      <th>Unit_Price</th>\n",
              "      <th>Date_Received</th>\n",
              "      <th>Last_Order_Date</th>\n",
              "      <th>Expiration_Date</th>\n",
              "      <th>Warehouse_Location</th>\n",
              "      <th>Sales_Volume</th>\n",
              "      <th>Inventory_Turnover_Rate</th>\n",
              "      <th>Status</th>\n",
              "    </tr>\n",
              "  </thead>\n",
              "  <tbody>\n",
              "    <tr>\n",
              "      <th>0</th>\n",
              "      <td>29-205-1132</td>\n",
              "      <td>Sushi Rice</td>\n",
              "      <td>Grains &amp; Pulses</td>\n",
              "      <td>38-037-1699</td>\n",
              "      <td>Jaxnation</td>\n",
              "      <td>22</td>\n",
              "      <td>72</td>\n",
              "      <td>70</td>\n",
              "      <td>$4.50</td>\n",
              "      <td>8/16/2024</td>\n",
              "      <td>6/29/2024</td>\n",
              "      <td>9/19/2024</td>\n",
              "      <td>48 Del Sol Trail</td>\n",
              "      <td>32</td>\n",
              "      <td>19</td>\n",
              "      <td>Discontinued</td>\n",
              "    </tr>\n",
              "    <tr>\n",
              "      <th>1</th>\n",
              "      <td>40-681-9981</td>\n",
              "      <td>Arabica Coffee</td>\n",
              "      <td>Beverages</td>\n",
              "      <td>54-470-2479</td>\n",
              "      <td>Feedmix</td>\n",
              "      <td>45</td>\n",
              "      <td>77</td>\n",
              "      <td>2</td>\n",
              "      <td>$20.00</td>\n",
              "      <td>11/1/2024</td>\n",
              "      <td>5/29/2024</td>\n",
              "      <td>5/8/2024</td>\n",
              "      <td>36 3rd Place</td>\n",
              "      <td>85</td>\n",
              "      <td>1</td>\n",
              "      <td>Discontinued</td>\n",
              "    </tr>\n",
              "    <tr>\n",
              "      <th>2</th>\n",
              "      <td>06-955-3428</td>\n",
              "      <td>Black Rice</td>\n",
              "      <td>Grains &amp; Pulses</td>\n",
              "      <td>54-031-2945</td>\n",
              "      <td>Vinder</td>\n",
              "      <td>30</td>\n",
              "      <td>38</td>\n",
              "      <td>83</td>\n",
              "      <td>$6.00</td>\n",
              "      <td>8/3/2024</td>\n",
              "      <td>6/10/2024</td>\n",
              "      <td>9/22/2024</td>\n",
              "      <td>3296 Walton Court</td>\n",
              "      <td>31</td>\n",
              "      <td>34</td>\n",
              "      <td>Backordered</td>\n",
              "    </tr>\n",
              "    <tr>\n",
              "      <th>3</th>\n",
              "      <td>71-594-6552</td>\n",
              "      <td>Long Grain Rice</td>\n",
              "      <td>Grains &amp; Pulses</td>\n",
              "      <td>63-492-7603</td>\n",
              "      <td>Brightbean</td>\n",
              "      <td>12</td>\n",
              "      <td>59</td>\n",
              "      <td>62</td>\n",
              "      <td>$1.50</td>\n",
              "      <td>12/8/2024</td>\n",
              "      <td>2/19/2025</td>\n",
              "      <td>4/17/2024</td>\n",
              "      <td>3 Westerfield Crossing</td>\n",
              "      <td>95</td>\n",
              "      <td>99</td>\n",
              "      <td>Active</td>\n",
              "    </tr>\n",
              "    <tr>\n",
              "      <th>4</th>\n",
              "      <td>57-437-1828</td>\n",
              "      <td>Plum</td>\n",
              "      <td>Fruits &amp; Vegetables</td>\n",
              "      <td>54-226-4308</td>\n",
              "      <td>Topicstorm</td>\n",
              "      <td>37</td>\n",
              "      <td>30</td>\n",
              "      <td>74</td>\n",
              "      <td>$4.00</td>\n",
              "      <td>7/3/2024</td>\n",
              "      <td>10/11/2024</td>\n",
              "      <td>10/5/2024</td>\n",
              "      <td>15068 Scoville Court</td>\n",
              "      <td>62</td>\n",
              "      <td>25</td>\n",
              "      <td>Backordered</td>\n",
              "    </tr>\n",
              "  </tbody>\n",
              "</table>\n",
              "</div>\n",
              "    <div class=\"colab-df-buttons\">\n",
              "\n",
              "  <div class=\"colab-df-container\">\n",
              "    <button class=\"colab-df-convert\" onclick=\"convertToInteractive('df-c64c027f-1703-45bc-8b3a-dd932f75b30e')\"\n",
              "            title=\"Convert this dataframe to an interactive table.\"\n",
              "            style=\"display:none;\">\n",
              "\n",
              "  <svg xmlns=\"http://www.w3.org/2000/svg\" height=\"24px\" viewBox=\"0 -960 960 960\">\n",
              "    <path d=\"M120-120v-720h720v720H120Zm60-500h600v-160H180v160Zm220 220h160v-160H400v160Zm0 220h160v-160H400v160ZM180-400h160v-160H180v160Zm440 0h160v-160H620v160ZM180-180h160v-160H180v160Zm440 0h160v-160H620v160Z\"/>\n",
              "  </svg>\n",
              "    </button>\n",
              "\n",
              "  <style>\n",
              "    .colab-df-container {\n",
              "      display:flex;\n",
              "      gap: 12px;\n",
              "    }\n",
              "\n",
              "    .colab-df-convert {\n",
              "      background-color: #E8F0FE;\n",
              "      border: none;\n",
              "      border-radius: 50%;\n",
              "      cursor: pointer;\n",
              "      display: none;\n",
              "      fill: #1967D2;\n",
              "      height: 32px;\n",
              "      padding: 0 0 0 0;\n",
              "      width: 32px;\n",
              "    }\n",
              "\n",
              "    .colab-df-convert:hover {\n",
              "      background-color: #E2EBFA;\n",
              "      box-shadow: 0px 1px 2px rgba(60, 64, 67, 0.3), 0px 1px 3px 1px rgba(60, 64, 67, 0.15);\n",
              "      fill: #174EA6;\n",
              "    }\n",
              "\n",
              "    .colab-df-buttons div {\n",
              "      margin-bottom: 4px;\n",
              "    }\n",
              "\n",
              "    [theme=dark] .colab-df-convert {\n",
              "      background-color: #3B4455;\n",
              "      fill: #D2E3FC;\n",
              "    }\n",
              "\n",
              "    [theme=dark] .colab-df-convert:hover {\n",
              "      background-color: #434B5C;\n",
              "      box-shadow: 0px 1px 3px 1px rgba(0, 0, 0, 0.15);\n",
              "      filter: drop-shadow(0px 1px 2px rgba(0, 0, 0, 0.3));\n",
              "      fill: #FFFFFF;\n",
              "    }\n",
              "  </style>\n",
              "\n",
              "    <script>\n",
              "      const buttonEl =\n",
              "        document.querySelector('#df-c64c027f-1703-45bc-8b3a-dd932f75b30e button.colab-df-convert');\n",
              "      buttonEl.style.display =\n",
              "        google.colab.kernel.accessAllowed ? 'block' : 'none';\n",
              "\n",
              "      async function convertToInteractive(key) {\n",
              "        const element = document.querySelector('#df-c64c027f-1703-45bc-8b3a-dd932f75b30e');\n",
              "        const dataTable =\n",
              "          await google.colab.kernel.invokeFunction('convertToInteractive',\n",
              "                                                    [key], {});\n",
              "        if (!dataTable) return;\n",
              "\n",
              "        const docLinkHtml = 'Like what you see? Visit the ' +\n",
              "          '<a target=\"_blank\" href=https://colab.research.google.com/notebooks/data_table.ipynb>data table notebook</a>'\n",
              "          + ' to learn more about interactive tables.';\n",
              "        element.innerHTML = '';\n",
              "        dataTable['output_type'] = 'display_data';\n",
              "        await google.colab.output.renderOutput(dataTable, element);\n",
              "        const docLink = document.createElement('div');\n",
              "        docLink.innerHTML = docLinkHtml;\n",
              "        element.appendChild(docLink);\n",
              "      }\n",
              "    </script>\n",
              "  </div>\n",
              "\n",
              "\n",
              "    <div id=\"df-7264f0a8-7916-445a-b12c-2fe58a542ad0\">\n",
              "      <button class=\"colab-df-quickchart\" onclick=\"quickchart('df-7264f0a8-7916-445a-b12c-2fe58a542ad0')\"\n",
              "                title=\"Suggest charts\"\n",
              "                style=\"display:none;\">\n",
              "\n",
              "<svg xmlns=\"http://www.w3.org/2000/svg\" height=\"24px\"viewBox=\"0 0 24 24\"\n",
              "     width=\"24px\">\n",
              "    <g>\n",
              "        <path d=\"M19 3H5c-1.1 0-2 .9-2 2v14c0 1.1.9 2 2 2h14c1.1 0 2-.9 2-2V5c0-1.1-.9-2-2-2zM9 17H7v-7h2v7zm4 0h-2V7h2v10zm4 0h-2v-4h2v4z\"/>\n",
              "    </g>\n",
              "</svg>\n",
              "      </button>\n",
              "\n",
              "<style>\n",
              "  .colab-df-quickchart {\n",
              "      --bg-color: #E8F0FE;\n",
              "      --fill-color: #1967D2;\n",
              "      --hover-bg-color: #E2EBFA;\n",
              "      --hover-fill-color: #174EA6;\n",
              "      --disabled-fill-color: #AAA;\n",
              "      --disabled-bg-color: #DDD;\n",
              "  }\n",
              "\n",
              "  [theme=dark] .colab-df-quickchart {\n",
              "      --bg-color: #3B4455;\n",
              "      --fill-color: #D2E3FC;\n",
              "      --hover-bg-color: #434B5C;\n",
              "      --hover-fill-color: #FFFFFF;\n",
              "      --disabled-bg-color: #3B4455;\n",
              "      --disabled-fill-color: #666;\n",
              "  }\n",
              "\n",
              "  .colab-df-quickchart {\n",
              "    background-color: var(--bg-color);\n",
              "    border: none;\n",
              "    border-radius: 50%;\n",
              "    cursor: pointer;\n",
              "    display: none;\n",
              "    fill: var(--fill-color);\n",
              "    height: 32px;\n",
              "    padding: 0;\n",
              "    width: 32px;\n",
              "  }\n",
              "\n",
              "  .colab-df-quickchart:hover {\n",
              "    background-color: var(--hover-bg-color);\n",
              "    box-shadow: 0 1px 2px rgba(60, 64, 67, 0.3), 0 1px 3px 1px rgba(60, 64, 67, 0.15);\n",
              "    fill: var(--button-hover-fill-color);\n",
              "  }\n",
              "\n",
              "  .colab-df-quickchart-complete:disabled,\n",
              "  .colab-df-quickchart-complete:disabled:hover {\n",
              "    background-color: var(--disabled-bg-color);\n",
              "    fill: var(--disabled-fill-color);\n",
              "    box-shadow: none;\n",
              "  }\n",
              "\n",
              "  .colab-df-spinner {\n",
              "    border: 2px solid var(--fill-color);\n",
              "    border-color: transparent;\n",
              "    border-bottom-color: var(--fill-color);\n",
              "    animation:\n",
              "      spin 1s steps(1) infinite;\n",
              "  }\n",
              "\n",
              "  @keyframes spin {\n",
              "    0% {\n",
              "      border-color: transparent;\n",
              "      border-bottom-color: var(--fill-color);\n",
              "      border-left-color: var(--fill-color);\n",
              "    }\n",
              "    20% {\n",
              "      border-color: transparent;\n",
              "      border-left-color: var(--fill-color);\n",
              "      border-top-color: var(--fill-color);\n",
              "    }\n",
              "    30% {\n",
              "      border-color: transparent;\n",
              "      border-left-color: var(--fill-color);\n",
              "      border-top-color: var(--fill-color);\n",
              "      border-right-color: var(--fill-color);\n",
              "    }\n",
              "    40% {\n",
              "      border-color: transparent;\n",
              "      border-right-color: var(--fill-color);\n",
              "      border-top-color: var(--fill-color);\n",
              "    }\n",
              "    60% {\n",
              "      border-color: transparent;\n",
              "      border-right-color: var(--fill-color);\n",
              "    }\n",
              "    80% {\n",
              "      border-color: transparent;\n",
              "      border-right-color: var(--fill-color);\n",
              "      border-bottom-color: var(--fill-color);\n",
              "    }\n",
              "    90% {\n",
              "      border-color: transparent;\n",
              "      border-bottom-color: var(--fill-color);\n",
              "    }\n",
              "  }\n",
              "</style>\n",
              "\n",
              "      <script>\n",
              "        async function quickchart(key) {\n",
              "          const quickchartButtonEl =\n",
              "            document.querySelector('#' + key + ' button');\n",
              "          quickchartButtonEl.disabled = true;  // To prevent multiple clicks.\n",
              "          quickchartButtonEl.classList.add('colab-df-spinner');\n",
              "          try {\n",
              "            const charts = await google.colab.kernel.invokeFunction(\n",
              "                'suggestCharts', [key], {});\n",
              "          } catch (error) {\n",
              "            console.error('Error during call to suggestCharts:', error);\n",
              "          }\n",
              "          quickchartButtonEl.classList.remove('colab-df-spinner');\n",
              "          quickchartButtonEl.classList.add('colab-df-quickchart-complete');\n",
              "        }\n",
              "        (() => {\n",
              "          let quickchartButtonEl =\n",
              "            document.querySelector('#df-7264f0a8-7916-445a-b12c-2fe58a542ad0 button');\n",
              "          quickchartButtonEl.style.display =\n",
              "            google.colab.kernel.accessAllowed ? 'block' : 'none';\n",
              "        })();\n",
              "      </script>\n",
              "    </div>\n",
              "\n",
              "    </div>\n",
              "  </div>\n"
            ],
            "application/vnd.google.colaboratory.intrinsic+json": {
              "type": "dataframe",
              "variable_name": "df",
              "summary": "{\n  \"name\": \"df\",\n  \"rows\": 990,\n  \"fields\": [\n    {\n      \"column\": \"Product_ID\",\n      \"properties\": {\n        \"dtype\": \"string\",\n        \"num_unique_values\": 990,\n        \"samples\": [\n          \"67-027-7269\",\n          \"22-083-3347\",\n          \"21-013-3508\"\n        ],\n        \"semantic_type\": \"\",\n        \"description\": \"\"\n      }\n    },\n    {\n      \"column\": \"Product_Name\",\n      \"properties\": {\n        \"dtype\": \"category\",\n        \"num_unique_values\": 121,\n        \"samples\": [\n          \"Sardines\",\n          \"Ricotta Cheese\",\n          \"Plum\"\n        ],\n        \"semantic_type\": \"\",\n        \"description\": \"\"\n      }\n    },\n    {\n      \"column\": \"Catagory\",\n      \"properties\": {\n        \"dtype\": \"category\",\n        \"num_unique_values\": 7,\n        \"samples\": [\n          \"Grains & Pulses\",\n          \"Beverages\",\n          \"Bakery\"\n        ],\n        \"semantic_type\": \"\",\n        \"description\": \"\"\n      }\n    },\n    {\n      \"column\": \"Supplier_ID\",\n      \"properties\": {\n        \"dtype\": \"string\",\n        \"num_unique_values\": 990,\n        \"samples\": [\n          \"50-050-5707\",\n          \"01-431-7544\",\n          \"64-489-8494\"\n        ],\n        \"semantic_type\": \"\",\n        \"description\": \"\"\n      }\n    },\n    {\n      \"column\": \"Supplier_Name\",\n      \"properties\": {\n        \"dtype\": \"category\",\n        \"num_unique_values\": 350,\n        \"samples\": [\n          \"Skalith\",\n          \"Zoombeat\",\n          \"Livefish\"\n        ],\n        \"semantic_type\": \"\",\n        \"description\": \"\"\n      }\n    },\n    {\n      \"column\": \"Stock_Quantity\",\n      \"properties\": {\n        \"dtype\": \"number\",\n        \"std\": 26,\n        \"min\": 10,\n        \"max\": 100,\n        \"num_unique_values\": 91,\n        \"samples\": [\n          92,\n          31,\n          21\n        ],\n        \"semantic_type\": \"\",\n        \"description\": \"\"\n      }\n    },\n    {\n      \"column\": \"Reorder_Level\",\n      \"properties\": {\n        \"dtype\": \"number\",\n        \"std\": 29,\n        \"min\": 1,\n        \"max\": 100,\n        \"num_unique_values\": 100,\n        \"samples\": [\n          15,\n          34,\n          91\n        ],\n        \"semantic_type\": \"\",\n        \"description\": \"\"\n      }\n    },\n    {\n      \"column\": \"Reorder_Quantity\",\n      \"properties\": {\n        \"dtype\": \"number\",\n        \"std\": 29,\n        \"min\": 1,\n        \"max\": 100,\n        \"num_unique_values\": 100,\n        \"samples\": [\n          12,\n          24,\n          56\n        ],\n        \"semantic_type\": \"\",\n        \"description\": \"\"\n      }\n    },\n    {\n      \"column\": \"Unit_Price\",\n      \"properties\": {\n        \"dtype\": \"category\",\n        \"num_unique_values\": 112,\n        \"samples\": [\n          \"$8.10 \",\n          \"$8.90 \",\n          \"$4.00 \"\n        ],\n        \"semantic_type\": \"\",\n        \"description\": \"\"\n      }\n    },\n    {\n      \"column\": \"Date_Received\",\n      \"properties\": {\n        \"dtype\": \"object\",\n        \"num_unique_values\": 351,\n        \"samples\": [\n          \"1/22/2025\",\n          \"12/7/2024\",\n          \"3/24/2024\"\n        ],\n        \"semantic_type\": \"\",\n        \"description\": \"\"\n      }\n    },\n    {\n      \"column\": \"Last_Order_Date\",\n      \"properties\": {\n        \"dtype\": \"object\",\n        \"num_unique_values\": 332,\n        \"samples\": [\n          \"2/22/2025\",\n          \"3/15/2024\",\n          \"10/24/2024\"\n        ],\n        \"semantic_type\": \"\",\n        \"description\": \"\"\n      }\n    },\n    {\n      \"column\": \"Expiration_Date\",\n      \"properties\": {\n        \"dtype\": \"object\",\n        \"num_unique_values\": 341,\n        \"samples\": [\n          \"4/22/2024\",\n          \"9/29/2024\",\n          \"2/17/2025\"\n        ],\n        \"semantic_type\": \"\",\n        \"description\": \"\"\n      }\n    },\n    {\n      \"column\": \"Warehouse_Location\",\n      \"properties\": {\n        \"dtype\": \"string\",\n        \"num_unique_values\": 990,\n        \"samples\": [\n          \"615 Mayer Drive\",\n          \"38 Superior Road\",\n          \"84305 Fair Oaks Plaza\"\n        ],\n        \"semantic_type\": \"\",\n        \"description\": \"\"\n      }\n    },\n    {\n      \"column\": \"Sales_Volume\",\n      \"properties\": {\n        \"dtype\": \"number\",\n        \"std\": 23,\n        \"min\": 20,\n        \"max\": 100,\n        \"num_unique_values\": 81,\n        \"samples\": [\n          60,\n          32,\n          59\n        ],\n        \"semantic_type\": \"\",\n        \"description\": \"\"\n      }\n    },\n    {\n      \"column\": \"Inventory_Turnover_Rate\",\n      \"properties\": {\n        \"dtype\": \"number\",\n        \"std\": 28,\n        \"min\": 1,\n        \"max\": 100,\n        \"num_unique_values\": 100,\n        \"samples\": [\n          28,\n          100,\n          54\n        ],\n        \"semantic_type\": \"\",\n        \"description\": \"\"\n      }\n    },\n    {\n      \"column\": \"Status\",\n      \"properties\": {\n        \"dtype\": \"category\",\n        \"num_unique_values\": 3,\n        \"samples\": [\n          \"Discontinued\",\n          \"Backordered\",\n          \"Active\"\n        ],\n        \"semantic_type\": \"\",\n        \"description\": \"\"\n      }\n    }\n  ]\n}"
            }
          },
          "metadata": {},
          "execution_count": 8
        }
      ]
    },
    {
      "cell_type": "code",
      "source": [
        "#querying to understand the structure of the dataset\n",
        "df.info()"
      ],
      "metadata": {
        "colab": {
          "base_uri": "https://localhost:8080/"
        },
        "id": "mIWX9MHoUAJZ",
        "outputId": "fbf82e7a-1ffe-41c3-be6d-be5871590593",
        "collapsed": true
      },
      "execution_count": null,
      "outputs": [
        {
          "output_type": "stream",
          "name": "stdout",
          "text": [
            "<class 'pandas.core.frame.DataFrame'>\n",
            "RangeIndex: 990 entries, 0 to 989\n",
            "Data columns (total 16 columns):\n",
            " #   Column                   Non-Null Count  Dtype \n",
            "---  ------                   --------------  ----- \n",
            " 0   Product_ID               990 non-null    object\n",
            " 1   Product_Name             990 non-null    object\n",
            " 2   Catagory                 989 non-null    object\n",
            " 3   Supplier_ID              990 non-null    object\n",
            " 4   Supplier_Name            990 non-null    object\n",
            " 5   Stock_Quantity           990 non-null    int64 \n",
            " 6   Reorder_Level            990 non-null    int64 \n",
            " 7   Reorder_Quantity         990 non-null    int64 \n",
            " 8   Unit_Price               990 non-null    object\n",
            " 9   Date_Received            990 non-null    object\n",
            " 10  Last_Order_Date          990 non-null    object\n",
            " 11  Expiration_Date          990 non-null    object\n",
            " 12  Warehouse_Location       990 non-null    object\n",
            " 13  Sales_Volume             990 non-null    int64 \n",
            " 14  Inventory_Turnover_Rate  990 non-null    int64 \n",
            " 15  Status                   990 non-null    object\n",
            "dtypes: int64(5), object(11)\n",
            "memory usage: 123.9+ KB\n"
          ]
        }
      ]
    },
    {
      "cell_type": "code",
      "source": [
        "#querying to find out the statistical info\n",
        "df.describe()"
      ],
      "metadata": {
        "colab": {
          "base_uri": "https://localhost:8080/",
          "height": 300
        },
        "id": "aE6zMRFEUK_M",
        "outputId": "bb8da3c0-9740-46da-e8ff-f661167b3bf6",
        "collapsed": true
      },
      "execution_count": null,
      "outputs": [
        {
          "output_type": "execute_result",
          "data": {
            "text/plain": [
              "       Stock_Quantity  Reorder_Level  Reorder_Quantity  Sales_Volume  \\\n",
              "count      990.000000     990.000000        990.000000    990.000000   \n",
              "mean        55.609091      51.215152         51.913131     58.925253   \n",
              "std         26.300775      29.095241         29.521059     23.002318   \n",
              "min         10.000000       1.000000          1.000000     20.000000   \n",
              "25%         33.000000      25.250000         25.000000     39.000000   \n",
              "50%         56.000000      53.000000         54.000000     58.000000   \n",
              "75%         79.000000      77.000000         77.000000     78.000000   \n",
              "max        100.000000     100.000000        100.000000    100.000000   \n",
              "\n",
              "       Inventory_Turnover_Rate  \n",
              "count               990.000000  \n",
              "mean                 50.150505  \n",
              "std                  28.798954  \n",
              "min                   1.000000  \n",
              "25%                  25.000000  \n",
              "50%                  50.000000  \n",
              "75%                  74.750000  \n",
              "max                 100.000000  "
            ],
            "text/html": [
              "\n",
              "  <div id=\"df-862a93e9-5eb7-434b-a8c7-8f93fa538237\" class=\"colab-df-container\">\n",
              "    <div>\n",
              "<style scoped>\n",
              "    .dataframe tbody tr th:only-of-type {\n",
              "        vertical-align: middle;\n",
              "    }\n",
              "\n",
              "    .dataframe tbody tr th {\n",
              "        vertical-align: top;\n",
              "    }\n",
              "\n",
              "    .dataframe thead th {\n",
              "        text-align: right;\n",
              "    }\n",
              "</style>\n",
              "<table border=\"1\" class=\"dataframe\">\n",
              "  <thead>\n",
              "    <tr style=\"text-align: right;\">\n",
              "      <th></th>\n",
              "      <th>Stock_Quantity</th>\n",
              "      <th>Reorder_Level</th>\n",
              "      <th>Reorder_Quantity</th>\n",
              "      <th>Sales_Volume</th>\n",
              "      <th>Inventory_Turnover_Rate</th>\n",
              "    </tr>\n",
              "  </thead>\n",
              "  <tbody>\n",
              "    <tr>\n",
              "      <th>count</th>\n",
              "      <td>990.000000</td>\n",
              "      <td>990.000000</td>\n",
              "      <td>990.000000</td>\n",
              "      <td>990.000000</td>\n",
              "      <td>990.000000</td>\n",
              "    </tr>\n",
              "    <tr>\n",
              "      <th>mean</th>\n",
              "      <td>55.609091</td>\n",
              "      <td>51.215152</td>\n",
              "      <td>51.913131</td>\n",
              "      <td>58.925253</td>\n",
              "      <td>50.150505</td>\n",
              "    </tr>\n",
              "    <tr>\n",
              "      <th>std</th>\n",
              "      <td>26.300775</td>\n",
              "      <td>29.095241</td>\n",
              "      <td>29.521059</td>\n",
              "      <td>23.002318</td>\n",
              "      <td>28.798954</td>\n",
              "    </tr>\n",
              "    <tr>\n",
              "      <th>min</th>\n",
              "      <td>10.000000</td>\n",
              "      <td>1.000000</td>\n",
              "      <td>1.000000</td>\n",
              "      <td>20.000000</td>\n",
              "      <td>1.000000</td>\n",
              "    </tr>\n",
              "    <tr>\n",
              "      <th>25%</th>\n",
              "      <td>33.000000</td>\n",
              "      <td>25.250000</td>\n",
              "      <td>25.000000</td>\n",
              "      <td>39.000000</td>\n",
              "      <td>25.000000</td>\n",
              "    </tr>\n",
              "    <tr>\n",
              "      <th>50%</th>\n",
              "      <td>56.000000</td>\n",
              "      <td>53.000000</td>\n",
              "      <td>54.000000</td>\n",
              "      <td>58.000000</td>\n",
              "      <td>50.000000</td>\n",
              "    </tr>\n",
              "    <tr>\n",
              "      <th>75%</th>\n",
              "      <td>79.000000</td>\n",
              "      <td>77.000000</td>\n",
              "      <td>77.000000</td>\n",
              "      <td>78.000000</td>\n",
              "      <td>74.750000</td>\n",
              "    </tr>\n",
              "    <tr>\n",
              "      <th>max</th>\n",
              "      <td>100.000000</td>\n",
              "      <td>100.000000</td>\n",
              "      <td>100.000000</td>\n",
              "      <td>100.000000</td>\n",
              "      <td>100.000000</td>\n",
              "    </tr>\n",
              "  </tbody>\n",
              "</table>\n",
              "</div>\n",
              "    <div class=\"colab-df-buttons\">\n",
              "\n",
              "  <div class=\"colab-df-container\">\n",
              "    <button class=\"colab-df-convert\" onclick=\"convertToInteractive('df-862a93e9-5eb7-434b-a8c7-8f93fa538237')\"\n",
              "            title=\"Convert this dataframe to an interactive table.\"\n",
              "            style=\"display:none;\">\n",
              "\n",
              "  <svg xmlns=\"http://www.w3.org/2000/svg\" height=\"24px\" viewBox=\"0 -960 960 960\">\n",
              "    <path d=\"M120-120v-720h720v720H120Zm60-500h600v-160H180v160Zm220 220h160v-160H400v160Zm0 220h160v-160H400v160ZM180-400h160v-160H180v160Zm440 0h160v-160H620v160ZM180-180h160v-160H180v160Zm440 0h160v-160H620v160Z\"/>\n",
              "  </svg>\n",
              "    </button>\n",
              "\n",
              "  <style>\n",
              "    .colab-df-container {\n",
              "      display:flex;\n",
              "      gap: 12px;\n",
              "    }\n",
              "\n",
              "    .colab-df-convert {\n",
              "      background-color: #E8F0FE;\n",
              "      border: none;\n",
              "      border-radius: 50%;\n",
              "      cursor: pointer;\n",
              "      display: none;\n",
              "      fill: #1967D2;\n",
              "      height: 32px;\n",
              "      padding: 0 0 0 0;\n",
              "      width: 32px;\n",
              "    }\n",
              "\n",
              "    .colab-df-convert:hover {\n",
              "      background-color: #E2EBFA;\n",
              "      box-shadow: 0px 1px 2px rgba(60, 64, 67, 0.3), 0px 1px 3px 1px rgba(60, 64, 67, 0.15);\n",
              "      fill: #174EA6;\n",
              "    }\n",
              "\n",
              "    .colab-df-buttons div {\n",
              "      margin-bottom: 4px;\n",
              "    }\n",
              "\n",
              "    [theme=dark] .colab-df-convert {\n",
              "      background-color: #3B4455;\n",
              "      fill: #D2E3FC;\n",
              "    }\n",
              "\n",
              "    [theme=dark] .colab-df-convert:hover {\n",
              "      background-color: #434B5C;\n",
              "      box-shadow: 0px 1px 3px 1px rgba(0, 0, 0, 0.15);\n",
              "      filter: drop-shadow(0px 1px 2px rgba(0, 0, 0, 0.3));\n",
              "      fill: #FFFFFF;\n",
              "    }\n",
              "  </style>\n",
              "\n",
              "    <script>\n",
              "      const buttonEl =\n",
              "        document.querySelector('#df-862a93e9-5eb7-434b-a8c7-8f93fa538237 button.colab-df-convert');\n",
              "      buttonEl.style.display =\n",
              "        google.colab.kernel.accessAllowed ? 'block' : 'none';\n",
              "\n",
              "      async function convertToInteractive(key) {\n",
              "        const element = document.querySelector('#df-862a93e9-5eb7-434b-a8c7-8f93fa538237');\n",
              "        const dataTable =\n",
              "          await google.colab.kernel.invokeFunction('convertToInteractive',\n",
              "                                                    [key], {});\n",
              "        if (!dataTable) return;\n",
              "\n",
              "        const docLinkHtml = 'Like what you see? Visit the ' +\n",
              "          '<a target=\"_blank\" href=https://colab.research.google.com/notebooks/data_table.ipynb>data table notebook</a>'\n",
              "          + ' to learn more about interactive tables.';\n",
              "        element.innerHTML = '';\n",
              "        dataTable['output_type'] = 'display_data';\n",
              "        await google.colab.output.renderOutput(dataTable, element);\n",
              "        const docLink = document.createElement('div');\n",
              "        docLink.innerHTML = docLinkHtml;\n",
              "        element.appendChild(docLink);\n",
              "      }\n",
              "    </script>\n",
              "  </div>\n",
              "\n",
              "\n",
              "    <div id=\"df-bffeeb06-75b8-4c4d-bda5-a614187fd289\">\n",
              "      <button class=\"colab-df-quickchart\" onclick=\"quickchart('df-bffeeb06-75b8-4c4d-bda5-a614187fd289')\"\n",
              "                title=\"Suggest charts\"\n",
              "                style=\"display:none;\">\n",
              "\n",
              "<svg xmlns=\"http://www.w3.org/2000/svg\" height=\"24px\"viewBox=\"0 0 24 24\"\n",
              "     width=\"24px\">\n",
              "    <g>\n",
              "        <path d=\"M19 3H5c-1.1 0-2 .9-2 2v14c0 1.1.9 2 2 2h14c1.1 0 2-.9 2-2V5c0-1.1-.9-2-2-2zM9 17H7v-7h2v7zm4 0h-2V7h2v10zm4 0h-2v-4h2v4z\"/>\n",
              "    </g>\n",
              "</svg>\n",
              "      </button>\n",
              "\n",
              "<style>\n",
              "  .colab-df-quickchart {\n",
              "      --bg-color: #E8F0FE;\n",
              "      --fill-color: #1967D2;\n",
              "      --hover-bg-color: #E2EBFA;\n",
              "      --hover-fill-color: #174EA6;\n",
              "      --disabled-fill-color: #AAA;\n",
              "      --disabled-bg-color: #DDD;\n",
              "  }\n",
              "\n",
              "  [theme=dark] .colab-df-quickchart {\n",
              "      --bg-color: #3B4455;\n",
              "      --fill-color: #D2E3FC;\n",
              "      --hover-bg-color: #434B5C;\n",
              "      --hover-fill-color: #FFFFFF;\n",
              "      --disabled-bg-color: #3B4455;\n",
              "      --disabled-fill-color: #666;\n",
              "  }\n",
              "\n",
              "  .colab-df-quickchart {\n",
              "    background-color: var(--bg-color);\n",
              "    border: none;\n",
              "    border-radius: 50%;\n",
              "    cursor: pointer;\n",
              "    display: none;\n",
              "    fill: var(--fill-color);\n",
              "    height: 32px;\n",
              "    padding: 0;\n",
              "    width: 32px;\n",
              "  }\n",
              "\n",
              "  .colab-df-quickchart:hover {\n",
              "    background-color: var(--hover-bg-color);\n",
              "    box-shadow: 0 1px 2px rgba(60, 64, 67, 0.3), 0 1px 3px 1px rgba(60, 64, 67, 0.15);\n",
              "    fill: var(--button-hover-fill-color);\n",
              "  }\n",
              "\n",
              "  .colab-df-quickchart-complete:disabled,\n",
              "  .colab-df-quickchart-complete:disabled:hover {\n",
              "    background-color: var(--disabled-bg-color);\n",
              "    fill: var(--disabled-fill-color);\n",
              "    box-shadow: none;\n",
              "  }\n",
              "\n",
              "  .colab-df-spinner {\n",
              "    border: 2px solid var(--fill-color);\n",
              "    border-color: transparent;\n",
              "    border-bottom-color: var(--fill-color);\n",
              "    animation:\n",
              "      spin 1s steps(1) infinite;\n",
              "  }\n",
              "\n",
              "  @keyframes spin {\n",
              "    0% {\n",
              "      border-color: transparent;\n",
              "      border-bottom-color: var(--fill-color);\n",
              "      border-left-color: var(--fill-color);\n",
              "    }\n",
              "    20% {\n",
              "      border-color: transparent;\n",
              "      border-left-color: var(--fill-color);\n",
              "      border-top-color: var(--fill-color);\n",
              "    }\n",
              "    30% {\n",
              "      border-color: transparent;\n",
              "      border-left-color: var(--fill-color);\n",
              "      border-top-color: var(--fill-color);\n",
              "      border-right-color: var(--fill-color);\n",
              "    }\n",
              "    40% {\n",
              "      border-color: transparent;\n",
              "      border-right-color: var(--fill-color);\n",
              "      border-top-color: var(--fill-color);\n",
              "    }\n",
              "    60% {\n",
              "      border-color: transparent;\n",
              "      border-right-color: var(--fill-color);\n",
              "    }\n",
              "    80% {\n",
              "      border-color: transparent;\n",
              "      border-right-color: var(--fill-color);\n",
              "      border-bottom-color: var(--fill-color);\n",
              "    }\n",
              "    90% {\n",
              "      border-color: transparent;\n",
              "      border-bottom-color: var(--fill-color);\n",
              "    }\n",
              "  }\n",
              "</style>\n",
              "\n",
              "      <script>\n",
              "        async function quickchart(key) {\n",
              "          const quickchartButtonEl =\n",
              "            document.querySelector('#' + key + ' button');\n",
              "          quickchartButtonEl.disabled = true;  // To prevent multiple clicks.\n",
              "          quickchartButtonEl.classList.add('colab-df-spinner');\n",
              "          try {\n",
              "            const charts = await google.colab.kernel.invokeFunction(\n",
              "                'suggestCharts', [key], {});\n",
              "          } catch (error) {\n",
              "            console.error('Error during call to suggestCharts:', error);\n",
              "          }\n",
              "          quickchartButtonEl.classList.remove('colab-df-spinner');\n",
              "          quickchartButtonEl.classList.add('colab-df-quickchart-complete');\n",
              "        }\n",
              "        (() => {\n",
              "          let quickchartButtonEl =\n",
              "            document.querySelector('#df-bffeeb06-75b8-4c4d-bda5-a614187fd289 button');\n",
              "          quickchartButtonEl.style.display =\n",
              "            google.colab.kernel.accessAllowed ? 'block' : 'none';\n",
              "        })();\n",
              "      </script>\n",
              "    </div>\n",
              "\n",
              "    </div>\n",
              "  </div>\n"
            ],
            "application/vnd.google.colaboratory.intrinsic+json": {
              "type": "dataframe",
              "summary": "{\n  \"name\": \"df\",\n  \"rows\": 8,\n  \"fields\": [\n    {\n      \"column\": \"Stock_Quantity\",\n      \"properties\": {\n        \"dtype\": \"number\",\n        \"std\": 333.0954434321377,\n        \"min\": 10.0,\n        \"max\": 990.0,\n        \"num_unique_values\": 8,\n        \"samples\": [\n          55.60909090909091,\n          56.0,\n          990.0\n        ],\n        \"semantic_type\": \"\",\n        \"description\": \"\"\n      }\n    },\n    {\n      \"column\": \"Reorder_Level\",\n      \"properties\": {\n        \"dtype\": \"number\",\n        \"std\": 334.4453356955607,\n        \"min\": 1.0,\n        \"max\": 990.0,\n        \"num_unique_values\": 8,\n        \"samples\": [\n          51.21515151515152,\n          53.0,\n          990.0\n        ],\n        \"semantic_type\": \"\",\n        \"description\": \"\"\n      }\n    },\n    {\n      \"column\": \"Reorder_Quantity\",\n      \"properties\": {\n        \"dtype\": \"number\",\n        \"std\": 334.3533826127104,\n        \"min\": 1.0,\n        \"max\": 990.0,\n        \"num_unique_values\": 8,\n        \"samples\": [\n          51.913131313131316,\n          54.0,\n          990.0\n        ],\n        \"semantic_type\": \"\",\n        \"description\": \"\"\n      }\n    },\n    {\n      \"column\": \"Sales_Volume\",\n      \"properties\": {\n        \"dtype\": \"number\",\n        \"std\": 332.07333937850797,\n        \"min\": 20.0,\n        \"max\": 990.0,\n        \"num_unique_values\": 8,\n        \"samples\": [\n          58.925252525252525,\n          58.0,\n          990.0\n        ],\n        \"semantic_type\": \"\",\n        \"description\": \"\"\n      }\n    },\n    {\n      \"column\": \"Inventory_Turnover_Rate\",\n      \"properties\": {\n        \"dtype\": \"number\",\n        \"std\": 334.76157456326933,\n        \"min\": 1.0,\n        \"max\": 990.0,\n        \"num_unique_values\": 8,\n        \"samples\": [\n          50.15050505050505,\n          50.0,\n          990.0\n        ],\n        \"semantic_type\": \"\",\n        \"description\": \"\"\n      }\n    }\n  ]\n}"
            }
          },
          "metadata": {},
          "execution_count": 10
        }
      ]
    },
    {
      "cell_type": "code",
      "source": [
        "# 4️⃣testing a SQL query\n",
        "query = \"\"\"\n",
        "SELECT Last_Order_Date\n",
        "FROM Inventory\n",
        "LIMIT 2\n",
        "\"\"\"\n",
        "\n",
        "# Correct 2.x syntax — open a connection\n",
        "with engine.connect() as conn:\n",
        "    result = conn.execute(text(query))\n",
        "    top_products = pd.DataFrame(result.fetchall(), columns=result.keys())\n",
        "\n",
        "print(top_products)"
      ],
      "metadata": {
        "colab": {
          "base_uri": "https://localhost:8080/"
        },
        "id": "Hl_1Utg8YYYX",
        "outputId": "c0baf52e-86c4-43b5-d5a8-6fa59413a415",
        "collapsed": true
      },
      "execution_count": null,
      "outputs": [
        {
          "output_type": "stream",
          "name": "stdout",
          "text": [
            "2025-10-16 19:57:46,175 INFO sqlalchemy.engine.Engine BEGIN (implicit)\n"
          ]
        },
        {
          "output_type": "stream",
          "name": "stderr",
          "text": [
            "INFO:sqlalchemy.engine.Engine:BEGIN (implicit)\n"
          ]
        },
        {
          "output_type": "stream",
          "name": "stdout",
          "text": [
            "2025-10-16 19:57:46,178 INFO sqlalchemy.engine.Engine \n",
            "SELECT Last_Order_Date\n",
            "FROM Inventory\n",
            "LIMIT 2\n",
            "\n"
          ]
        },
        {
          "output_type": "stream",
          "name": "stderr",
          "text": [
            "INFO:sqlalchemy.engine.Engine:\n",
            "SELECT Last_Order_Date\n",
            "FROM Inventory\n",
            "LIMIT 2\n",
            "\n"
          ]
        },
        {
          "output_type": "stream",
          "name": "stdout",
          "text": [
            "2025-10-16 19:57:46,180 INFO sqlalchemy.engine.Engine [generated in 0.00470s] ()\n"
          ]
        },
        {
          "output_type": "stream",
          "name": "stderr",
          "text": [
            "INFO:sqlalchemy.engine.Engine:[generated in 0.00470s] ()\n"
          ]
        },
        {
          "output_type": "stream",
          "name": "stdout",
          "text": [
            "2025-10-16 19:57:46,187 INFO sqlalchemy.engine.Engine ROLLBACK\n"
          ]
        },
        {
          "output_type": "stream",
          "name": "stderr",
          "text": [
            "INFO:sqlalchemy.engine.Engine:ROLLBACK\n"
          ]
        },
        {
          "output_type": "stream",
          "name": "stdout",
          "text": [
            "  Last_Order_Date\n",
            "0       6/29/2024\n",
            "1       5/29/2024\n"
          ]
        }
      ]
    },
    {
      "cell_type": "code",
      "source": [
        "\n",
        "# 2️⃣ Create in-memory SQLite database (use 'sqlite:///my.db' to save to disk)\n",
        "engine = create_engine('sqlite://', echo=True)\n",
        "\n",
        "# 3️⃣ Write DataFrame to SQL\n",
        "# this step creates the table afresh and populates the table\n",
        "df.to_sql('Inventory', con=engine, index=False, if_exists='replace')"
      ],
      "metadata": {
        "colab": {
          "base_uri": "https://localhost:8080/"
        },
        "id": "YAn_xkOSSLle",
        "outputId": "8f622291-9817-41ae-d03f-5f6d3ac156e8",
        "collapsed": true
      },
      "execution_count": null,
      "outputs": [
        {
          "output_type": "stream",
          "name": "stdout",
          "text": [
            "2025-10-16 19:57:55,211 INFO sqlalchemy.engine.Engine BEGIN (implicit)\n"
          ]
        },
        {
          "output_type": "stream",
          "name": "stderr",
          "text": [
            "INFO:sqlalchemy.engine.Engine:BEGIN (implicit)\n"
          ]
        },
        {
          "output_type": "stream",
          "name": "stdout",
          "text": [
            "2025-10-16 19:57:55,217 INFO sqlalchemy.engine.Engine PRAGMA main.table_info(\"Inventory\")\n"
          ]
        },
        {
          "output_type": "stream",
          "name": "stderr",
          "text": [
            "INFO:sqlalchemy.engine.Engine:PRAGMA main.table_info(\"Inventory\")\n"
          ]
        },
        {
          "output_type": "stream",
          "name": "stdout",
          "text": [
            "2025-10-16 19:57:55,219 INFO sqlalchemy.engine.Engine [raw sql] ()\n"
          ]
        },
        {
          "output_type": "stream",
          "name": "stderr",
          "text": [
            "INFO:sqlalchemy.engine.Engine:[raw sql] ()\n"
          ]
        },
        {
          "output_type": "stream",
          "name": "stdout",
          "text": [
            "2025-10-16 19:57:55,222 INFO sqlalchemy.engine.Engine PRAGMA temp.table_info(\"Inventory\")\n"
          ]
        },
        {
          "output_type": "stream",
          "name": "stderr",
          "text": [
            "INFO:sqlalchemy.engine.Engine:PRAGMA temp.table_info(\"Inventory\")\n"
          ]
        },
        {
          "output_type": "stream",
          "name": "stdout",
          "text": [
            "2025-10-16 19:57:55,224 INFO sqlalchemy.engine.Engine [raw sql] ()\n"
          ]
        },
        {
          "output_type": "stream",
          "name": "stderr",
          "text": [
            "INFO:sqlalchemy.engine.Engine:[raw sql] ()\n"
          ]
        },
        {
          "output_type": "stream",
          "name": "stdout",
          "text": [
            "2025-10-16 19:57:55,232 INFO sqlalchemy.engine.Engine \n",
            "CREATE TABLE \"Inventory\" (\n",
            "\t\"Product_ID\" TEXT, \n",
            "\t\"Product_Name\" TEXT, \n",
            "\t\"Catagory\" TEXT, \n",
            "\t\"Supplier_ID\" TEXT, \n",
            "\t\"Supplier_Name\" TEXT, \n",
            "\t\"Stock_Quantity\" BIGINT, \n",
            "\t\"Reorder_Level\" BIGINT, \n",
            "\t\"Reorder_Quantity\" BIGINT, \n",
            "\t\"Unit_Price\" TEXT, \n",
            "\t\"Date_Received\" TEXT, \n",
            "\t\"Last_Order_Date\" TEXT, \n",
            "\t\"Expiration_Date\" TEXT, \n",
            "\t\"Warehouse_Location\" TEXT, \n",
            "\t\"Sales_Volume\" BIGINT, \n",
            "\t\"Inventory_Turnover_Rate\" BIGINT, \n",
            "\t\"Status\" TEXT\n",
            ")\n",
            "\n",
            "\n"
          ]
        },
        {
          "output_type": "stream",
          "name": "stderr",
          "text": [
            "INFO:sqlalchemy.engine.Engine:\n",
            "CREATE TABLE \"Inventory\" (\n",
            "\t\"Product_ID\" TEXT, \n",
            "\t\"Product_Name\" TEXT, \n",
            "\t\"Catagory\" TEXT, \n",
            "\t\"Supplier_ID\" TEXT, \n",
            "\t\"Supplier_Name\" TEXT, \n",
            "\t\"Stock_Quantity\" BIGINT, \n",
            "\t\"Reorder_Level\" BIGINT, \n",
            "\t\"Reorder_Quantity\" BIGINT, \n",
            "\t\"Unit_Price\" TEXT, \n",
            "\t\"Date_Received\" TEXT, \n",
            "\t\"Last_Order_Date\" TEXT, \n",
            "\t\"Expiration_Date\" TEXT, \n",
            "\t\"Warehouse_Location\" TEXT, \n",
            "\t\"Sales_Volume\" BIGINT, \n",
            "\t\"Inventory_Turnover_Rate\" BIGINT, \n",
            "\t\"Status\" TEXT\n",
            ")\n",
            "\n",
            "\n"
          ]
        },
        {
          "output_type": "stream",
          "name": "stdout",
          "text": [
            "2025-10-16 19:57:55,234 INFO sqlalchemy.engine.Engine [no key 0.00196s] ()\n"
          ]
        },
        {
          "output_type": "stream",
          "name": "stderr",
          "text": [
            "INFO:sqlalchemy.engine.Engine:[no key 0.00196s] ()\n"
          ]
        },
        {
          "output_type": "stream",
          "name": "stdout",
          "text": [
            "2025-10-16 19:57:55,248 INFO sqlalchemy.engine.Engine INSERT INTO \"Inventory\" (\"Product_ID\", \"Product_Name\", \"Catagory\", \"Supplier_ID\", \"Supplier_Name\", \"Stock_Quantity\", \"Reorder_Level\", \"Reorder_Quantity\", \"Unit_Price\", \"Date_Received\", \"Last_Order_Date\", \"Expiration_Date\", \"Warehouse_Location\", \"Sales_Volume\", \"Inventory_Turnover_Rate\", \"Status\") VALUES (?, ?, ?, ?, ?, ?, ?, ?, ?, ?, ?, ?, ?, ?, ?, ?)\n"
          ]
        },
        {
          "output_type": "stream",
          "name": "stderr",
          "text": [
            "INFO:sqlalchemy.engine.Engine:INSERT INTO \"Inventory\" (\"Product_ID\", \"Product_Name\", \"Catagory\", \"Supplier_ID\", \"Supplier_Name\", \"Stock_Quantity\", \"Reorder_Level\", \"Reorder_Quantity\", \"Unit_Price\", \"Date_Received\", \"Last_Order_Date\", \"Expiration_Date\", \"Warehouse_Location\", \"Sales_Volume\", \"Inventory_Turnover_Rate\", \"Status\") VALUES (?, ?, ?, ?, ?, ?, ?, ?, ?, ?, ?, ?, ?, ?, ?, ?)\n"
          ]
        },
        {
          "output_type": "stream",
          "name": "stdout",
          "text": [
            "2025-10-16 19:57:55,250 INFO sqlalchemy.engine.Engine [generated in 0.00837s] [('29-205-1132', 'Sushi Rice', 'Grains & Pulses', '38-037-1699', 'Jaxnation', 22, 72, 70, '$4.50 ', '8/16/2024', '6/29/2024', '9/19/2024', '48 Del Sol Trail', 32, 19, 'Discontinued'), ('40-681-9981', 'Arabica Coffee', 'Beverages', '54-470-2479', 'Feedmix', 45, 77, 2, '$20.00 ', '11/1/2024', '5/29/2024', '5/8/2024', '36 3rd Place', 85, 1, 'Discontinued'), ('06-955-3428', 'Black Rice', 'Grains & Pulses', '54-031-2945', 'Vinder', 30, 38, 83, '$6.00 ', '8/3/2024', '6/10/2024', '9/22/2024', '3296 Walton Court', 31, 34, 'Backordered'), ('71-594-6552', 'Long Grain Rice', 'Grains & Pulses', '63-492-7603', 'Brightbean', 12, 59, 62, '$1.50 ', '12/8/2024', '2/19/2025', '4/17/2024', '3 Westerfield Crossing', 95, 99, 'Active'), ('57-437-1828', 'Plum', 'Fruits & Vegetables', '54-226-4308', 'Topicstorm', 37, 30, 74, '$4.00 ', '7/3/2024', '10/11/2024', '10/5/2024', '15068 Scoville Court', 62, 25, 'Backordered'), ('21-120-6238', 'All-Purpose Flour', 'Grains & Pulses', '86-292-4587', 'Dabjam', 55, 33, 14, '$1.75 ', '12/3/2024', '5/26/2024', '9/5/2024', '050 Mcbride Avenue', 34, 62, 'Discontinued'), ('71-516-1996', 'Corn Oil', 'Oils & Fats', '04-391-7610', 'Tagfeed', 96, 52, 16, '$2.50 ', '3/18/2024', '5/7/2024', '6/20/2024', '12 Truax Court', 67, 13, 'Active'), ('39-629-5554', 'Egg (Goose)', 'Dairy', '67-679-4930', 'Muxo', 44, 90, 17, '$2.50 ', '2/3/2025', '4/9/2024', '2/5/2025', '267 International Plaza', 21, 91, 'Discontinued')  ... displaying 10 of 990 total bound parameter sets ...  ('86-692-2312', 'Avocado Oil', 'Oils & Fats', '77-783-4107', 'Dazzlesphere', 30, 48, 52, '$10.00 ', '6/11/2024', '12/7/2024', '4/30/2024', '00616 Manitowish Parkway', 22, 78, 'Active'), ('28-044-4102', 'Papaya', 'Fruits & Vegetables', '93-358-1118', 'Yakijo', 19, 28, 83, '$4.50 ', '11/26/2024', '3/1/2024', '8/27/2024', '309 Burning Wood Center', 91, 73, 'Discontinued')]\n"
          ]
        },
        {
          "output_type": "stream",
          "name": "stderr",
          "text": [
            "INFO:sqlalchemy.engine.Engine:[generated in 0.00837s] [('29-205-1132', 'Sushi Rice', 'Grains & Pulses', '38-037-1699', 'Jaxnation', 22, 72, 70, '$4.50 ', '8/16/2024', '6/29/2024', '9/19/2024', '48 Del Sol Trail', 32, 19, 'Discontinued'), ('40-681-9981', 'Arabica Coffee', 'Beverages', '54-470-2479', 'Feedmix', 45, 77, 2, '$20.00 ', '11/1/2024', '5/29/2024', '5/8/2024', '36 3rd Place', 85, 1, 'Discontinued'), ('06-955-3428', 'Black Rice', 'Grains & Pulses', '54-031-2945', 'Vinder', 30, 38, 83, '$6.00 ', '8/3/2024', '6/10/2024', '9/22/2024', '3296 Walton Court', 31, 34, 'Backordered'), ('71-594-6552', 'Long Grain Rice', 'Grains & Pulses', '63-492-7603', 'Brightbean', 12, 59, 62, '$1.50 ', '12/8/2024', '2/19/2025', '4/17/2024', '3 Westerfield Crossing', 95, 99, 'Active'), ('57-437-1828', 'Plum', 'Fruits & Vegetables', '54-226-4308', 'Topicstorm', 37, 30, 74, '$4.00 ', '7/3/2024', '10/11/2024', '10/5/2024', '15068 Scoville Court', 62, 25, 'Backordered'), ('21-120-6238', 'All-Purpose Flour', 'Grains & Pulses', '86-292-4587', 'Dabjam', 55, 33, 14, '$1.75 ', '12/3/2024', '5/26/2024', '9/5/2024', '050 Mcbride Avenue', 34, 62, 'Discontinued'), ('71-516-1996', 'Corn Oil', 'Oils & Fats', '04-391-7610', 'Tagfeed', 96, 52, 16, '$2.50 ', '3/18/2024', '5/7/2024', '6/20/2024', '12 Truax Court', 67, 13, 'Active'), ('39-629-5554', 'Egg (Goose)', 'Dairy', '67-679-4930', 'Muxo', 44, 90, 17, '$2.50 ', '2/3/2025', '4/9/2024', '2/5/2025', '267 International Plaza', 21, 91, 'Discontinued')  ... displaying 10 of 990 total bound parameter sets ...  ('86-692-2312', 'Avocado Oil', 'Oils & Fats', '77-783-4107', 'Dazzlesphere', 30, 48, 52, '$10.00 ', '6/11/2024', '12/7/2024', '4/30/2024', '00616 Manitowish Parkway', 22, 78, 'Active'), ('28-044-4102', 'Papaya', 'Fruits & Vegetables', '93-358-1118', 'Yakijo', 19, 28, 83, '$4.50 ', '11/26/2024', '3/1/2024', '8/27/2024', '309 Burning Wood Center', 91, 73, 'Discontinued')]\n"
          ]
        },
        {
          "output_type": "stream",
          "name": "stdout",
          "text": [
            "2025-10-16 19:57:55,259 INFO sqlalchemy.engine.Engine SELECT name FROM sqlite_master WHERE type='table' AND name NOT LIKE 'sqlite~_%' ESCAPE '~' ORDER BY name\n"
          ]
        },
        {
          "output_type": "stream",
          "name": "stderr",
          "text": [
            "INFO:sqlalchemy.engine.Engine:SELECT name FROM sqlite_master WHERE type='table' AND name NOT LIKE 'sqlite~_%' ESCAPE '~' ORDER BY name\n"
          ]
        },
        {
          "output_type": "stream",
          "name": "stdout",
          "text": [
            "2025-10-16 19:57:55,260 INFO sqlalchemy.engine.Engine [raw sql] ()\n"
          ]
        },
        {
          "output_type": "stream",
          "name": "stderr",
          "text": [
            "INFO:sqlalchemy.engine.Engine:[raw sql] ()\n"
          ]
        },
        {
          "output_type": "stream",
          "name": "stdout",
          "text": [
            "2025-10-16 19:57:55,262 INFO sqlalchemy.engine.Engine COMMIT\n"
          ]
        },
        {
          "output_type": "stream",
          "name": "stderr",
          "text": [
            "INFO:sqlalchemy.engine.Engine:COMMIT\n"
          ]
        },
        {
          "output_type": "execute_result",
          "data": {
            "text/plain": [
              "990"
            ]
          },
          "metadata": {},
          "execution_count": 12
        }
      ]
    },
    {
      "cell_type": "code",
      "source": [
        "# 4️⃣anothere sql Run an SQL query\n",
        "query = \"\"\"\n",
        "SELECT *\n",
        "FROM Inventory\n",
        "LIMIT 7\n",
        "\"\"\"\n",
        "\n",
        "# Correct 2.x syntax — open a connection\n",
        "with engine.connect() as conn:\n",
        "    result = conn.execute(text(query))\n",
        "    top_products = pd.DataFrame(result.fetchall(), columns=result.keys())"
      ],
      "metadata": {
        "colab": {
          "base_uri": "https://localhost:8080/"
        },
        "id": "i6ZEQqXFXGsK",
        "outputId": "e5400e3c-17fe-4231-bc48-32860d6e0542",
        "collapsed": true
      },
      "execution_count": null,
      "outputs": [
        {
          "output_type": "stream",
          "name": "stdout",
          "text": [
            "2025-10-16 19:58:29,073 INFO sqlalchemy.engine.Engine BEGIN (implicit)\n"
          ]
        },
        {
          "output_type": "stream",
          "name": "stderr",
          "text": [
            "INFO:sqlalchemy.engine.Engine:BEGIN (implicit)\n"
          ]
        },
        {
          "output_type": "stream",
          "name": "stdout",
          "text": [
            "2025-10-16 19:58:29,076 INFO sqlalchemy.engine.Engine \n",
            "SELECT *\n",
            "FROM Inventory\n",
            "LIMIT 7\n",
            "\n"
          ]
        },
        {
          "output_type": "stream",
          "name": "stderr",
          "text": [
            "INFO:sqlalchemy.engine.Engine:\n",
            "SELECT *\n",
            "FROM Inventory\n",
            "LIMIT 7\n",
            "\n"
          ]
        },
        {
          "output_type": "stream",
          "name": "stdout",
          "text": [
            "2025-10-16 19:58:29,079 INFO sqlalchemy.engine.Engine [generated in 0.00613s] ()\n"
          ]
        },
        {
          "output_type": "stream",
          "name": "stderr",
          "text": [
            "INFO:sqlalchemy.engine.Engine:[generated in 0.00613s] ()\n"
          ]
        },
        {
          "output_type": "stream",
          "name": "stdout",
          "text": [
            "2025-10-16 19:58:29,086 INFO sqlalchemy.engine.Engine ROLLBACK\n"
          ]
        },
        {
          "output_type": "stream",
          "name": "stderr",
          "text": [
            "INFO:sqlalchemy.engine.Engine:ROLLBACK\n"
          ]
        }
      ]
    },
    {
      "cell_type": "code",
      "source": [
        "#Identifying products where stock is below reorder level\n",
        "\n",
        "query = \"\"\"\n",
        "     SELECT product_ID, Product_Name, Stock_Quantity, Reorder_Level\n",
        "    FROM inventory\n",
        "    WHERE stock_quantity < reorder_level\n",
        "    ORDER BY Stock_Quantity DESC\n",
        "\n",
        "    \"\"\"\n",
        "# Correct 2.x syntax — open a connection\n",
        "with engine.connect() as conn:\n",
        "    result = conn.execute(text(query))\n",
        "    top_products = pd.DataFrame(result.fetchall(), columns=result.keys())\n",
        "\n",
        "print(top_products)"
      ],
      "metadata": {
        "id": "54nNDhVpZt2V",
        "colab": {
          "base_uri": "https://localhost:8080/"
        },
        "collapsed": true,
        "outputId": "e4ffdc46-1104-471f-e3fb-69ba82760625"
      },
      "execution_count": null,
      "outputs": [
        {
          "output_type": "stream",
          "name": "stdout",
          "text": [
            "2025-10-16 20:02:04,524 INFO sqlalchemy.engine.Engine BEGIN (implicit)\n"
          ]
        },
        {
          "output_type": "stream",
          "name": "stderr",
          "text": [
            "INFO:sqlalchemy.engine.Engine:BEGIN (implicit)\n"
          ]
        },
        {
          "output_type": "stream",
          "name": "stdout",
          "text": [
            "2025-10-16 20:02:04,527 INFO sqlalchemy.engine.Engine  \n",
            "     SELECT product_ID, Product_Name, Stock_Quantity, Reorder_Level\n",
            "    FROM inventory\n",
            "    WHERE stock_quantity < reorder_level\n",
            "    ORDER BY Stock_Quantity DESC\n",
            "\n",
            "    \n"
          ]
        },
        {
          "output_type": "stream",
          "name": "stderr",
          "text": [
            "INFO:sqlalchemy.engine.Engine: \n",
            "     SELECT product_ID, Product_Name, Stock_Quantity, Reorder_Level\n",
            "    FROM inventory\n",
            "    WHERE stock_quantity < reorder_level\n",
            "    ORDER BY Stock_Quantity DESC\n",
            "\n",
            "    \n"
          ]
        },
        {
          "output_type": "stream",
          "name": "stdout",
          "text": [
            "2025-10-16 20:02:04,529 INFO sqlalchemy.engine.Engine [generated in 0.00492s] ()\n"
          ]
        },
        {
          "output_type": "stream",
          "name": "stderr",
          "text": [
            "INFO:sqlalchemy.engine.Engine:[generated in 0.00492s] ()\n"
          ]
        },
        {
          "output_type": "stream",
          "name": "stdout",
          "text": [
            "2025-10-16 20:02:04,538 INFO sqlalchemy.engine.Engine ROLLBACK\n"
          ]
        },
        {
          "output_type": "stream",
          "name": "stderr",
          "text": [
            "INFO:sqlalchemy.engine.Engine:ROLLBACK\n"
          ]
        },
        {
          "output_type": "stream",
          "name": "stdout",
          "text": [
            "      Product_ID       Product_Name  Stock_Quantity  Reorder_Level\n",
            "0    45-634-0679            Haddock              98            100\n",
            "1    16-354-8122  Digestive Biscuit              97             99\n",
            "2    03-149-9760      Whipped Cream              92             99\n",
            "3    90-492-0564        Pomegranate              92             96\n",
            "4    42-220-9305        White Sugar              91             98\n",
            "..           ...                ...             ...            ...\n",
            "450  58-946-5152        Bread Flour              11             77\n",
            "451  80-020-8041         Black Rice              11             58\n",
            "452  00-357-2313        Avocado Oil              10             86\n",
            "453  95-449-1286      Egg (Chicken)              10             17\n",
            "454  42-495-7698         Sushi Rice              10             11\n",
            "\n",
            "[455 rows x 4 columns]\n"
          ]
        }
      ]
    },
    {
      "cell_type": "code",
      "source": [
        "#Created a CTE to find how many products are due for reorder\n",
        "\n",
        "\n",
        "query = \"\"\"\n",
        "WITH ReorderLevel AS\n",
        "   (\n",
        " SELECT product_ID, Product_Name, Stock_Quantity, Reorder_Level\n",
        "    FROM inventory\n",
        "    WHERE stock_quantity < reorder_level\n",
        "    ORDER BY Stock_Quantity DESC\n",
        "   )\n",
        "\n",
        "SELECT COUNT(*)\n",
        "FROM ReorderLevel;\n",
        "    \"\"\"\n",
        "\n",
        "# Correct 2.x syntax — open a connection\n",
        "with engine.connect() as conn:\n",
        "    result = conn.execute(text(query))\n",
        "    QueryResult = pd.DataFrame(result.fetchall(), columns=result.keys())\n",
        "\n",
        "print(QueryResult)"
      ],
      "metadata": {
        "colab": {
          "base_uri": "https://localhost:8080/"
        },
        "collapsed": true,
        "id": "rstiM4w0ipAr",
        "outputId": "f7e2a008-9287-4da4-e017-a223f9052fb1"
      },
      "execution_count": null,
      "outputs": [
        {
          "output_type": "stream",
          "name": "stdout",
          "text": [
            "2025-10-16 20:10:21,751 INFO sqlalchemy.engine.Engine BEGIN (implicit)\n"
          ]
        },
        {
          "output_type": "stream",
          "name": "stderr",
          "text": [
            "INFO:sqlalchemy.engine.Engine:BEGIN (implicit)\n"
          ]
        },
        {
          "output_type": "stream",
          "name": "stdout",
          "text": [
            "2025-10-16 20:10:21,753 INFO sqlalchemy.engine.Engine  \n",
            "WITH ReorderLevel AS\n",
            "   (\n",
            " SELECT product_ID, Product_Name, Stock_Quantity, Reorder_Level\n",
            "    FROM inventory\n",
            "    WHERE stock_quantity < reorder_level\n",
            "    ORDER BY Stock_Quantity DESC\n",
            "   )\n",
            "\n",
            "SELECT COUNT(*)\n",
            "FROM ReorderLevel;\n",
            "    \n"
          ]
        },
        {
          "output_type": "stream",
          "name": "stderr",
          "text": [
            "INFO:sqlalchemy.engine.Engine: \n",
            "WITH ReorderLevel AS\n",
            "   (\n",
            " SELECT product_ID, Product_Name, Stock_Quantity, Reorder_Level\n",
            "    FROM inventory\n",
            "    WHERE stock_quantity < reorder_level\n",
            "    ORDER BY Stock_Quantity DESC\n",
            "   )\n",
            "\n",
            "SELECT COUNT(*)\n",
            "FROM ReorderLevel;\n",
            "    \n"
          ]
        },
        {
          "output_type": "stream",
          "name": "stdout",
          "text": [
            "2025-10-16 20:10:21,754 INFO sqlalchemy.engine.Engine [cached since 334.5s ago] ()\n"
          ]
        },
        {
          "output_type": "stream",
          "name": "stderr",
          "text": [
            "INFO:sqlalchemy.engine.Engine:[cached since 334.5s ago] ()\n"
          ]
        },
        {
          "output_type": "stream",
          "name": "stdout",
          "text": [
            "2025-10-16 20:10:21,760 INFO sqlalchemy.engine.Engine ROLLBACK\n"
          ]
        },
        {
          "output_type": "stream",
          "name": "stderr",
          "text": [
            "INFO:sqlalchemy.engine.Engine:ROLLBACK\n"
          ]
        },
        {
          "output_type": "stream",
          "name": "stdout",
          "text": [
            "   COUNT(*)\n",
            "0       455\n"
          ]
        }
      ]
    },
    {
      "cell_type": "code",
      "source": [
        "#calculating inventory value per product\n",
        "query = \"\"\"\n",
        " SELECT\n",
        "        Product_ID,\n",
        "        Product_Name,\n",
        "        Stock_Quantity,\n",
        "        Unit_price,\n",
        "        (Stock_Quantity * Unit_Price) AS Inventory_Value\n",
        "  FROM Inventory\n",
        "  ORDER BY Inventory_Value ASC;\n",
        "  \"\"\"\n",
        "# Correct 2.x syntax — open a connection\n",
        "with engine.connect() as conn:\n",
        "    result = conn.execute(text(query))\n",
        "    QueryResult = pd.DataFrame(result.fetchall(), columns=result.keys())\n",
        "\n",
        "print(QueryResult)\n"
      ],
      "metadata": {
        "colab": {
          "base_uri": "https://localhost:8080/"
        },
        "id": "xHasVu0wqAgK",
        "outputId": "4838578b-36a1-4d32-b8ba-7dc856d592cc"
      },
      "execution_count": null,
      "outputs": [
        {
          "output_type": "stream",
          "name": "stdout",
          "text": [
            "2025-10-16 20:56:25,589 INFO sqlalchemy.engine.Engine BEGIN (implicit)\n"
          ]
        },
        {
          "output_type": "stream",
          "name": "stderr",
          "text": [
            "INFO:sqlalchemy.engine.Engine:BEGIN (implicit)\n"
          ]
        },
        {
          "output_type": "stream",
          "name": "stdout",
          "text": [
            "2025-10-16 20:56:25,593 INFO sqlalchemy.engine.Engine  \n",
            " SELECT \n",
            "        Product_ID,\n",
            "        Product_Name,\n",
            "        Stock_Quantity,\n",
            "        Unit_price,\n",
            "        (Stock_Quantity * Unit_Price) AS Inventory_Value\n",
            "  FROM Inventory\n",
            "  ORDER BY Inventory_Value ASC;\n",
            "  \n"
          ]
        },
        {
          "output_type": "stream",
          "name": "stderr",
          "text": [
            "INFO:sqlalchemy.engine.Engine: \n",
            " SELECT \n",
            "        Product_ID,\n",
            "        Product_Name,\n",
            "        Stock_Quantity,\n",
            "        Unit_price,\n",
            "        (Stock_Quantity * Unit_Price) AS Inventory_Value\n",
            "  FROM Inventory\n",
            "  ORDER BY Inventory_Value ASC;\n",
            "  \n"
          ]
        },
        {
          "output_type": "stream",
          "name": "stdout",
          "text": [
            "2025-10-16 20:56:25,595 INFO sqlalchemy.engine.Engine [generated in 0.00632s] ()\n"
          ]
        },
        {
          "output_type": "stream",
          "name": "stderr",
          "text": [
            "INFO:sqlalchemy.engine.Engine:[generated in 0.00632s] ()\n"
          ]
        },
        {
          "output_type": "stream",
          "name": "stdout",
          "text": [
            "2025-10-16 20:56:25,602 INFO sqlalchemy.engine.Engine ROLLBACK\n"
          ]
        },
        {
          "output_type": "stream",
          "name": "stderr",
          "text": [
            "INFO:sqlalchemy.engine.Engine:ROLLBACK\n"
          ]
        },
        {
          "output_type": "stream",
          "name": "stdout",
          "text": [
            "      Product_ID     Product_Name  Stock_Quantity Unit_Price  Inventory_Value\n",
            "0    29-205-1132       Sushi Rice              22     $4.50                 0\n",
            "1    40-681-9981   Arabica Coffee              45    $20.00                 0\n",
            "2    06-955-3428       Black Rice              30     $6.00                 0\n",
            "3    71-594-6552  Long Grain Rice              12     $1.50                 0\n",
            "4    57-437-1828             Plum              37     $4.00                 0\n",
            "..           ...              ...             ...        ...              ...\n",
            "985  82-977-7752          Spinach              88     $2.50                 0\n",
            "986  62-393-9939   Cheddar Cheese              60     $9.00                 0\n",
            "987  31-745-6850          Cabbage              94     $0.90                 0\n",
            "988  86-692-2312      Avocado Oil              30    $10.00                 0\n",
            "989  28-044-4102           Papaya              19     $4.50                 0\n",
            "\n",
            "[990 rows x 5 columns]\n"
          ]
        }
      ]
    },
    {
      "cell_type": "code",
      "source": [
        "\n",
        "#Inventory valuue per product then breaking the value nto three differnt parts\n",
        "#to determine what distribution the inventory values follow.\n",
        "#  Get the average inventory value in each batch\n",
        "query = \"\"\"\n",
        " WITH Int_Value AS\n",
        "  (\n",
        "   SELECT\n",
        "        Product_ID,\n",
        "        Product_Name,\n",
        "        Stock_Quantity,\n",
        "        Unit_price,\n",
        "        (Stock_Quantity * Unit_Price) AS Inventory_Value\n",
        "  FROM Inventory\n",
        "  ORDER BY Inventory_Value DESC\n",
        "  ),\n",
        " Batch AS\n",
        "    (\n",
        "        SELECT\n",
        "        Product_Name,\n",
        "        Inventory_Value,\n",
        "        NTILE(3) OVER (ORDER BY Inventory_Value DESC) AS Percetile_Group\n",
        "        FROM Int_Value\n",
        "    )\n",
        "SELECT\n",
        "  Percetile_Group,\n",
        "  AVG(Inventory_Value) AS Avg_Inventory_Value\n",
        "FROM Batch\n",
        "GROUP BY Percetile_Group\n",
        "ORDER BY Percetile_Group ASC;\n",
        "\"\"\"\n",
        "\n",
        "# Correct 2.x syntax — open a connection\n",
        "with engine.connect() as conn:\n",
        "    result = conn.execute(text(query))\n",
        "    QueryResult = pd.DataFrame(result.fetchall(), columns=result.keys())\n",
        "\n",
        "print(QueryResult)"
      ],
      "metadata": {
        "colab": {
          "base_uri": "https://localhost:8080/"
        },
        "id": "_bTManOor7Mm",
        "outputId": "731fa96d-1a40-469c-e8c1-3de4be9830da"
      },
      "execution_count": null,
      "outputs": [
        {
          "output_type": "stream",
          "name": "stdout",
          "text": [
            "2025-10-16 20:55:46,030 INFO sqlalchemy.engine.Engine BEGIN (implicit)\n"
          ]
        },
        {
          "output_type": "stream",
          "name": "stderr",
          "text": [
            "INFO:sqlalchemy.engine.Engine:BEGIN (implicit)\n"
          ]
        },
        {
          "output_type": "stream",
          "name": "stdout",
          "text": [
            "2025-10-16 20:55:46,032 INFO sqlalchemy.engine.Engine \n",
            " WITH Int_Value AS\n",
            "  (\n",
            "   SELECT \n",
            "        Product_ID,\n",
            "        Product_Name,\n",
            "        Stock_Quantity,\n",
            "        Unit_price,\n",
            "        (Stock_Quantity * Unit_Price) AS Inventory_Value\n",
            "  FROM Inventory\n",
            "  ORDER BY Inventory_Value DESC   \n",
            "  ),\n",
            " Batch AS \n",
            "    ( \n",
            "        SELECT\n",
            "        Product_Name,\n",
            "        Inventory_Value,\n",
            "        NTILE(3) OVER (ORDER BY Inventory_Value DESC) AS Percetile_Group\n",
            "        FROM Int_Value\n",
            "    )\n",
            "SELECT\n",
            "  Percetile_Group,\n",
            "  AVG(Inventory_Value) AS Avg_Inventory_Value\n",
            "FROM Batch\n",
            "GROUP BY Percetile_Group\n",
            "ORDER BY Percetile_Group ASC;\n",
            "\n"
          ]
        },
        {
          "output_type": "stream",
          "name": "stderr",
          "text": [
            "INFO:sqlalchemy.engine.Engine:\n",
            " WITH Int_Value AS\n",
            "  (\n",
            "   SELECT \n",
            "        Product_ID,\n",
            "        Product_Name,\n",
            "        Stock_Quantity,\n",
            "        Unit_price,\n",
            "        (Stock_Quantity * Unit_Price) AS Inventory_Value\n",
            "  FROM Inventory\n",
            "  ORDER BY Inventory_Value DESC   \n",
            "  ),\n",
            " Batch AS \n",
            "    ( \n",
            "        SELECT\n",
            "        Product_Name,\n",
            "        Inventory_Value,\n",
            "        NTILE(3) OVER (ORDER BY Inventory_Value DESC) AS Percetile_Group\n",
            "        FROM Int_Value\n",
            "    )\n",
            "SELECT\n",
            "  Percetile_Group,\n",
            "  AVG(Inventory_Value) AS Avg_Inventory_Value\n",
            "FROM Batch\n",
            "GROUP BY Percetile_Group\n",
            "ORDER BY Percetile_Group ASC;\n",
            "\n"
          ]
        },
        {
          "output_type": "stream",
          "name": "stdout",
          "text": [
            "2025-10-16 20:55:46,034 INFO sqlalchemy.engine.Engine [generated in 0.00416s] ()\n"
          ]
        },
        {
          "output_type": "stream",
          "name": "stderr",
          "text": [
            "INFO:sqlalchemy.engine.Engine:[generated in 0.00416s] ()\n"
          ]
        },
        {
          "output_type": "stream",
          "name": "stdout",
          "text": [
            "2025-10-16 20:55:46,042 INFO sqlalchemy.engine.Engine ROLLBACK\n"
          ]
        },
        {
          "output_type": "stream",
          "name": "stderr",
          "text": [
            "INFO:sqlalchemy.engine.Engine:ROLLBACK\n"
          ]
        },
        {
          "output_type": "stream",
          "name": "stdout",
          "text": [
            "   Percetile_Group  Avg_Inventory_Value\n",
            "0                1                  0.0\n",
            "1                2                  0.0\n",
            "2                3                  0.0\n"
          ]
        }
      ]
    },
    {
      "cell_type": "code",
      "source": [
        "#inventory value retuned zero\n",
        "#need to convert the data type for one of the columns\n",
        "query =\"\"\"\n",
        "CREATE VIEW inventory_clean AS\n",
        "SELECT Product_ID,\n",
        "       Product_Name,\n",
        "       CAST(Stock_Quantity AS DECIMAL(10,2)) AS Qty,\n",
        "       CAST(REPLACE(Unit_Price, '$', '') AS DECIMAL(10,2)) AS Price\n",
        "FROM inventory\n",
        "\n",
        "SELECT Qty * Price AS Inventory_Value\n",
        "FROM inventory_clean\n",
        "\"\"\"\n",
        "# Correct 2.x syntax — open a connection\n",
        "with engine.connect() as conn:\n",
        "    result = conn.execute(text(query))\n",
        "    QueryResult = pd.DataFrame(result.fetchall(), columns=result.keys())\n",
        "\n",
        "print(QueryResult)"
      ],
      "metadata": {
        "colab": {
          "base_uri": "https://localhost:8080/",
          "height": 1000
        },
        "id": "QsZh_op82XSK",
        "outputId": "47744599-1e45-43ae-f7bd-7c41c9c10e68"
      },
      "execution_count": null,
      "outputs": [
        {
          "output_type": "stream",
          "name": "stdout",
          "text": [
            "2025-10-16 21:13:15,075 INFO sqlalchemy.engine.Engine BEGIN (implicit)\n"
          ]
        },
        {
          "output_type": "stream",
          "name": "stderr",
          "text": [
            "INFO:sqlalchemy.engine.Engine:BEGIN (implicit)\n"
          ]
        },
        {
          "output_type": "stream",
          "name": "stdout",
          "text": [
            "2025-10-16 21:13:15,077 INFO sqlalchemy.engine.Engine \n",
            "CREATE VIEW inventory_clean AS\n",
            "SELECT Product_ID,\n",
            "       Product_Name,\n",
            "       CAST(Stock_Quantity AS DECIMAL(10,2)) AS Qty,\n",
            "       CAST(REPLACE(Unit_Price, '$', '') AS DECIMAL(10,2)) AS Price\n",
            "FROM inventory\n",
            "\n",
            "SELECT Qty * Price AS Inventory_Value\n",
            "FROM inventory_clean\n",
            "\n"
          ]
        },
        {
          "output_type": "stream",
          "name": "stderr",
          "text": [
            "INFO:sqlalchemy.engine.Engine:\n",
            "CREATE VIEW inventory_clean AS\n",
            "SELECT Product_ID,\n",
            "       Product_Name,\n",
            "       CAST(Stock_Quantity AS DECIMAL(10,2)) AS Qty,\n",
            "       CAST(REPLACE(Unit_Price, '$', '') AS DECIMAL(10,2)) AS Price\n",
            "FROM inventory\n",
            "\n",
            "SELECT Qty * Price AS Inventory_Value\n",
            "FROM inventory_clean\n",
            "\n"
          ]
        },
        {
          "output_type": "stream",
          "name": "stdout",
          "text": [
            "2025-10-16 21:13:15,079 INFO sqlalchemy.engine.Engine [generated in 0.00332s] ()\n"
          ]
        },
        {
          "output_type": "stream",
          "name": "stderr",
          "text": [
            "INFO:sqlalchemy.engine.Engine:[generated in 0.00332s] ()\n"
          ]
        },
        {
          "output_type": "stream",
          "name": "stdout",
          "text": [
            "2025-10-16 21:13:15,081 INFO sqlalchemy.engine.Engine ROLLBACK\n"
          ]
        },
        {
          "output_type": "stream",
          "name": "stderr",
          "text": [
            "INFO:sqlalchemy.engine.Engine:ROLLBACK\n"
          ]
        },
        {
          "output_type": "error",
          "ename": "OperationalError",
          "evalue": "(sqlite3.OperationalError) near \"SELECT\": syntax error\n[SQL: \nCREATE VIEW inventory_clean AS\nSELECT Product_ID,\n       Product_Name,\n       CAST(Stock_Quantity AS DECIMAL(10,2)) AS Qty,\n       CAST(REPLACE(Unit_Price, '$', '') AS DECIMAL(10,2)) AS Price\nFROM inventory\n\nSELECT Qty * Price AS Inventory_Value\nFROM inventory_clean\n]\n(Background on this error at: https://sqlalche.me/e/20/e3q8)",
          "traceback": [
            "\u001b[0;31m---------------------------------------------------------------------------\u001b[0m",
            "\u001b[0;31mOperationalError\u001b[0m                          Traceback (most recent call last)",
            "\u001b[0;32m/usr/local/lib/python3.12/dist-packages/sqlalchemy/engine/base.py\u001b[0m in \u001b[0;36m_exec_single_context\u001b[0;34m(self, dialect, context, statement, parameters)\u001b[0m\n\u001b[1;32m   1966\u001b[0m                 \u001b[0;32mif\u001b[0m \u001b[0;32mnot\u001b[0m \u001b[0mevt_handled\u001b[0m\u001b[0;34m:\u001b[0m\u001b[0;34m\u001b[0m\u001b[0;34m\u001b[0m\u001b[0m\n\u001b[0;32m-> 1967\u001b[0;31m                     self.dialect.do_execute(\n\u001b[0m\u001b[1;32m   1968\u001b[0m                         \u001b[0mcursor\u001b[0m\u001b[0;34m,\u001b[0m \u001b[0mstr_statement\u001b[0m\u001b[0;34m,\u001b[0m \u001b[0meffective_parameters\u001b[0m\u001b[0;34m,\u001b[0m \u001b[0mcontext\u001b[0m\u001b[0;34m\u001b[0m\u001b[0;34m\u001b[0m\u001b[0m\n",
            "\u001b[0;32m/usr/local/lib/python3.12/dist-packages/sqlalchemy/engine/default.py\u001b[0m in \u001b[0;36mdo_execute\u001b[0;34m(self, cursor, statement, parameters, context)\u001b[0m\n\u001b[1;32m    950\u001b[0m     \u001b[0;32mdef\u001b[0m \u001b[0mdo_execute\u001b[0m\u001b[0;34m(\u001b[0m\u001b[0mself\u001b[0m\u001b[0;34m,\u001b[0m \u001b[0mcursor\u001b[0m\u001b[0;34m,\u001b[0m \u001b[0mstatement\u001b[0m\u001b[0;34m,\u001b[0m \u001b[0mparameters\u001b[0m\u001b[0;34m,\u001b[0m \u001b[0mcontext\u001b[0m\u001b[0;34m=\u001b[0m\u001b[0;32mNone\u001b[0m\u001b[0;34m)\u001b[0m\u001b[0;34m:\u001b[0m\u001b[0;34m\u001b[0m\u001b[0;34m\u001b[0m\u001b[0m\n\u001b[0;32m--> 951\u001b[0;31m         \u001b[0mcursor\u001b[0m\u001b[0;34m.\u001b[0m\u001b[0mexecute\u001b[0m\u001b[0;34m(\u001b[0m\u001b[0mstatement\u001b[0m\u001b[0;34m,\u001b[0m \u001b[0mparameters\u001b[0m\u001b[0;34m)\u001b[0m\u001b[0;34m\u001b[0m\u001b[0;34m\u001b[0m\u001b[0m\n\u001b[0m\u001b[1;32m    952\u001b[0m \u001b[0;34m\u001b[0m\u001b[0m\n",
            "\u001b[0;31mOperationalError\u001b[0m: near \"SELECT\": syntax error",
            "\nThe above exception was the direct cause of the following exception:\n",
            "\u001b[0;31mOperationalError\u001b[0m                          Traceback (most recent call last)",
            "\u001b[0;32m/tmp/ipython-input-303653922.py\u001b[0m in \u001b[0;36m<cell line: 0>\u001b[0;34m()\u001b[0m\n\u001b[1;32m     14\u001b[0m \u001b[0;31m# Correct 2.x syntax — open a connection\u001b[0m\u001b[0;34m\u001b[0m\u001b[0;34m\u001b[0m\u001b[0m\n\u001b[1;32m     15\u001b[0m \u001b[0;32mwith\u001b[0m \u001b[0mengine\u001b[0m\u001b[0;34m.\u001b[0m\u001b[0mconnect\u001b[0m\u001b[0;34m(\u001b[0m\u001b[0;34m)\u001b[0m \u001b[0;32mas\u001b[0m \u001b[0mconn\u001b[0m\u001b[0;34m:\u001b[0m\u001b[0;34m\u001b[0m\u001b[0;34m\u001b[0m\u001b[0m\n\u001b[0;32m---> 16\u001b[0;31m     \u001b[0mresult\u001b[0m \u001b[0;34m=\u001b[0m \u001b[0mconn\u001b[0m\u001b[0;34m.\u001b[0m\u001b[0mexecute\u001b[0m\u001b[0;34m(\u001b[0m\u001b[0mtext\u001b[0m\u001b[0;34m(\u001b[0m\u001b[0mquery\u001b[0m\u001b[0;34m)\u001b[0m\u001b[0;34m)\u001b[0m\u001b[0;34m\u001b[0m\u001b[0;34m\u001b[0m\u001b[0m\n\u001b[0m\u001b[1;32m     17\u001b[0m     \u001b[0mQueryResult\u001b[0m \u001b[0;34m=\u001b[0m \u001b[0mpd\u001b[0m\u001b[0;34m.\u001b[0m\u001b[0mDataFrame\u001b[0m\u001b[0;34m(\u001b[0m\u001b[0mresult\u001b[0m\u001b[0;34m.\u001b[0m\u001b[0mfetchall\u001b[0m\u001b[0;34m(\u001b[0m\u001b[0;34m)\u001b[0m\u001b[0;34m,\u001b[0m \u001b[0mcolumns\u001b[0m\u001b[0;34m=\u001b[0m\u001b[0mresult\u001b[0m\u001b[0;34m.\u001b[0m\u001b[0mkeys\u001b[0m\u001b[0;34m(\u001b[0m\u001b[0;34m)\u001b[0m\u001b[0;34m)\u001b[0m\u001b[0;34m\u001b[0m\u001b[0;34m\u001b[0m\u001b[0m\n\u001b[1;32m     18\u001b[0m \u001b[0;34m\u001b[0m\u001b[0m\n",
            "\u001b[0;32m/usr/local/lib/python3.12/dist-packages/sqlalchemy/engine/base.py\u001b[0m in \u001b[0;36mexecute\u001b[0;34m(self, statement, parameters, execution_options)\u001b[0m\n\u001b[1;32m   1417\u001b[0m             \u001b[0;32mraise\u001b[0m \u001b[0mexc\u001b[0m\u001b[0;34m.\u001b[0m\u001b[0mObjectNotExecutableError\u001b[0m\u001b[0;34m(\u001b[0m\u001b[0mstatement\u001b[0m\u001b[0;34m)\u001b[0m \u001b[0;32mfrom\u001b[0m \u001b[0merr\u001b[0m\u001b[0;34m\u001b[0m\u001b[0;34m\u001b[0m\u001b[0m\n\u001b[1;32m   1418\u001b[0m         \u001b[0;32melse\u001b[0m\u001b[0;34m:\u001b[0m\u001b[0;34m\u001b[0m\u001b[0;34m\u001b[0m\u001b[0m\n\u001b[0;32m-> 1419\u001b[0;31m             return meth(\n\u001b[0m\u001b[1;32m   1420\u001b[0m                 \u001b[0mself\u001b[0m\u001b[0;34m,\u001b[0m\u001b[0;34m\u001b[0m\u001b[0;34m\u001b[0m\u001b[0m\n\u001b[1;32m   1421\u001b[0m                 \u001b[0mdistilled_parameters\u001b[0m\u001b[0;34m,\u001b[0m\u001b[0;34m\u001b[0m\u001b[0;34m\u001b[0m\u001b[0m\n",
            "\u001b[0;32m/usr/local/lib/python3.12/dist-packages/sqlalchemy/sql/elements.py\u001b[0m in \u001b[0;36m_execute_on_connection\u001b[0;34m(self, connection, distilled_params, execution_options)\u001b[0m\n\u001b[1;32m    524\u001b[0m             \u001b[0;32mif\u001b[0m \u001b[0mTYPE_CHECKING\u001b[0m\u001b[0;34m:\u001b[0m\u001b[0;34m\u001b[0m\u001b[0;34m\u001b[0m\u001b[0m\n\u001b[1;32m    525\u001b[0m                 \u001b[0;32massert\u001b[0m \u001b[0misinstance\u001b[0m\u001b[0;34m(\u001b[0m\u001b[0mself\u001b[0m\u001b[0;34m,\u001b[0m \u001b[0mExecutable\u001b[0m\u001b[0;34m)\u001b[0m\u001b[0;34m\u001b[0m\u001b[0;34m\u001b[0m\u001b[0m\n\u001b[0;32m--> 526\u001b[0;31m             return connection._execute_clauseelement(\n\u001b[0m\u001b[1;32m    527\u001b[0m                 \u001b[0mself\u001b[0m\u001b[0;34m,\u001b[0m \u001b[0mdistilled_params\u001b[0m\u001b[0;34m,\u001b[0m \u001b[0mexecution_options\u001b[0m\u001b[0;34m\u001b[0m\u001b[0;34m\u001b[0m\u001b[0m\n\u001b[1;32m    528\u001b[0m             )\n",
            "\u001b[0;32m/usr/local/lib/python3.12/dist-packages/sqlalchemy/engine/base.py\u001b[0m in \u001b[0;36m_execute_clauseelement\u001b[0;34m(self, elem, distilled_parameters, execution_options)\u001b[0m\n\u001b[1;32m   1639\u001b[0m             \u001b[0mlinting\u001b[0m\u001b[0;34m=\u001b[0m\u001b[0mself\u001b[0m\u001b[0;34m.\u001b[0m\u001b[0mdialect\u001b[0m\u001b[0;34m.\u001b[0m\u001b[0mcompiler_linting\u001b[0m \u001b[0;34m|\u001b[0m \u001b[0mcompiler\u001b[0m\u001b[0;34m.\u001b[0m\u001b[0mWARN_LINTING\u001b[0m\u001b[0;34m,\u001b[0m\u001b[0;34m\u001b[0m\u001b[0;34m\u001b[0m\u001b[0m\n\u001b[1;32m   1640\u001b[0m         )\n\u001b[0;32m-> 1641\u001b[0;31m         ret = self._execute_context(\n\u001b[0m\u001b[1;32m   1642\u001b[0m             \u001b[0mdialect\u001b[0m\u001b[0;34m,\u001b[0m\u001b[0;34m\u001b[0m\u001b[0;34m\u001b[0m\u001b[0m\n\u001b[1;32m   1643\u001b[0m             \u001b[0mdialect\u001b[0m\u001b[0;34m.\u001b[0m\u001b[0mexecution_ctx_cls\u001b[0m\u001b[0;34m.\u001b[0m\u001b[0m_init_compiled\u001b[0m\u001b[0;34m,\u001b[0m\u001b[0;34m\u001b[0m\u001b[0;34m\u001b[0m\u001b[0m\n",
            "\u001b[0;32m/usr/local/lib/python3.12/dist-packages/sqlalchemy/engine/base.py\u001b[0m in \u001b[0;36m_execute_context\u001b[0;34m(self, dialect, constructor, statement, parameters, execution_options, *args, **kw)\u001b[0m\n\u001b[1;32m   1844\u001b[0m             \u001b[0;32mreturn\u001b[0m \u001b[0mself\u001b[0m\u001b[0;34m.\u001b[0m\u001b[0m_exec_insertmany_context\u001b[0m\u001b[0;34m(\u001b[0m\u001b[0mdialect\u001b[0m\u001b[0;34m,\u001b[0m \u001b[0mcontext\u001b[0m\u001b[0;34m)\u001b[0m\u001b[0;34m\u001b[0m\u001b[0;34m\u001b[0m\u001b[0m\n\u001b[1;32m   1845\u001b[0m         \u001b[0;32melse\u001b[0m\u001b[0;34m:\u001b[0m\u001b[0;34m\u001b[0m\u001b[0;34m\u001b[0m\u001b[0m\n\u001b[0;32m-> 1846\u001b[0;31m             return self._exec_single_context(\n\u001b[0m\u001b[1;32m   1847\u001b[0m                 \u001b[0mdialect\u001b[0m\u001b[0;34m,\u001b[0m \u001b[0mcontext\u001b[0m\u001b[0;34m,\u001b[0m \u001b[0mstatement\u001b[0m\u001b[0;34m,\u001b[0m \u001b[0mparameters\u001b[0m\u001b[0;34m\u001b[0m\u001b[0;34m\u001b[0m\u001b[0m\n\u001b[1;32m   1848\u001b[0m             )\n",
            "\u001b[0;32m/usr/local/lib/python3.12/dist-packages/sqlalchemy/engine/base.py\u001b[0m in \u001b[0;36m_exec_single_context\u001b[0;34m(self, dialect, context, statement, parameters)\u001b[0m\n\u001b[1;32m   1984\u001b[0m \u001b[0;34m\u001b[0m\u001b[0m\n\u001b[1;32m   1985\u001b[0m         \u001b[0;32mexcept\u001b[0m \u001b[0mBaseException\u001b[0m \u001b[0;32mas\u001b[0m \u001b[0me\u001b[0m\u001b[0;34m:\u001b[0m\u001b[0;34m\u001b[0m\u001b[0;34m\u001b[0m\u001b[0m\n\u001b[0;32m-> 1986\u001b[0;31m             self._handle_dbapi_exception(\n\u001b[0m\u001b[1;32m   1987\u001b[0m                 \u001b[0me\u001b[0m\u001b[0;34m,\u001b[0m \u001b[0mstr_statement\u001b[0m\u001b[0;34m,\u001b[0m \u001b[0meffective_parameters\u001b[0m\u001b[0;34m,\u001b[0m \u001b[0mcursor\u001b[0m\u001b[0;34m,\u001b[0m \u001b[0mcontext\u001b[0m\u001b[0;34m\u001b[0m\u001b[0;34m\u001b[0m\u001b[0m\n\u001b[1;32m   1988\u001b[0m             )\n",
            "\u001b[0;32m/usr/local/lib/python3.12/dist-packages/sqlalchemy/engine/base.py\u001b[0m in \u001b[0;36m_handle_dbapi_exception\u001b[0;34m(self, e, statement, parameters, cursor, context, is_sub_exec)\u001b[0m\n\u001b[1;32m   2353\u001b[0m             \u001b[0;32melif\u001b[0m \u001b[0mshould_wrap\u001b[0m\u001b[0;34m:\u001b[0m\u001b[0;34m\u001b[0m\u001b[0;34m\u001b[0m\u001b[0m\n\u001b[1;32m   2354\u001b[0m                 \u001b[0;32massert\u001b[0m \u001b[0msqlalchemy_exception\u001b[0m \u001b[0;32mis\u001b[0m \u001b[0;32mnot\u001b[0m \u001b[0;32mNone\u001b[0m\u001b[0;34m\u001b[0m\u001b[0;34m\u001b[0m\u001b[0m\n\u001b[0;32m-> 2355\u001b[0;31m                 \u001b[0;32mraise\u001b[0m \u001b[0msqlalchemy_exception\u001b[0m\u001b[0;34m.\u001b[0m\u001b[0mwith_traceback\u001b[0m\u001b[0;34m(\u001b[0m\u001b[0mexc_info\u001b[0m\u001b[0;34m[\u001b[0m\u001b[0;36m2\u001b[0m\u001b[0;34m]\u001b[0m\u001b[0;34m)\u001b[0m \u001b[0;32mfrom\u001b[0m \u001b[0me\u001b[0m\u001b[0;34m\u001b[0m\u001b[0;34m\u001b[0m\u001b[0m\n\u001b[0m\u001b[1;32m   2356\u001b[0m             \u001b[0;32melse\u001b[0m\u001b[0;34m:\u001b[0m\u001b[0;34m\u001b[0m\u001b[0;34m\u001b[0m\u001b[0m\n\u001b[1;32m   2357\u001b[0m                 \u001b[0;32massert\u001b[0m \u001b[0mexc_info\u001b[0m\u001b[0;34m[\u001b[0m\u001b[0;36m1\u001b[0m\u001b[0;34m]\u001b[0m \u001b[0;32mis\u001b[0m \u001b[0;32mnot\u001b[0m \u001b[0;32mNone\u001b[0m\u001b[0;34m\u001b[0m\u001b[0;34m\u001b[0m\u001b[0m\n",
            "\u001b[0;32m/usr/local/lib/python3.12/dist-packages/sqlalchemy/engine/base.py\u001b[0m in \u001b[0;36m_exec_single_context\u001b[0;34m(self, dialect, context, statement, parameters)\u001b[0m\n\u001b[1;32m   1965\u001b[0m                             \u001b[0;32mbreak\u001b[0m\u001b[0;34m\u001b[0m\u001b[0;34m\u001b[0m\u001b[0m\n\u001b[1;32m   1966\u001b[0m                 \u001b[0;32mif\u001b[0m \u001b[0;32mnot\u001b[0m \u001b[0mevt_handled\u001b[0m\u001b[0;34m:\u001b[0m\u001b[0;34m\u001b[0m\u001b[0;34m\u001b[0m\u001b[0m\n\u001b[0;32m-> 1967\u001b[0;31m                     self.dialect.do_execute(\n\u001b[0m\u001b[1;32m   1968\u001b[0m                         \u001b[0mcursor\u001b[0m\u001b[0;34m,\u001b[0m \u001b[0mstr_statement\u001b[0m\u001b[0;34m,\u001b[0m \u001b[0meffective_parameters\u001b[0m\u001b[0;34m,\u001b[0m \u001b[0mcontext\u001b[0m\u001b[0;34m\u001b[0m\u001b[0;34m\u001b[0m\u001b[0m\n\u001b[1;32m   1969\u001b[0m                     )\n",
            "\u001b[0;32m/usr/local/lib/python3.12/dist-packages/sqlalchemy/engine/default.py\u001b[0m in \u001b[0;36mdo_execute\u001b[0;34m(self, cursor, statement, parameters, context)\u001b[0m\n\u001b[1;32m    949\u001b[0m \u001b[0;34m\u001b[0m\u001b[0m\n\u001b[1;32m    950\u001b[0m     \u001b[0;32mdef\u001b[0m \u001b[0mdo_execute\u001b[0m\u001b[0;34m(\u001b[0m\u001b[0mself\u001b[0m\u001b[0;34m,\u001b[0m \u001b[0mcursor\u001b[0m\u001b[0;34m,\u001b[0m \u001b[0mstatement\u001b[0m\u001b[0;34m,\u001b[0m \u001b[0mparameters\u001b[0m\u001b[0;34m,\u001b[0m \u001b[0mcontext\u001b[0m\u001b[0;34m=\u001b[0m\u001b[0;32mNone\u001b[0m\u001b[0;34m)\u001b[0m\u001b[0;34m:\u001b[0m\u001b[0;34m\u001b[0m\u001b[0;34m\u001b[0m\u001b[0m\n\u001b[0;32m--> 951\u001b[0;31m         \u001b[0mcursor\u001b[0m\u001b[0;34m.\u001b[0m\u001b[0mexecute\u001b[0m\u001b[0;34m(\u001b[0m\u001b[0mstatement\u001b[0m\u001b[0;34m,\u001b[0m \u001b[0mparameters\u001b[0m\u001b[0;34m)\u001b[0m\u001b[0;34m\u001b[0m\u001b[0;34m\u001b[0m\u001b[0m\n\u001b[0m\u001b[1;32m    952\u001b[0m \u001b[0;34m\u001b[0m\u001b[0m\n\u001b[1;32m    953\u001b[0m     \u001b[0;32mdef\u001b[0m \u001b[0mdo_execute_no_params\u001b[0m\u001b[0;34m(\u001b[0m\u001b[0mself\u001b[0m\u001b[0;34m,\u001b[0m \u001b[0mcursor\u001b[0m\u001b[0;34m,\u001b[0m \u001b[0mstatement\u001b[0m\u001b[0;34m,\u001b[0m \u001b[0mcontext\u001b[0m\u001b[0;34m=\u001b[0m\u001b[0;32mNone\u001b[0m\u001b[0;34m)\u001b[0m\u001b[0;34m:\u001b[0m\u001b[0;34m\u001b[0m\u001b[0;34m\u001b[0m\u001b[0m\n",
            "\u001b[0;31mOperationalError\u001b[0m: (sqlite3.OperationalError) near \"SELECT\": syntax error\n[SQL: \nCREATE VIEW inventory_clean AS\nSELECT Product_ID,\n       Product_Name,\n       CAST(Stock_Quantity AS DECIMAL(10,2)) AS Qty,\n       CAST(REPLACE(Unit_Price, '$', '') AS DECIMAL(10,2)) AS Price\nFROM inventory\n\nSELECT Qty * Price AS Inventory_Value\nFROM inventory_clean\n]\n(Background on this error at: https://sqlalche.me/e/20/e3q8)"
          ]
        }
      ]
    },
    {
      "cell_type": "code",
      "source": [
        "# Show products that will expire in the next 30 days.\n",
        "\n",
        "SELECT Product_ID, Product_Name, Expiration_Date\n",
        "FROM inventory\n",
        "WHERE Expiration_Date BETWEEN CURRENT_DATE AND DATE_ADD(CURRENT_DATE, INTERVAL 30 DAY)\n",
        "ORDER BY Expiration_Date;"
      ],
      "metadata": {
        "id": "mVaVTodwyCMv"
      },
      "execution_count": null,
      "outputs": []
    },
    {
      "cell_type": "code",
      "source": [
        "CAST(Unit_price AS INTEGER)."
      ],
      "metadata": {
        "id": "BVawzNhi0wJZ"
      },
      "execution_count": null,
      "outputs": []
    },
    {
      "cell_type": "code",
      "source": [
        "Find which suppliers supply the most unique products.\n",
        "\n",
        "SELECT Supplier_ID, Supplier_Name, COUNT(DISTINCT Product_ID) AS Product_Count\n",
        "FROM inventory\n",
        "GROUP BY Supplier_ID, Supplier_Name\n",
        "ORDER BY Product_Count DESC;"
      ],
      "metadata": {
        "id": "5l6hv-2t1ny1"
      },
      "execution_count": null,
      "outputs": []
    },
    {
      "cell_type": "code",
      "source": [
        "List products that should be reordered (below reorder level), with suggested reorder quantity.\n",
        "\n",
        "SELECT Product_ID,\n",
        "       Product_Name,\n",
        "       Stock_Quantity,\n",
        "       Reorder_Level,\n",
        "       Reorder_Quantity,\n",
        "       (Reorder_Level - Stock_Quantity + Reorder_Quantity) AS Suggested_Order\n",
        "FROM inventory\n",
        "WHERE Stock_Quantity < Reorder_Level\n",
        "ORDER BY Suggested_Order DESC;"
      ],
      "metadata": {
        "id": "JXuGxtIV1nle"
      },
      "execution_count": null,
      "outputs": []
    },
    {
      "cell_type": "code",
      "source": [
        "Rank products by turnover rate.\n",
        "\n",
        "SELECT Product_ID,\n",
        "       Product_Name,\n",
        "       Inventory_Turnover_Rate,\n",
        "       RANK() OVER (ORDER BY Inventory_Turnover_Rate DESC) AS Turnover_Rank\n",
        "FROM inventory;"
      ],
      "metadata": {
        "id": "MHCF4knt1jlb"
      },
      "execution_count": null,
      "outputs": []
    },
    {
      "cell_type": "code",
      "source": [
        "Rank products by turnover rate.\n",
        "\n",
        "SELECT Product_ID,\n",
        "       Product_Name,\n",
        "       Inventory_Turnover_Rate,\n",
        "       RANK() OVER (ORDER BY Inventory_Turnover_Rate DESC) AS Turnover_Rank\n",
        "FROM inventory;"
      ],
      "metadata": {
        "id": "Me1ldEod1fsu"
      },
      "execution_count": null,
      "outputs": []
    },
    {
      "cell_type": "code",
      "source": [
        "Count of Active vs Discontinued Products\n",
        "\n",
        "Inventory status overview.\n",
        "\n",
        "SELECT Status, COUNT(*) AS Product_Count\n",
        "FROM inventory\n",
        "GROUP BY Status;"
      ],
      "metadata": {
        "id": "r55LIAL11cjO"
      },
      "execution_count": null,
      "outputs": []
    },
    {
      "cell_type": "code",
      "source": [
        "Which product categories generate the most sales volume.\n",
        "\n",
        "SELECT Category, SUM(Sales_Volume) AS Total_Sales\n",
        "FROM inventory\n",
        "GROUP BY Category\n",
        "ORDER BY Total_Sales DESC;"
      ],
      "metadata": {
        "id": "x-_P9Xzs1YDU"
      },
      "execution_count": null,
      "outputs": []
    },
    {
      "cell_type": "code",
      "source": [
        "See how many products are stored at each warehouse location.\n",
        "\n",
        "SELECT Warehouse_Location, COUNT(Product_ID) AS Product_Count\n",
        "FROM inventory\n",
        "GROUP BY Warehouse_Location\n",
        "ORDER BY Product_Count DESC;"
      ],
      "metadata": {
        "id": "ftlAqy5E1T4L"
      },
      "execution_count": null,
      "outputs": []
    },
    {
      "cell_type": "code",
      "source": [
        "Combine low stock, high sales volume, and high turnover rate to find products that need urgent attention.\n",
        "\n",
        "SELECT Product_ID,\n",
        "       Product_Name,\n",
        "       Stock_Quantity,\n",
        "       Sales_Volume,\n",
        "       Inventory_Turnover_Rate,\n",
        "       (Reorder_Level - Stock_Quantity) AS Shortfall\n",
        "FROM inventory\n",
        "WHERE Stock_Quantity < Reorder_Level\n",
        "ORDER BY Inventory_Turnover_Rate DESC, Sales_Volume DESC;"
      ],
      "metadata": {
        "id": "JTfMy5DJ1Rpd"
      },
      "execution_count": null,
      "outputs": []
    },
    {
      "cell_type": "code",
      "source": [],
      "metadata": {
        "id": "wcBVdtDI1S9k"
      },
      "execution_count": null,
      "outputs": []
    }
  ]
}