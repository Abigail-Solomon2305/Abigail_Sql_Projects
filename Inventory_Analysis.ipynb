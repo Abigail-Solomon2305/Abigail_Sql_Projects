{
  "nbformat": 4,
  "nbformat_minor": 0,
  "metadata": {
    "colab": {
      "provenance": [],
      "authorship_tag": "ABX9TyO1Dg1DyEUIVNTijZki89Fb",
      "include_colab_link": true
    },
    "kernelspec": {
      "name": "python3",
      "display_name": "Python 3"
    },
    "language_info": {
      "name": "python"
    }
  },
  "cells": [
    {
      "cell_type": "markdown",
      "metadata": {
        "id": "view-in-github",
        "colab_type": "text"
      },
      "source": [
        "<a href=\"https://colab.research.google.com/github/Abigail-Solomon2305/Abigail_Sql_Projects/blob/main/Inventory_Analysis.ipynb\" target=\"_parent\"><img src=\"https://colab.research.google.com/assets/colab-badge.svg\" alt=\"Open In Colab\"/></a>"
      ]
    },
    {
      "cell_type": "code",
      "execution_count": null,
      "metadata": {
        "colab": {
          "base_uri": "https://localhost:8080/",
          "height": 73
        },
        "id": "vGZtLU-7QsrN",
        "outputId": "6e60cd61-c4f9-4a70-9154-357e944d57c1",
        "collapsed": true
      },
      "outputs": [
        {
          "output_type": "display_data",
          "data": {
            "text/plain": [
              "<IPython.core.display.HTML object>"
            ],
            "text/html": [
              "\n",
              "     <input type=\"file\" id=\"files-ae341c98-dc73-4b6f-9252-b6fd29d77060\" name=\"files[]\" multiple disabled\n",
              "        style=\"border:none\" />\n",
              "     <output id=\"result-ae341c98-dc73-4b6f-9252-b6fd29d77060\">\n",
              "      Upload widget is only available when the cell has been executed in the\n",
              "      current browser session. Please rerun this cell to enable.\n",
              "      </output>\n",
              "      <script>// Copyright 2017 Google LLC\n",
              "//\n",
              "// Licensed under the Apache License, Version 2.0 (the \"License\");\n",
              "// you may not use this file except in compliance with the License.\n",
              "// You may obtain a copy of the License at\n",
              "//\n",
              "//      http://www.apache.org/licenses/LICENSE-2.0\n",
              "//\n",
              "// Unless required by applicable law or agreed to in writing, software\n",
              "// distributed under the License is distributed on an \"AS IS\" BASIS,\n",
              "// WITHOUT WARRANTIES OR CONDITIONS OF ANY KIND, either express or implied.\n",
              "// See the License for the specific language governing permissions and\n",
              "// limitations under the License.\n",
              "\n",
              "/**\n",
              " * @fileoverview Helpers for google.colab Python module.\n",
              " */\n",
              "(function(scope) {\n",
              "function span(text, styleAttributes = {}) {\n",
              "  const element = document.createElement('span');\n",
              "  element.textContent = text;\n",
              "  for (const key of Object.keys(styleAttributes)) {\n",
              "    element.style[key] = styleAttributes[key];\n",
              "  }\n",
              "  return element;\n",
              "}\n",
              "\n",
              "// Max number of bytes which will be uploaded at a time.\n",
              "const MAX_PAYLOAD_SIZE = 100 * 1024;\n",
              "\n",
              "function _uploadFiles(inputId, outputId) {\n",
              "  const steps = uploadFilesStep(inputId, outputId);\n",
              "  const outputElement = document.getElementById(outputId);\n",
              "  // Cache steps on the outputElement to make it available for the next call\n",
              "  // to uploadFilesContinue from Python.\n",
              "  outputElement.steps = steps;\n",
              "\n",
              "  return _uploadFilesContinue(outputId);\n",
              "}\n",
              "\n",
              "// This is roughly an async generator (not supported in the browser yet),\n",
              "// where there are multiple asynchronous steps and the Python side is going\n",
              "// to poll for completion of each step.\n",
              "// This uses a Promise to block the python side on completion of each step,\n",
              "// then passes the result of the previous step as the input to the next step.\n",
              "function _uploadFilesContinue(outputId) {\n",
              "  const outputElement = document.getElementById(outputId);\n",
              "  const steps = outputElement.steps;\n",
              "\n",
              "  const next = steps.next(outputElement.lastPromiseValue);\n",
              "  return Promise.resolve(next.value.promise).then((value) => {\n",
              "    // Cache the last promise value to make it available to the next\n",
              "    // step of the generator.\n",
              "    outputElement.lastPromiseValue = value;\n",
              "    return next.value.response;\n",
              "  });\n",
              "}\n",
              "\n",
              "/**\n",
              " * Generator function which is called between each async step of the upload\n",
              " * process.\n",
              " * @param {string} inputId Element ID of the input file picker element.\n",
              " * @param {string} outputId Element ID of the output display.\n",
              " * @return {!Iterable<!Object>} Iterable of next steps.\n",
              " */\n",
              "function* uploadFilesStep(inputId, outputId) {\n",
              "  const inputElement = document.getElementById(inputId);\n",
              "  inputElement.disabled = false;\n",
              "\n",
              "  const outputElement = document.getElementById(outputId);\n",
              "  outputElement.innerHTML = '';\n",
              "\n",
              "  const pickedPromise = new Promise((resolve) => {\n",
              "    inputElement.addEventListener('change', (e) => {\n",
              "      resolve(e.target.files);\n",
              "    });\n",
              "  });\n",
              "\n",
              "  const cancel = document.createElement('button');\n",
              "  inputElement.parentElement.appendChild(cancel);\n",
              "  cancel.textContent = 'Cancel upload';\n",
              "  const cancelPromise = new Promise((resolve) => {\n",
              "    cancel.onclick = () => {\n",
              "      resolve(null);\n",
              "    };\n",
              "  });\n",
              "\n",
              "  // Wait for the user to pick the files.\n",
              "  const files = yield {\n",
              "    promise: Promise.race([pickedPromise, cancelPromise]),\n",
              "    response: {\n",
              "      action: 'starting',\n",
              "    }\n",
              "  };\n",
              "\n",
              "  cancel.remove();\n",
              "\n",
              "  // Disable the input element since further picks are not allowed.\n",
              "  inputElement.disabled = true;\n",
              "\n",
              "  if (!files) {\n",
              "    return {\n",
              "      response: {\n",
              "        action: 'complete',\n",
              "      }\n",
              "    };\n",
              "  }\n",
              "\n",
              "  for (const file of files) {\n",
              "    const li = document.createElement('li');\n",
              "    li.append(span(file.name, {fontWeight: 'bold'}));\n",
              "    li.append(span(\n",
              "        `(${file.type || 'n/a'}) - ${file.size} bytes, ` +\n",
              "        `last modified: ${\n",
              "            file.lastModifiedDate ? file.lastModifiedDate.toLocaleDateString() :\n",
              "                                    'n/a'} - `));\n",
              "    const percent = span('0% done');\n",
              "    li.appendChild(percent);\n",
              "\n",
              "    outputElement.appendChild(li);\n",
              "\n",
              "    const fileDataPromise = new Promise((resolve) => {\n",
              "      const reader = new FileReader();\n",
              "      reader.onload = (e) => {\n",
              "        resolve(e.target.result);\n",
              "      };\n",
              "      reader.readAsArrayBuffer(file);\n",
              "    });\n",
              "    // Wait for the data to be ready.\n",
              "    let fileData = yield {\n",
              "      promise: fileDataPromise,\n",
              "      response: {\n",
              "        action: 'continue',\n",
              "      }\n",
              "    };\n",
              "\n",
              "    // Use a chunked sending to avoid message size limits. See b/62115660.\n",
              "    let position = 0;\n",
              "    do {\n",
              "      const length = Math.min(fileData.byteLength - position, MAX_PAYLOAD_SIZE);\n",
              "      const chunk = new Uint8Array(fileData, position, length);\n",
              "      position += length;\n",
              "\n",
              "      const base64 = btoa(String.fromCharCode.apply(null, chunk));\n",
              "      yield {\n",
              "        response: {\n",
              "          action: 'append',\n",
              "          file: file.name,\n",
              "          data: base64,\n",
              "        },\n",
              "      };\n",
              "\n",
              "      let percentDone = fileData.byteLength === 0 ?\n",
              "          100 :\n",
              "          Math.round((position / fileData.byteLength) * 100);\n",
              "      percent.textContent = `${percentDone}% done`;\n",
              "\n",
              "    } while (position < fileData.byteLength);\n",
              "  }\n",
              "\n",
              "  // All done.\n",
              "  yield {\n",
              "    response: {\n",
              "      action: 'complete',\n",
              "    }\n",
              "  };\n",
              "}\n",
              "\n",
              "scope.google = scope.google || {};\n",
              "scope.google.colab = scope.google.colab || {};\n",
              "scope.google.colab._files = {\n",
              "  _uploadFiles,\n",
              "  _uploadFilesContinue,\n",
              "};\n",
              "})(self);\n",
              "</script> "
            ]
          },
          "metadata": {}
        },
        {
          "output_type": "stream",
          "name": "stdout",
          "text": [
            "Saving Grocery_Inventory_and_Sales_Dataset.csv to Grocery_Inventory_and_Sales_Dataset (1).csv\n"
          ]
        }
      ],
      "source": [
        "# INVENTORY ANALYSIS PROJECT\n",
        "\n",
        "from sqlalchemy import create_engine, text\n",
        "\n",
        "from google.colab import files\n",
        "upload = files.upload()"
      ]
    },
    {
      "cell_type": "code",
      "source": [
        "# imported and loaded libaries\n",
        "\n",
        "import pandas as pd\n",
        "import numpy as py\n",
        "import matplotlib.pyplot as plt\n",
        "import seaborn as sns\n"
      ],
      "metadata": {
        "id": "GEOpCBGqSms4"
      },
      "execution_count": null,
      "outputs": []
    },
    {
      "cell_type": "code",
      "source": [
        "df = pd.read_csv(\"Grocery_Inventory_and_Sales_Dataset.csv\")\n",
        "\n",
        "#Create in-memory SQLite database (use 'sqlite:///my.db' to save to disk)\n",
        "engine = create_engine('sqlite://', echo=True)\n",
        "\n",
        "# 3️⃣ Write DataFrame to SQL\n",
        "df.to_sql('Inventory', con=engine, index=False, if_exists='replace')\n"
      ],
      "metadata": {
        "colab": {
          "base_uri": "https://localhost:8080/"
        },
        "id": "_uoH16gAYSiF",
        "outputId": "96a6b3a7-9359-4490-f56a-2befdda98515",
        "collapsed": true
      },
      "execution_count": null,
      "outputs": [
        {
          "output_type": "stream",
          "name": "stdout",
          "text": [
            "2025-10-25 13:26:51,980 INFO sqlalchemy.engine.Engine BEGIN (implicit)\n"
          ]
        },
        {
          "output_type": "stream",
          "name": "stderr",
          "text": [
            "INFO:sqlalchemy.engine.Engine:BEGIN (implicit)\n"
          ]
        },
        {
          "output_type": "stream",
          "name": "stdout",
          "text": [
            "2025-10-25 13:26:51,987 INFO sqlalchemy.engine.Engine PRAGMA main.table_info(\"Inventory\")\n"
          ]
        },
        {
          "output_type": "stream",
          "name": "stderr",
          "text": [
            "INFO:sqlalchemy.engine.Engine:PRAGMA main.table_info(\"Inventory\")\n"
          ]
        },
        {
          "output_type": "stream",
          "name": "stdout",
          "text": [
            "2025-10-25 13:26:51,989 INFO sqlalchemy.engine.Engine [raw sql] ()\n"
          ]
        },
        {
          "output_type": "stream",
          "name": "stderr",
          "text": [
            "INFO:sqlalchemy.engine.Engine:[raw sql] ()\n"
          ]
        },
        {
          "output_type": "stream",
          "name": "stdout",
          "text": [
            "2025-10-25 13:26:51,992 INFO sqlalchemy.engine.Engine PRAGMA temp.table_info(\"Inventory\")\n"
          ]
        },
        {
          "output_type": "stream",
          "name": "stderr",
          "text": [
            "INFO:sqlalchemy.engine.Engine:PRAGMA temp.table_info(\"Inventory\")\n"
          ]
        },
        {
          "output_type": "stream",
          "name": "stdout",
          "text": [
            "2025-10-25 13:26:51,998 INFO sqlalchemy.engine.Engine [raw sql] ()\n"
          ]
        },
        {
          "output_type": "stream",
          "name": "stderr",
          "text": [
            "INFO:sqlalchemy.engine.Engine:[raw sql] ()\n"
          ]
        },
        {
          "output_type": "stream",
          "name": "stdout",
          "text": [
            "2025-10-25 13:26:52,004 INFO sqlalchemy.engine.Engine \n",
            "CREATE TABLE \"Inventory\" (\n",
            "\t\"Product_ID\" TEXT, \n",
            "\t\"Product_Name\" TEXT, \n",
            "\t\"Catagory\" TEXT, \n",
            "\t\"Supplier_ID\" TEXT, \n",
            "\t\"Supplier_Name\" TEXT, \n",
            "\t\"Stock_Quantity\" BIGINT, \n",
            "\t\"Reorder_Level\" BIGINT, \n",
            "\t\"Reorder_Quantity\" BIGINT, \n",
            "\t\"Unit_Price\" TEXT, \n",
            "\t\"Date_Received\" TEXT, \n",
            "\t\"Last_Order_Date\" TEXT, \n",
            "\t\"Expiration_Date\" TEXT, \n",
            "\t\"Warehouse_Location\" TEXT, \n",
            "\t\"Sales_Volume\" BIGINT, \n",
            "\t\"Inventory_Turnover_Rate\" BIGINT, \n",
            "\t\"Status\" TEXT\n",
            ")\n",
            "\n",
            "\n"
          ]
        },
        {
          "output_type": "stream",
          "name": "stderr",
          "text": [
            "INFO:sqlalchemy.engine.Engine:\n",
            "CREATE TABLE \"Inventory\" (\n",
            "\t\"Product_ID\" TEXT, \n",
            "\t\"Product_Name\" TEXT, \n",
            "\t\"Catagory\" TEXT, \n",
            "\t\"Supplier_ID\" TEXT, \n",
            "\t\"Supplier_Name\" TEXT, \n",
            "\t\"Stock_Quantity\" BIGINT, \n",
            "\t\"Reorder_Level\" BIGINT, \n",
            "\t\"Reorder_Quantity\" BIGINT, \n",
            "\t\"Unit_Price\" TEXT, \n",
            "\t\"Date_Received\" TEXT, \n",
            "\t\"Last_Order_Date\" TEXT, \n",
            "\t\"Expiration_Date\" TEXT, \n",
            "\t\"Warehouse_Location\" TEXT, \n",
            "\t\"Sales_Volume\" BIGINT, \n",
            "\t\"Inventory_Turnover_Rate\" BIGINT, \n",
            "\t\"Status\" TEXT\n",
            ")\n",
            "\n",
            "\n"
          ]
        },
        {
          "output_type": "stream",
          "name": "stdout",
          "text": [
            "2025-10-25 13:26:52,006 INFO sqlalchemy.engine.Engine [no key 0.00180s] ()\n"
          ]
        },
        {
          "output_type": "stream",
          "name": "stderr",
          "text": [
            "INFO:sqlalchemy.engine.Engine:[no key 0.00180s] ()\n"
          ]
        },
        {
          "output_type": "stream",
          "name": "stdout",
          "text": [
            "2025-10-25 13:26:52,025 INFO sqlalchemy.engine.Engine INSERT INTO \"Inventory\" (\"Product_ID\", \"Product_Name\", \"Catagory\", \"Supplier_ID\", \"Supplier_Name\", \"Stock_Quantity\", \"Reorder_Level\", \"Reorder_Quantity\", \"Unit_Price\", \"Date_Received\", \"Last_Order_Date\", \"Expiration_Date\", \"Warehouse_Location\", \"Sales_Volume\", \"Inventory_Turnover_Rate\", \"Status\") VALUES (?, ?, ?, ?, ?, ?, ?, ?, ?, ?, ?, ?, ?, ?, ?, ?)\n"
          ]
        },
        {
          "output_type": "stream",
          "name": "stderr",
          "text": [
            "INFO:sqlalchemy.engine.Engine:INSERT INTO \"Inventory\" (\"Product_ID\", \"Product_Name\", \"Catagory\", \"Supplier_ID\", \"Supplier_Name\", \"Stock_Quantity\", \"Reorder_Level\", \"Reorder_Quantity\", \"Unit_Price\", \"Date_Received\", \"Last_Order_Date\", \"Expiration_Date\", \"Warehouse_Location\", \"Sales_Volume\", \"Inventory_Turnover_Rate\", \"Status\") VALUES (?, ?, ?, ?, ?, ?, ?, ?, ?, ?, ?, ?, ?, ?, ?, ?)\n"
          ]
        },
        {
          "output_type": "stream",
          "name": "stdout",
          "text": [
            "2025-10-25 13:26:52,028 INFO sqlalchemy.engine.Engine [generated in 0.00973s] [('29-205-1132', 'Sushi Rice', 'Grains & Pulses', '38-037-1699', 'Jaxnation', 22, 72, 70, '$4.50 ', '8/16/2024', '6/29/2024', '9/19/2024', '48 Del Sol Trail', 32, 19, 'Discontinued'), ('40-681-9981', 'Arabica Coffee', 'Beverages', '54-470-2479', 'Feedmix', 45, 77, 2, '$20.00 ', '11/1/2024', '5/29/2024', '5/8/2024', '36 3rd Place', 85, 1, 'Discontinued'), ('06-955-3428', 'Black Rice', 'Grains & Pulses', '54-031-2945', 'Vinder', 30, 38, 83, '$6.00 ', '8/3/2024', '6/10/2024', '9/22/2024', '3296 Walton Court', 31, 34, 'Backordered'), ('71-594-6552', 'Long Grain Rice', 'Grains & Pulses', '63-492-7603', 'Brightbean', 12, 59, 62, '$1.50 ', '12/8/2024', '2/19/2025', '4/17/2024', '3 Westerfield Crossing', 95, 99, 'Active'), ('57-437-1828', 'Plum', 'Fruits & Vegetables', '54-226-4308', 'Topicstorm', 37, 30, 74, '$4.00 ', '7/3/2024', '10/11/2024', '10/5/2024', '15068 Scoville Court', 62, 25, 'Backordered'), ('21-120-6238', 'All-Purpose Flour', 'Grains & Pulses', '86-292-4587', 'Dabjam', 55, 33, 14, '$1.75 ', '12/3/2024', '5/26/2024', '9/5/2024', '050 Mcbride Avenue', 34, 62, 'Discontinued'), ('71-516-1996', 'Corn Oil', 'Oils & Fats', '04-391-7610', 'Tagfeed', 96, 52, 16, '$2.50 ', '3/18/2024', '5/7/2024', '6/20/2024', '12 Truax Court', 67, 13, 'Active'), ('39-629-5554', 'Egg (Goose)', 'Dairy', '67-679-4930', 'Muxo', 44, 90, 17, '$2.50 ', '2/3/2025', '4/9/2024', '2/5/2025', '267 International Plaza', 21, 91, 'Discontinued')  ... displaying 10 of 990 total bound parameter sets ...  ('86-692-2312', 'Avocado Oil', 'Oils & Fats', '77-783-4107', 'Dazzlesphere', 30, 48, 52, '$10.00 ', '6/11/2024', '12/7/2024', '4/30/2024', '00616 Manitowish Parkway', 22, 78, 'Active'), ('28-044-4102', 'Papaya', 'Fruits & Vegetables', '93-358-1118', 'Yakijo', 19, 28, 83, '$4.50 ', '11/26/2024', '3/1/2024', '8/27/2024', '309 Burning Wood Center', 91, 73, 'Discontinued')]\n"
          ]
        },
        {
          "output_type": "stream",
          "name": "stderr",
          "text": [
            "INFO:sqlalchemy.engine.Engine:[generated in 0.00973s] [('29-205-1132', 'Sushi Rice', 'Grains & Pulses', '38-037-1699', 'Jaxnation', 22, 72, 70, '$4.50 ', '8/16/2024', '6/29/2024', '9/19/2024', '48 Del Sol Trail', 32, 19, 'Discontinued'), ('40-681-9981', 'Arabica Coffee', 'Beverages', '54-470-2479', 'Feedmix', 45, 77, 2, '$20.00 ', '11/1/2024', '5/29/2024', '5/8/2024', '36 3rd Place', 85, 1, 'Discontinued'), ('06-955-3428', 'Black Rice', 'Grains & Pulses', '54-031-2945', 'Vinder', 30, 38, 83, '$6.00 ', '8/3/2024', '6/10/2024', '9/22/2024', '3296 Walton Court', 31, 34, 'Backordered'), ('71-594-6552', 'Long Grain Rice', 'Grains & Pulses', '63-492-7603', 'Brightbean', 12, 59, 62, '$1.50 ', '12/8/2024', '2/19/2025', '4/17/2024', '3 Westerfield Crossing', 95, 99, 'Active'), ('57-437-1828', 'Plum', 'Fruits & Vegetables', '54-226-4308', 'Topicstorm', 37, 30, 74, '$4.00 ', '7/3/2024', '10/11/2024', '10/5/2024', '15068 Scoville Court', 62, 25, 'Backordered'), ('21-120-6238', 'All-Purpose Flour', 'Grains & Pulses', '86-292-4587', 'Dabjam', 55, 33, 14, '$1.75 ', '12/3/2024', '5/26/2024', '9/5/2024', '050 Mcbride Avenue', 34, 62, 'Discontinued'), ('71-516-1996', 'Corn Oil', 'Oils & Fats', '04-391-7610', 'Tagfeed', 96, 52, 16, '$2.50 ', '3/18/2024', '5/7/2024', '6/20/2024', '12 Truax Court', 67, 13, 'Active'), ('39-629-5554', 'Egg (Goose)', 'Dairy', '67-679-4930', 'Muxo', 44, 90, 17, '$2.50 ', '2/3/2025', '4/9/2024', '2/5/2025', '267 International Plaza', 21, 91, 'Discontinued')  ... displaying 10 of 990 total bound parameter sets ...  ('86-692-2312', 'Avocado Oil', 'Oils & Fats', '77-783-4107', 'Dazzlesphere', 30, 48, 52, '$10.00 ', '6/11/2024', '12/7/2024', '4/30/2024', '00616 Manitowish Parkway', 22, 78, 'Active'), ('28-044-4102', 'Papaya', 'Fruits & Vegetables', '93-358-1118', 'Yakijo', 19, 28, 83, '$4.50 ', '11/26/2024', '3/1/2024', '8/27/2024', '309 Burning Wood Center', 91, 73, 'Discontinued')]\n"
          ]
        },
        {
          "output_type": "stream",
          "name": "stdout",
          "text": [
            "2025-10-25 13:26:52,037 INFO sqlalchemy.engine.Engine SELECT name FROM sqlite_master WHERE type='table' AND name NOT LIKE 'sqlite~_%' ESCAPE '~' ORDER BY name\n"
          ]
        },
        {
          "output_type": "stream",
          "name": "stderr",
          "text": [
            "INFO:sqlalchemy.engine.Engine:SELECT name FROM sqlite_master WHERE type='table' AND name NOT LIKE 'sqlite~_%' ESCAPE '~' ORDER BY name\n"
          ]
        },
        {
          "output_type": "stream",
          "name": "stdout",
          "text": [
            "2025-10-25 13:26:52,039 INFO sqlalchemy.engine.Engine [raw sql] ()\n"
          ]
        },
        {
          "output_type": "stream",
          "name": "stderr",
          "text": [
            "INFO:sqlalchemy.engine.Engine:[raw sql] ()\n"
          ]
        },
        {
          "output_type": "stream",
          "name": "stdout",
          "text": [
            "2025-10-25 13:26:52,040 INFO sqlalchemy.engine.Engine COMMIT\n"
          ]
        },
        {
          "output_type": "stream",
          "name": "stderr",
          "text": [
            "INFO:sqlalchemy.engine.Engine:COMMIT\n"
          ]
        },
        {
          "output_type": "execute_result",
          "data": {
            "text/plain": [
              "990"
            ]
          },
          "metadata": {},
          "execution_count": 32
        }
      ]
    },
    {
      "cell_type": "code",
      "source": [
        "#removed the dollar sign in the price column and\n",
        "df['Unit_Price'] = df['Unit_Price'].str.replace('$', '')\n",
        "\n"
      ],
      "metadata": {
        "id": "DvjjouOVxP8j"
      },
      "execution_count": null,
      "outputs": []
    },
    {
      "cell_type": "code",
      "source": [
        "# Explicit type conversion\n",
        "# declared it as float\n",
        "\n",
        "df['Unit_Price'] = df['Unit_Price'].astype(float)\n",
        "df['Reorder_Level'] = df['Reorder_Level'].astype(int)\n",
        "df['Reorder_Quantity'] = df['Reorder_Quantity'].astype(int)\n",
        "df['Sales_Volume'] = df['Sales_Volume'].astype(int)\n",
        "df['Stock_Quantity'] = df['Stock_Quantity'].astype(int)\n",
        "df['Inventory_Turnover_Rate'] = df['Inventory_Turnover_Rate'].astype(int)\n",
        "df['Expiration_Date'] = pd.to_datetime(df['Expiration_Date'])\n",
        "df['Last_Order_Date'] = pd.to_datetime(df['Last_Order_Date'])\n",
        "\n",
        "print(df.info())\n",
        "\n"
      ],
      "metadata": {
        "colab": {
          "base_uri": "https://localhost:8080/"
        },
        "collapsed": true,
        "id": "K3frS91cbcNm",
        "outputId": "45180750-3e06-43c0-d074-74b47f21931d"
      },
      "execution_count": null,
      "outputs": [
        {
          "output_type": "stream",
          "name": "stdout",
          "text": [
            "<class 'pandas.core.frame.DataFrame'>\n",
            "RangeIndex: 990 entries, 0 to 989\n",
            "Data columns (total 16 columns):\n",
            " #   Column                   Non-Null Count  Dtype         \n",
            "---  ------                   --------------  -----         \n",
            " 0   Product_ID               990 non-null    object        \n",
            " 1   Product_Name             990 non-null    object        \n",
            " 2   Catagory                 989 non-null    object        \n",
            " 3   Supplier_ID              990 non-null    object        \n",
            " 4   Supplier_Name            990 non-null    object        \n",
            " 5   Stock_Quantity           990 non-null    int64         \n",
            " 6   Reorder_Level            990 non-null    int64         \n",
            " 7   Reorder_Quantity         990 non-null    int64         \n",
            " 8   Unit_Price               990 non-null    float64       \n",
            " 9   Date_Received            990 non-null    object        \n",
            " 10  Last_Order_Date          990 non-null    datetime64[ns]\n",
            " 11  Expiration_Date          990 non-null    datetime64[ns]\n",
            " 12  Warehouse_Location       990 non-null    object        \n",
            " 13  Sales_Volume             990 non-null    int64         \n",
            " 14  Inventory_Turnover_Rate  990 non-null    int64         \n",
            " 15  Status                   990 non-null    object        \n",
            "dtypes: datetime64[ns](2), float64(1), int64(5), object(8)\n",
            "memory usage: 123.9+ KB\n",
            "None\n"
          ]
        }
      ]
    },
    {
      "cell_type": "code",
      "source": [
        "#querying to understand the structure of the dataset after type conversion\n",
        "df.info()"
      ],
      "metadata": {
        "colab": {
          "base_uri": "https://localhost:8080/"
        },
        "id": "mIWX9MHoUAJZ",
        "outputId": "36a8c6f2-8468-40c9-f51f-a7b716fe8e59",
        "collapsed": true
      },
      "execution_count": null,
      "outputs": [
        {
          "output_type": "stream",
          "name": "stdout",
          "text": [
            "<class 'pandas.core.frame.DataFrame'>\n",
            "RangeIndex: 990 entries, 0 to 989\n",
            "Data columns (total 16 columns):\n",
            " #   Column                   Non-Null Count  Dtype         \n",
            "---  ------                   --------------  -----         \n",
            " 0   Product_ID               990 non-null    object        \n",
            " 1   Product_Name             990 non-null    object        \n",
            " 2   Catagory                 989 non-null    object        \n",
            " 3   Supplier_ID              990 non-null    object        \n",
            " 4   Supplier_Name            990 non-null    object        \n",
            " 5   Stock_Quantity           990 non-null    int64         \n",
            " 6   Reorder_Level            990 non-null    int64         \n",
            " 7   Reorder_Quantity         990 non-null    int64         \n",
            " 8   Unit_Price               990 non-null    float64       \n",
            " 9   Date_Received            990 non-null    object        \n",
            " 10  Last_Order_Date          990 non-null    datetime64[ns]\n",
            " 11  Expiration_Date          990 non-null    datetime64[ns]\n",
            " 12  Warehouse_Location       990 non-null    object        \n",
            " 13  Sales_Volume             990 non-null    int64         \n",
            " 14  Inventory_Turnover_Rate  990 non-null    int64         \n",
            " 15  Status                   990 non-null    object        \n",
            "dtypes: datetime64[ns](2), float64(1), int64(5), object(8)\n",
            "memory usage: 123.9+ KB\n"
          ]
        }
      ]
    },
    {
      "cell_type": "code",
      "source": [
        "# querying the data with panda to find what it is carrying\n",
        "df.head()"
      ],
      "metadata": {
        "colab": {
          "base_uri": "https://localhost:8080/",
          "height": 313
        },
        "id": "KvEhpY5FTu8B",
        "outputId": "6366e747-ebb3-476e-ab4e-4db5d13266fa",
        "collapsed": true
      },
      "execution_count": null,
      "outputs": [
        {
          "output_type": "execute_result",
          "data": {
            "text/plain": [
              "    Product_ID     Product_Name             Catagory  Supplier_ID  \\\n",
              "0  29-205-1132       Sushi Rice      Grains & Pulses  38-037-1699   \n",
              "1  40-681-9981   Arabica Coffee            Beverages  54-470-2479   \n",
              "2  06-955-3428       Black Rice      Grains & Pulses  54-031-2945   \n",
              "3  71-594-6552  Long Grain Rice      Grains & Pulses  63-492-7603   \n",
              "4  57-437-1828             Plum  Fruits & Vegetables  54-226-4308   \n",
              "\n",
              "  Supplier_Name  Stock_Quantity  Reorder_Level  Reorder_Quantity  Unit_Price  \\\n",
              "0     Jaxnation              22             72                70         4.5   \n",
              "1       Feedmix              45             77                 2        20.0   \n",
              "2        Vinder              30             38                83         6.0   \n",
              "3    Brightbean              12             59                62         1.5   \n",
              "4    Topicstorm              37             30                74         4.0   \n",
              "\n",
              "  Date_Received Last_Order_Date Expiration_Date      Warehouse_Location  \\\n",
              "0     8/16/2024      2024-06-29      2024-09-19        48 Del Sol Trail   \n",
              "1     11/1/2024      2024-05-29      2024-05-08            36 3rd Place   \n",
              "2      8/3/2024      2024-06-10      2024-09-22       3296 Walton Court   \n",
              "3     12/8/2024      2025-02-19      2024-04-17  3 Westerfield Crossing   \n",
              "4      7/3/2024      2024-10-11      2024-10-05    15068 Scoville Court   \n",
              "\n",
              "   Sales_Volume  Inventory_Turnover_Rate        Status  \n",
              "0            32                       19  Discontinued  \n",
              "1            85                        1  Discontinued  \n",
              "2            31                       34   Backordered  \n",
              "3            95                       99        Active  \n",
              "4            62                       25   Backordered  "
            ],
            "text/html": [
              "\n",
              "  <div id=\"df-1e26e8e4-f687-4d6f-83ae-bc1e0fb2ecd5\" class=\"colab-df-container\">\n",
              "    <div>\n",
              "<style scoped>\n",
              "    .dataframe tbody tr th:only-of-type {\n",
              "        vertical-align: middle;\n",
              "    }\n",
              "\n",
              "    .dataframe tbody tr th {\n",
              "        vertical-align: top;\n",
              "    }\n",
              "\n",
              "    .dataframe thead th {\n",
              "        text-align: right;\n",
              "    }\n",
              "</style>\n",
              "<table border=\"1\" class=\"dataframe\">\n",
              "  <thead>\n",
              "    <tr style=\"text-align: right;\">\n",
              "      <th></th>\n",
              "      <th>Product_ID</th>\n",
              "      <th>Product_Name</th>\n",
              "      <th>Catagory</th>\n",
              "      <th>Supplier_ID</th>\n",
              "      <th>Supplier_Name</th>\n",
              "      <th>Stock_Quantity</th>\n",
              "      <th>Reorder_Level</th>\n",
              "      <th>Reorder_Quantity</th>\n",
              "      <th>Unit_Price</th>\n",
              "      <th>Date_Received</th>\n",
              "      <th>Last_Order_Date</th>\n",
              "      <th>Expiration_Date</th>\n",
              "      <th>Warehouse_Location</th>\n",
              "      <th>Sales_Volume</th>\n",
              "      <th>Inventory_Turnover_Rate</th>\n",
              "      <th>Status</th>\n",
              "    </tr>\n",
              "  </thead>\n",
              "  <tbody>\n",
              "    <tr>\n",
              "      <th>0</th>\n",
              "      <td>29-205-1132</td>\n",
              "      <td>Sushi Rice</td>\n",
              "      <td>Grains &amp; Pulses</td>\n",
              "      <td>38-037-1699</td>\n",
              "      <td>Jaxnation</td>\n",
              "      <td>22</td>\n",
              "      <td>72</td>\n",
              "      <td>70</td>\n",
              "      <td>4.5</td>\n",
              "      <td>8/16/2024</td>\n",
              "      <td>2024-06-29</td>\n",
              "      <td>2024-09-19</td>\n",
              "      <td>48 Del Sol Trail</td>\n",
              "      <td>32</td>\n",
              "      <td>19</td>\n",
              "      <td>Discontinued</td>\n",
              "    </tr>\n",
              "    <tr>\n",
              "      <th>1</th>\n",
              "      <td>40-681-9981</td>\n",
              "      <td>Arabica Coffee</td>\n",
              "      <td>Beverages</td>\n",
              "      <td>54-470-2479</td>\n",
              "      <td>Feedmix</td>\n",
              "      <td>45</td>\n",
              "      <td>77</td>\n",
              "      <td>2</td>\n",
              "      <td>20.0</td>\n",
              "      <td>11/1/2024</td>\n",
              "      <td>2024-05-29</td>\n",
              "      <td>2024-05-08</td>\n",
              "      <td>36 3rd Place</td>\n",
              "      <td>85</td>\n",
              "      <td>1</td>\n",
              "      <td>Discontinued</td>\n",
              "    </tr>\n",
              "    <tr>\n",
              "      <th>2</th>\n",
              "      <td>06-955-3428</td>\n",
              "      <td>Black Rice</td>\n",
              "      <td>Grains &amp; Pulses</td>\n",
              "      <td>54-031-2945</td>\n",
              "      <td>Vinder</td>\n",
              "      <td>30</td>\n",
              "      <td>38</td>\n",
              "      <td>83</td>\n",
              "      <td>6.0</td>\n",
              "      <td>8/3/2024</td>\n",
              "      <td>2024-06-10</td>\n",
              "      <td>2024-09-22</td>\n",
              "      <td>3296 Walton Court</td>\n",
              "      <td>31</td>\n",
              "      <td>34</td>\n",
              "      <td>Backordered</td>\n",
              "    </tr>\n",
              "    <tr>\n",
              "      <th>3</th>\n",
              "      <td>71-594-6552</td>\n",
              "      <td>Long Grain Rice</td>\n",
              "      <td>Grains &amp; Pulses</td>\n",
              "      <td>63-492-7603</td>\n",
              "      <td>Brightbean</td>\n",
              "      <td>12</td>\n",
              "      <td>59</td>\n",
              "      <td>62</td>\n",
              "      <td>1.5</td>\n",
              "      <td>12/8/2024</td>\n",
              "      <td>2025-02-19</td>\n",
              "      <td>2024-04-17</td>\n",
              "      <td>3 Westerfield Crossing</td>\n",
              "      <td>95</td>\n",
              "      <td>99</td>\n",
              "      <td>Active</td>\n",
              "    </tr>\n",
              "    <tr>\n",
              "      <th>4</th>\n",
              "      <td>57-437-1828</td>\n",
              "      <td>Plum</td>\n",
              "      <td>Fruits &amp; Vegetables</td>\n",
              "      <td>54-226-4308</td>\n",
              "      <td>Topicstorm</td>\n",
              "      <td>37</td>\n",
              "      <td>30</td>\n",
              "      <td>74</td>\n",
              "      <td>4.0</td>\n",
              "      <td>7/3/2024</td>\n",
              "      <td>2024-10-11</td>\n",
              "      <td>2024-10-05</td>\n",
              "      <td>15068 Scoville Court</td>\n",
              "      <td>62</td>\n",
              "      <td>25</td>\n",
              "      <td>Backordered</td>\n",
              "    </tr>\n",
              "  </tbody>\n",
              "</table>\n",
              "</div>\n",
              "    <div class=\"colab-df-buttons\">\n",
              "\n",
              "  <div class=\"colab-df-container\">\n",
              "    <button class=\"colab-df-convert\" onclick=\"convertToInteractive('df-1e26e8e4-f687-4d6f-83ae-bc1e0fb2ecd5')\"\n",
              "            title=\"Convert this dataframe to an interactive table.\"\n",
              "            style=\"display:none;\">\n",
              "\n",
              "  <svg xmlns=\"http://www.w3.org/2000/svg\" height=\"24px\" viewBox=\"0 -960 960 960\">\n",
              "    <path d=\"M120-120v-720h720v720H120Zm60-500h600v-160H180v160Zm220 220h160v-160H400v160Zm0 220h160v-160H400v160ZM180-400h160v-160H180v160Zm440 0h160v-160H620v160ZM180-180h160v-160H180v160Zm440 0h160v-160H620v160Z\"/>\n",
              "  </svg>\n",
              "    </button>\n",
              "\n",
              "  <style>\n",
              "    .colab-df-container {\n",
              "      display:flex;\n",
              "      gap: 12px;\n",
              "    }\n",
              "\n",
              "    .colab-df-convert {\n",
              "      background-color: #E8F0FE;\n",
              "      border: none;\n",
              "      border-radius: 50%;\n",
              "      cursor: pointer;\n",
              "      display: none;\n",
              "      fill: #1967D2;\n",
              "      height: 32px;\n",
              "      padding: 0 0 0 0;\n",
              "      width: 32px;\n",
              "    }\n",
              "\n",
              "    .colab-df-convert:hover {\n",
              "      background-color: #E2EBFA;\n",
              "      box-shadow: 0px 1px 2px rgba(60, 64, 67, 0.3), 0px 1px 3px 1px rgba(60, 64, 67, 0.15);\n",
              "      fill: #174EA6;\n",
              "    }\n",
              "\n",
              "    .colab-df-buttons div {\n",
              "      margin-bottom: 4px;\n",
              "    }\n",
              "\n",
              "    [theme=dark] .colab-df-convert {\n",
              "      background-color: #3B4455;\n",
              "      fill: #D2E3FC;\n",
              "    }\n",
              "\n",
              "    [theme=dark] .colab-df-convert:hover {\n",
              "      background-color: #434B5C;\n",
              "      box-shadow: 0px 1px 3px 1px rgba(0, 0, 0, 0.15);\n",
              "      filter: drop-shadow(0px 1px 2px rgba(0, 0, 0, 0.3));\n",
              "      fill: #FFFFFF;\n",
              "    }\n",
              "  </style>\n",
              "\n",
              "    <script>\n",
              "      const buttonEl =\n",
              "        document.querySelector('#df-1e26e8e4-f687-4d6f-83ae-bc1e0fb2ecd5 button.colab-df-convert');\n",
              "      buttonEl.style.display =\n",
              "        google.colab.kernel.accessAllowed ? 'block' : 'none';\n",
              "\n",
              "      async function convertToInteractive(key) {\n",
              "        const element = document.querySelector('#df-1e26e8e4-f687-4d6f-83ae-bc1e0fb2ecd5');\n",
              "        const dataTable =\n",
              "          await google.colab.kernel.invokeFunction('convertToInteractive',\n",
              "                                                    [key], {});\n",
              "        if (!dataTable) return;\n",
              "\n",
              "        const docLinkHtml = 'Like what you see? Visit the ' +\n",
              "          '<a target=\"_blank\" href=https://colab.research.google.com/notebooks/data_table.ipynb>data table notebook</a>'\n",
              "          + ' to learn more about interactive tables.';\n",
              "        element.innerHTML = '';\n",
              "        dataTable['output_type'] = 'display_data';\n",
              "        await google.colab.output.renderOutput(dataTable, element);\n",
              "        const docLink = document.createElement('div');\n",
              "        docLink.innerHTML = docLinkHtml;\n",
              "        element.appendChild(docLink);\n",
              "      }\n",
              "    </script>\n",
              "  </div>\n",
              "\n",
              "\n",
              "    <div id=\"df-42dcf423-1303-4f7f-86df-8c3665387648\">\n",
              "      <button class=\"colab-df-quickchart\" onclick=\"quickchart('df-42dcf423-1303-4f7f-86df-8c3665387648')\"\n",
              "                title=\"Suggest charts\"\n",
              "                style=\"display:none;\">\n",
              "\n",
              "<svg xmlns=\"http://www.w3.org/2000/svg\" height=\"24px\"viewBox=\"0 0 24 24\"\n",
              "     width=\"24px\">\n",
              "    <g>\n",
              "        <path d=\"M19 3H5c-1.1 0-2 .9-2 2v14c0 1.1.9 2 2 2h14c1.1 0 2-.9 2-2V5c0-1.1-.9-2-2-2zM9 17H7v-7h2v7zm4 0h-2V7h2v10zm4 0h-2v-4h2v4z\"/>\n",
              "    </g>\n",
              "</svg>\n",
              "      </button>\n",
              "\n",
              "<style>\n",
              "  .colab-df-quickchart {\n",
              "      --bg-color: #E8F0FE;\n",
              "      --fill-color: #1967D2;\n",
              "      --hover-bg-color: #E2EBFA;\n",
              "      --hover-fill-color: #174EA6;\n",
              "      --disabled-fill-color: #AAA;\n",
              "      --disabled-bg-color: #DDD;\n",
              "  }\n",
              "\n",
              "  [theme=dark] .colab-df-quickchart {\n",
              "      --bg-color: #3B4455;\n",
              "      --fill-color: #D2E3FC;\n",
              "      --hover-bg-color: #434B5C;\n",
              "      --hover-fill-color: #FFFFFF;\n",
              "      --disabled-bg-color: #3B4455;\n",
              "      --disabled-fill-color: #666;\n",
              "  }\n",
              "\n",
              "  .colab-df-quickchart {\n",
              "    background-color: var(--bg-color);\n",
              "    border: none;\n",
              "    border-radius: 50%;\n",
              "    cursor: pointer;\n",
              "    display: none;\n",
              "    fill: var(--fill-color);\n",
              "    height: 32px;\n",
              "    padding: 0;\n",
              "    width: 32px;\n",
              "  }\n",
              "\n",
              "  .colab-df-quickchart:hover {\n",
              "    background-color: var(--hover-bg-color);\n",
              "    box-shadow: 0 1px 2px rgba(60, 64, 67, 0.3), 0 1px 3px 1px rgba(60, 64, 67, 0.15);\n",
              "    fill: var(--button-hover-fill-color);\n",
              "  }\n",
              "\n",
              "  .colab-df-quickchart-complete:disabled,\n",
              "  .colab-df-quickchart-complete:disabled:hover {\n",
              "    background-color: var(--disabled-bg-color);\n",
              "    fill: var(--disabled-fill-color);\n",
              "    box-shadow: none;\n",
              "  }\n",
              "\n",
              "  .colab-df-spinner {\n",
              "    border: 2px solid var(--fill-color);\n",
              "    border-color: transparent;\n",
              "    border-bottom-color: var(--fill-color);\n",
              "    animation:\n",
              "      spin 1s steps(1) infinite;\n",
              "  }\n",
              "\n",
              "  @keyframes spin {\n",
              "    0% {\n",
              "      border-color: transparent;\n",
              "      border-bottom-color: var(--fill-color);\n",
              "      border-left-color: var(--fill-color);\n",
              "    }\n",
              "    20% {\n",
              "      border-color: transparent;\n",
              "      border-left-color: var(--fill-color);\n",
              "      border-top-color: var(--fill-color);\n",
              "    }\n",
              "    30% {\n",
              "      border-color: transparent;\n",
              "      border-left-color: var(--fill-color);\n",
              "      border-top-color: var(--fill-color);\n",
              "      border-right-color: var(--fill-color);\n",
              "    }\n",
              "    40% {\n",
              "      border-color: transparent;\n",
              "      border-right-color: var(--fill-color);\n",
              "      border-top-color: var(--fill-color);\n",
              "    }\n",
              "    60% {\n",
              "      border-color: transparent;\n",
              "      border-right-color: var(--fill-color);\n",
              "    }\n",
              "    80% {\n",
              "      border-color: transparent;\n",
              "      border-right-color: var(--fill-color);\n",
              "      border-bottom-color: var(--fill-color);\n",
              "    }\n",
              "    90% {\n",
              "      border-color: transparent;\n",
              "      border-bottom-color: var(--fill-color);\n",
              "    }\n",
              "  }\n",
              "</style>\n",
              "\n",
              "      <script>\n",
              "        async function quickchart(key) {\n",
              "          const quickchartButtonEl =\n",
              "            document.querySelector('#' + key + ' button');\n",
              "          quickchartButtonEl.disabled = true;  // To prevent multiple clicks.\n",
              "          quickchartButtonEl.classList.add('colab-df-spinner');\n",
              "          try {\n",
              "            const charts = await google.colab.kernel.invokeFunction(\n",
              "                'suggestCharts', [key], {});\n",
              "          } catch (error) {\n",
              "            console.error('Error during call to suggestCharts:', error);\n",
              "          }\n",
              "          quickchartButtonEl.classList.remove('colab-df-spinner');\n",
              "          quickchartButtonEl.classList.add('colab-df-quickchart-complete');\n",
              "        }\n",
              "        (() => {\n",
              "          let quickchartButtonEl =\n",
              "            document.querySelector('#df-42dcf423-1303-4f7f-86df-8c3665387648 button');\n",
              "          quickchartButtonEl.style.display =\n",
              "            google.colab.kernel.accessAllowed ? 'block' : 'none';\n",
              "        })();\n",
              "      </script>\n",
              "    </div>\n",
              "\n",
              "    </div>\n",
              "  </div>\n"
            ],
            "application/vnd.google.colaboratory.intrinsic+json": {
              "type": "dataframe",
              "variable_name": "df",
              "summary": "{\n  \"name\": \"df\",\n  \"rows\": 990,\n  \"fields\": [\n    {\n      \"column\": \"Product_ID\",\n      \"properties\": {\n        \"dtype\": \"string\",\n        \"num_unique_values\": 990,\n        \"samples\": [\n          \"67-027-7269\",\n          \"22-083-3347\",\n          \"21-013-3508\"\n        ],\n        \"semantic_type\": \"\",\n        \"description\": \"\"\n      }\n    },\n    {\n      \"column\": \"Product_Name\",\n      \"properties\": {\n        \"dtype\": \"category\",\n        \"num_unique_values\": 121,\n        \"samples\": [\n          \"Sardines\",\n          \"Ricotta Cheese\",\n          \"Plum\"\n        ],\n        \"semantic_type\": \"\",\n        \"description\": \"\"\n      }\n    },\n    {\n      \"column\": \"Catagory\",\n      \"properties\": {\n        \"dtype\": \"category\",\n        \"num_unique_values\": 7,\n        \"samples\": [\n          \"Grains & Pulses\",\n          \"Beverages\",\n          \"Bakery\"\n        ],\n        \"semantic_type\": \"\",\n        \"description\": \"\"\n      }\n    },\n    {\n      \"column\": \"Supplier_ID\",\n      \"properties\": {\n        \"dtype\": \"string\",\n        \"num_unique_values\": 990,\n        \"samples\": [\n          \"50-050-5707\",\n          \"01-431-7544\",\n          \"64-489-8494\"\n        ],\n        \"semantic_type\": \"\",\n        \"description\": \"\"\n      }\n    },\n    {\n      \"column\": \"Supplier_Name\",\n      \"properties\": {\n        \"dtype\": \"category\",\n        \"num_unique_values\": 350,\n        \"samples\": [\n          \"Skalith\",\n          \"Zoombeat\",\n          \"Livefish\"\n        ],\n        \"semantic_type\": \"\",\n        \"description\": \"\"\n      }\n    },\n    {\n      \"column\": \"Stock_Quantity\",\n      \"properties\": {\n        \"dtype\": \"number\",\n        \"std\": 26,\n        \"min\": 10,\n        \"max\": 100,\n        \"num_unique_values\": 91,\n        \"samples\": [\n          92,\n          31,\n          21\n        ],\n        \"semantic_type\": \"\",\n        \"description\": \"\"\n      }\n    },\n    {\n      \"column\": \"Reorder_Level\",\n      \"properties\": {\n        \"dtype\": \"number\",\n        \"std\": 29,\n        \"min\": 1,\n        \"max\": 100,\n        \"num_unique_values\": 100,\n        \"samples\": [\n          15,\n          34,\n          91\n        ],\n        \"semantic_type\": \"\",\n        \"description\": \"\"\n      }\n    },\n    {\n      \"column\": \"Reorder_Quantity\",\n      \"properties\": {\n        \"dtype\": \"number\",\n        \"std\": 29,\n        \"min\": 1,\n        \"max\": 100,\n        \"num_unique_values\": 100,\n        \"samples\": [\n          12,\n          24,\n          56\n        ],\n        \"semantic_type\": \"\",\n        \"description\": \"\"\n      }\n    },\n    {\n      \"column\": \"Unit_Price\",\n      \"properties\": {\n        \"dtype\": \"number\",\n        \"std\": 6.491280431593804,\n        \"min\": 0.2,\n        \"max\": 98.43,\n        \"num_unique_values\": 112,\n        \"samples\": [\n          8.1,\n          8.9,\n          4.0\n        ],\n        \"semantic_type\": \"\",\n        \"description\": \"\"\n      }\n    },\n    {\n      \"column\": \"Date_Received\",\n      \"properties\": {\n        \"dtype\": \"object\",\n        \"num_unique_values\": 351,\n        \"samples\": [\n          \"1/22/2025\",\n          \"12/7/2024\",\n          \"3/24/2024\"\n        ],\n        \"semantic_type\": \"\",\n        \"description\": \"\"\n      }\n    },\n    {\n      \"column\": \"Last_Order_Date\",\n      \"properties\": {\n        \"dtype\": \"date\",\n        \"min\": \"2024-02-25 00:00:00\",\n        \"max\": \"2025-02-24 00:00:00\",\n        \"num_unique_values\": 332,\n        \"samples\": [\n          \"2025-02-22 00:00:00\",\n          \"2024-03-15 00:00:00\",\n          \"2024-10-24 00:00:00\"\n        ],\n        \"semantic_type\": \"\",\n        \"description\": \"\"\n      }\n    },\n    {\n      \"column\": \"Expiration_Date\",\n      \"properties\": {\n        \"dtype\": \"date\",\n        \"min\": \"2024-02-25 00:00:00\",\n        \"max\": \"2025-02-24 00:00:00\",\n        \"num_unique_values\": 341,\n        \"samples\": [\n          \"2024-04-22 00:00:00\",\n          \"2024-09-29 00:00:00\",\n          \"2025-02-17 00:00:00\"\n        ],\n        \"semantic_type\": \"\",\n        \"description\": \"\"\n      }\n    },\n    {\n      \"column\": \"Warehouse_Location\",\n      \"properties\": {\n        \"dtype\": \"string\",\n        \"num_unique_values\": 990,\n        \"samples\": [\n          \"615 Mayer Drive\",\n          \"38 Superior Road\",\n          \"84305 Fair Oaks Plaza\"\n        ],\n        \"semantic_type\": \"\",\n        \"description\": \"\"\n      }\n    },\n    {\n      \"column\": \"Sales_Volume\",\n      \"properties\": {\n        \"dtype\": \"number\",\n        \"std\": 23,\n        \"min\": 20,\n        \"max\": 100,\n        \"num_unique_values\": 81,\n        \"samples\": [\n          60,\n          32,\n          59\n        ],\n        \"semantic_type\": \"\",\n        \"description\": \"\"\n      }\n    },\n    {\n      \"column\": \"Inventory_Turnover_Rate\",\n      \"properties\": {\n        \"dtype\": \"number\",\n        \"std\": 28,\n        \"min\": 1,\n        \"max\": 100,\n        \"num_unique_values\": 100,\n        \"samples\": [\n          28,\n          100,\n          54\n        ],\n        \"semantic_type\": \"\",\n        \"description\": \"\"\n      }\n    },\n    {\n      \"column\": \"Status\",\n      \"properties\": {\n        \"dtype\": \"category\",\n        \"num_unique_values\": 3,\n        \"samples\": [\n          \"Discontinued\",\n          \"Backordered\",\n          \"Active\"\n        ],\n        \"semantic_type\": \"\",\n        \"description\": \"\"\n      }\n    }\n  ]\n}"
            }
          },
          "metadata": {},
          "execution_count": 36
        }
      ]
    },
    {
      "cell_type": "code",
      "source": [
        "#querying to find out the statistical info\n",
        "df.describe()"
      ],
      "metadata": {
        "colab": {
          "base_uri": "https://localhost:8080/",
          "height": 300
        },
        "id": "aE6zMRFEUK_M",
        "outputId": "7e3c0891-7648-4f21-8b1b-5fad235f4a53",
        "collapsed": true
      },
      "execution_count": null,
      "outputs": [
        {
          "output_type": "execute_result",
          "data": {
            "text/plain": [
              "       Stock_Quantity  Reorder_Level  Reorder_Quantity  Unit_Price  \\\n",
              "count      990.000000     990.000000        990.000000  990.000000   \n",
              "mean        55.609091      51.215152         51.913131    5.924192   \n",
              "min         10.000000       1.000000          1.000000    0.200000   \n",
              "25%         33.000000      25.250000         25.000000    2.500000   \n",
              "50%         56.000000      53.000000         54.000000    4.225000   \n",
              "75%         79.000000      77.000000         77.000000    7.000000   \n",
              "max        100.000000     100.000000        100.000000   98.430000   \n",
              "std         26.300775      29.095241         29.521059    6.491280   \n",
              "\n",
              "                     Last_Order_Date                Expiration_Date  \\\n",
              "count                            990                            990   \n",
              "mean   2024-08-25 19:20:43.636363520  2024-08-23 06:45:49.090909184   \n",
              "min              2024-02-25 00:00:00            2024-02-25 00:00:00   \n",
              "25%              2024-05-29 00:00:00            2024-05-23 00:00:00   \n",
              "50%              2024-08-20 12:00:00            2024-08-23 12:00:00   \n",
              "75%              2024-11-29 00:00:00            2024-11-23 00:00:00   \n",
              "max              2025-02-24 00:00:00            2025-02-24 00:00:00   \n",
              "std                              NaN                            NaN   \n",
              "\n",
              "       Sales_Volume  Inventory_Turnover_Rate  \n",
              "count    990.000000               990.000000  \n",
              "mean      58.925253                50.150505  \n",
              "min       20.000000                 1.000000  \n",
              "25%       39.000000                25.000000  \n",
              "50%       58.000000                50.000000  \n",
              "75%       78.000000                74.750000  \n",
              "max      100.000000               100.000000  \n",
              "std       23.002318                28.798954  "
            ],
            "text/html": [
              "\n",
              "  <div id=\"df-29dca138-68fa-4af8-899b-165575089603\" class=\"colab-df-container\">\n",
              "    <div>\n",
              "<style scoped>\n",
              "    .dataframe tbody tr th:only-of-type {\n",
              "        vertical-align: middle;\n",
              "    }\n",
              "\n",
              "    .dataframe tbody tr th {\n",
              "        vertical-align: top;\n",
              "    }\n",
              "\n",
              "    .dataframe thead th {\n",
              "        text-align: right;\n",
              "    }\n",
              "</style>\n",
              "<table border=\"1\" class=\"dataframe\">\n",
              "  <thead>\n",
              "    <tr style=\"text-align: right;\">\n",
              "      <th></th>\n",
              "      <th>Stock_Quantity</th>\n",
              "      <th>Reorder_Level</th>\n",
              "      <th>Reorder_Quantity</th>\n",
              "      <th>Unit_Price</th>\n",
              "      <th>Last_Order_Date</th>\n",
              "      <th>Expiration_Date</th>\n",
              "      <th>Sales_Volume</th>\n",
              "      <th>Inventory_Turnover_Rate</th>\n",
              "    </tr>\n",
              "  </thead>\n",
              "  <tbody>\n",
              "    <tr>\n",
              "      <th>count</th>\n",
              "      <td>990.000000</td>\n",
              "      <td>990.000000</td>\n",
              "      <td>990.000000</td>\n",
              "      <td>990.000000</td>\n",
              "      <td>990</td>\n",
              "      <td>990</td>\n",
              "      <td>990.000000</td>\n",
              "      <td>990.000000</td>\n",
              "    </tr>\n",
              "    <tr>\n",
              "      <th>mean</th>\n",
              "      <td>55.609091</td>\n",
              "      <td>51.215152</td>\n",
              "      <td>51.913131</td>\n",
              "      <td>5.924192</td>\n",
              "      <td>2024-08-25 19:20:43.636363520</td>\n",
              "      <td>2024-08-23 06:45:49.090909184</td>\n",
              "      <td>58.925253</td>\n",
              "      <td>50.150505</td>\n",
              "    </tr>\n",
              "    <tr>\n",
              "      <th>min</th>\n",
              "      <td>10.000000</td>\n",
              "      <td>1.000000</td>\n",
              "      <td>1.000000</td>\n",
              "      <td>0.200000</td>\n",
              "      <td>2024-02-25 00:00:00</td>\n",
              "      <td>2024-02-25 00:00:00</td>\n",
              "      <td>20.000000</td>\n",
              "      <td>1.000000</td>\n",
              "    </tr>\n",
              "    <tr>\n",
              "      <th>25%</th>\n",
              "      <td>33.000000</td>\n",
              "      <td>25.250000</td>\n",
              "      <td>25.000000</td>\n",
              "      <td>2.500000</td>\n",
              "      <td>2024-05-29 00:00:00</td>\n",
              "      <td>2024-05-23 00:00:00</td>\n",
              "      <td>39.000000</td>\n",
              "      <td>25.000000</td>\n",
              "    </tr>\n",
              "    <tr>\n",
              "      <th>50%</th>\n",
              "      <td>56.000000</td>\n",
              "      <td>53.000000</td>\n",
              "      <td>54.000000</td>\n",
              "      <td>4.225000</td>\n",
              "      <td>2024-08-20 12:00:00</td>\n",
              "      <td>2024-08-23 12:00:00</td>\n",
              "      <td>58.000000</td>\n",
              "      <td>50.000000</td>\n",
              "    </tr>\n",
              "    <tr>\n",
              "      <th>75%</th>\n",
              "      <td>79.000000</td>\n",
              "      <td>77.000000</td>\n",
              "      <td>77.000000</td>\n",
              "      <td>7.000000</td>\n",
              "      <td>2024-11-29 00:00:00</td>\n",
              "      <td>2024-11-23 00:00:00</td>\n",
              "      <td>78.000000</td>\n",
              "      <td>74.750000</td>\n",
              "    </tr>\n",
              "    <tr>\n",
              "      <th>max</th>\n",
              "      <td>100.000000</td>\n",
              "      <td>100.000000</td>\n",
              "      <td>100.000000</td>\n",
              "      <td>98.430000</td>\n",
              "      <td>2025-02-24 00:00:00</td>\n",
              "      <td>2025-02-24 00:00:00</td>\n",
              "      <td>100.000000</td>\n",
              "      <td>100.000000</td>\n",
              "    </tr>\n",
              "    <tr>\n",
              "      <th>std</th>\n",
              "      <td>26.300775</td>\n",
              "      <td>29.095241</td>\n",
              "      <td>29.521059</td>\n",
              "      <td>6.491280</td>\n",
              "      <td>NaN</td>\n",
              "      <td>NaN</td>\n",
              "      <td>23.002318</td>\n",
              "      <td>28.798954</td>\n",
              "    </tr>\n",
              "  </tbody>\n",
              "</table>\n",
              "</div>\n",
              "    <div class=\"colab-df-buttons\">\n",
              "\n",
              "  <div class=\"colab-df-container\">\n",
              "    <button class=\"colab-df-convert\" onclick=\"convertToInteractive('df-29dca138-68fa-4af8-899b-165575089603')\"\n",
              "            title=\"Convert this dataframe to an interactive table.\"\n",
              "            style=\"display:none;\">\n",
              "\n",
              "  <svg xmlns=\"http://www.w3.org/2000/svg\" height=\"24px\" viewBox=\"0 -960 960 960\">\n",
              "    <path d=\"M120-120v-720h720v720H120Zm60-500h600v-160H180v160Zm220 220h160v-160H400v160Zm0 220h160v-160H400v160ZM180-400h160v-160H180v160Zm440 0h160v-160H620v160ZM180-180h160v-160H180v160Zm440 0h160v-160H620v160Z\"/>\n",
              "  </svg>\n",
              "    </button>\n",
              "\n",
              "  <style>\n",
              "    .colab-df-container {\n",
              "      display:flex;\n",
              "      gap: 12px;\n",
              "    }\n",
              "\n",
              "    .colab-df-convert {\n",
              "      background-color: #E8F0FE;\n",
              "      border: none;\n",
              "      border-radius: 50%;\n",
              "      cursor: pointer;\n",
              "      display: none;\n",
              "      fill: #1967D2;\n",
              "      height: 32px;\n",
              "      padding: 0 0 0 0;\n",
              "      width: 32px;\n",
              "    }\n",
              "\n",
              "    .colab-df-convert:hover {\n",
              "      background-color: #E2EBFA;\n",
              "      box-shadow: 0px 1px 2px rgba(60, 64, 67, 0.3), 0px 1px 3px 1px rgba(60, 64, 67, 0.15);\n",
              "      fill: #174EA6;\n",
              "    }\n",
              "\n",
              "    .colab-df-buttons div {\n",
              "      margin-bottom: 4px;\n",
              "    }\n",
              "\n",
              "    [theme=dark] .colab-df-convert {\n",
              "      background-color: #3B4455;\n",
              "      fill: #D2E3FC;\n",
              "    }\n",
              "\n",
              "    [theme=dark] .colab-df-convert:hover {\n",
              "      background-color: #434B5C;\n",
              "      box-shadow: 0px 1px 3px 1px rgba(0, 0, 0, 0.15);\n",
              "      filter: drop-shadow(0px 1px 2px rgba(0, 0, 0, 0.3));\n",
              "      fill: #FFFFFF;\n",
              "    }\n",
              "  </style>\n",
              "\n",
              "    <script>\n",
              "      const buttonEl =\n",
              "        document.querySelector('#df-29dca138-68fa-4af8-899b-165575089603 button.colab-df-convert');\n",
              "      buttonEl.style.display =\n",
              "        google.colab.kernel.accessAllowed ? 'block' : 'none';\n",
              "\n",
              "      async function convertToInteractive(key) {\n",
              "        const element = document.querySelector('#df-29dca138-68fa-4af8-899b-165575089603');\n",
              "        const dataTable =\n",
              "          await google.colab.kernel.invokeFunction('convertToInteractive',\n",
              "                                                    [key], {});\n",
              "        if (!dataTable) return;\n",
              "\n",
              "        const docLinkHtml = 'Like what you see? Visit the ' +\n",
              "          '<a target=\"_blank\" href=https://colab.research.google.com/notebooks/data_table.ipynb>data table notebook</a>'\n",
              "          + ' to learn more about interactive tables.';\n",
              "        element.innerHTML = '';\n",
              "        dataTable['output_type'] = 'display_data';\n",
              "        await google.colab.output.renderOutput(dataTable, element);\n",
              "        const docLink = document.createElement('div');\n",
              "        docLink.innerHTML = docLinkHtml;\n",
              "        element.appendChild(docLink);\n",
              "      }\n",
              "    </script>\n",
              "  </div>\n",
              "\n",
              "\n",
              "    <div id=\"df-bb2a6187-0b8b-4cd1-92f3-052bf9209356\">\n",
              "      <button class=\"colab-df-quickchart\" onclick=\"quickchart('df-bb2a6187-0b8b-4cd1-92f3-052bf9209356')\"\n",
              "                title=\"Suggest charts\"\n",
              "                style=\"display:none;\">\n",
              "\n",
              "<svg xmlns=\"http://www.w3.org/2000/svg\" height=\"24px\"viewBox=\"0 0 24 24\"\n",
              "     width=\"24px\">\n",
              "    <g>\n",
              "        <path d=\"M19 3H5c-1.1 0-2 .9-2 2v14c0 1.1.9 2 2 2h14c1.1 0 2-.9 2-2V5c0-1.1-.9-2-2-2zM9 17H7v-7h2v7zm4 0h-2V7h2v10zm4 0h-2v-4h2v4z\"/>\n",
              "    </g>\n",
              "</svg>\n",
              "      </button>\n",
              "\n",
              "<style>\n",
              "  .colab-df-quickchart {\n",
              "      --bg-color: #E8F0FE;\n",
              "      --fill-color: #1967D2;\n",
              "      --hover-bg-color: #E2EBFA;\n",
              "      --hover-fill-color: #174EA6;\n",
              "      --disabled-fill-color: #AAA;\n",
              "      --disabled-bg-color: #DDD;\n",
              "  }\n",
              "\n",
              "  [theme=dark] .colab-df-quickchart {\n",
              "      --bg-color: #3B4455;\n",
              "      --fill-color: #D2E3FC;\n",
              "      --hover-bg-color: #434B5C;\n",
              "      --hover-fill-color: #FFFFFF;\n",
              "      --disabled-bg-color: #3B4455;\n",
              "      --disabled-fill-color: #666;\n",
              "  }\n",
              "\n",
              "  .colab-df-quickchart {\n",
              "    background-color: var(--bg-color);\n",
              "    border: none;\n",
              "    border-radius: 50%;\n",
              "    cursor: pointer;\n",
              "    display: none;\n",
              "    fill: var(--fill-color);\n",
              "    height: 32px;\n",
              "    padding: 0;\n",
              "    width: 32px;\n",
              "  }\n",
              "\n",
              "  .colab-df-quickchart:hover {\n",
              "    background-color: var(--hover-bg-color);\n",
              "    box-shadow: 0 1px 2px rgba(60, 64, 67, 0.3), 0 1px 3px 1px rgba(60, 64, 67, 0.15);\n",
              "    fill: var(--button-hover-fill-color);\n",
              "  }\n",
              "\n",
              "  .colab-df-quickchart-complete:disabled,\n",
              "  .colab-df-quickchart-complete:disabled:hover {\n",
              "    background-color: var(--disabled-bg-color);\n",
              "    fill: var(--disabled-fill-color);\n",
              "    box-shadow: none;\n",
              "  }\n",
              "\n",
              "  .colab-df-spinner {\n",
              "    border: 2px solid var(--fill-color);\n",
              "    border-color: transparent;\n",
              "    border-bottom-color: var(--fill-color);\n",
              "    animation:\n",
              "      spin 1s steps(1) infinite;\n",
              "  }\n",
              "\n",
              "  @keyframes spin {\n",
              "    0% {\n",
              "      border-color: transparent;\n",
              "      border-bottom-color: var(--fill-color);\n",
              "      border-left-color: var(--fill-color);\n",
              "    }\n",
              "    20% {\n",
              "      border-color: transparent;\n",
              "      border-left-color: var(--fill-color);\n",
              "      border-top-color: var(--fill-color);\n",
              "    }\n",
              "    30% {\n",
              "      border-color: transparent;\n",
              "      border-left-color: var(--fill-color);\n",
              "      border-top-color: var(--fill-color);\n",
              "      border-right-color: var(--fill-color);\n",
              "    }\n",
              "    40% {\n",
              "      border-color: transparent;\n",
              "      border-right-color: var(--fill-color);\n",
              "      border-top-color: var(--fill-color);\n",
              "    }\n",
              "    60% {\n",
              "      border-color: transparent;\n",
              "      border-right-color: var(--fill-color);\n",
              "    }\n",
              "    80% {\n",
              "      border-color: transparent;\n",
              "      border-right-color: var(--fill-color);\n",
              "      border-bottom-color: var(--fill-color);\n",
              "    }\n",
              "    90% {\n",
              "      border-color: transparent;\n",
              "      border-bottom-color: var(--fill-color);\n",
              "    }\n",
              "  }\n",
              "</style>\n",
              "\n",
              "      <script>\n",
              "        async function quickchart(key) {\n",
              "          const quickchartButtonEl =\n",
              "            document.querySelector('#' + key + ' button');\n",
              "          quickchartButtonEl.disabled = true;  // To prevent multiple clicks.\n",
              "          quickchartButtonEl.classList.add('colab-df-spinner');\n",
              "          try {\n",
              "            const charts = await google.colab.kernel.invokeFunction(\n",
              "                'suggestCharts', [key], {});\n",
              "          } catch (error) {\n",
              "            console.error('Error during call to suggestCharts:', error);\n",
              "          }\n",
              "          quickchartButtonEl.classList.remove('colab-df-spinner');\n",
              "          quickchartButtonEl.classList.add('colab-df-quickchart-complete');\n",
              "        }\n",
              "        (() => {\n",
              "          let quickchartButtonEl =\n",
              "            document.querySelector('#df-bb2a6187-0b8b-4cd1-92f3-052bf9209356 button');\n",
              "          quickchartButtonEl.style.display =\n",
              "            google.colab.kernel.accessAllowed ? 'block' : 'none';\n",
              "        })();\n",
              "      </script>\n",
              "    </div>\n",
              "\n",
              "    </div>\n",
              "  </div>\n"
            ],
            "application/vnd.google.colaboratory.intrinsic+json": {
              "type": "dataframe",
              "summary": "{\n  \"name\": \"df\",\n  \"rows\": 8,\n  \"fields\": [\n    {\n      \"column\": \"Stock_Quantity\",\n      \"properties\": {\n        \"dtype\": \"number\",\n        \"std\": 333.0954434321377,\n        \"min\": 10.0,\n        \"max\": 990.0,\n        \"num_unique_values\": 8,\n        \"samples\": [\n          55.60909090909091,\n          79.0,\n          990.0\n        ],\n        \"semantic_type\": \"\",\n        \"description\": \"\"\n      }\n    },\n    {\n      \"column\": \"Reorder_Level\",\n      \"properties\": {\n        \"dtype\": \"number\",\n        \"std\": 334.4453356955607,\n        \"min\": 1.0,\n        \"max\": 990.0,\n        \"num_unique_values\": 8,\n        \"samples\": [\n          51.21515151515152,\n          77.0,\n          990.0\n        ],\n        \"semantic_type\": \"\",\n        \"description\": \"\"\n      }\n    },\n    {\n      \"column\": \"Reorder_Quantity\",\n      \"properties\": {\n        \"dtype\": \"number\",\n        \"std\": 334.3533826127104,\n        \"min\": 1.0,\n        \"max\": 990.0,\n        \"num_unique_values\": 8,\n        \"samples\": [\n          51.913131313131316,\n          77.0,\n          990.0\n        ],\n        \"semantic_type\": \"\",\n        \"description\": \"\"\n      }\n    },\n    {\n      \"column\": \"Unit_Price\",\n      \"properties\": {\n        \"dtype\": \"number\",\n        \"std\": 345.2948403783534,\n        \"min\": 0.2,\n        \"max\": 990.0,\n        \"num_unique_values\": 8,\n        \"samples\": [\n          5.92419191919192,\n          7.0,\n          990.0\n        ],\n        \"semantic_type\": \"\",\n        \"description\": \"\"\n      }\n    },\n    {\n      \"column\": \"Last_Order_Date\",\n      \"properties\": {\n        \"dtype\": \"date\",\n        \"min\": \"1970-01-01 00:00:00.000000990\",\n        \"max\": \"2025-02-24 00:00:00\",\n        \"num_unique_values\": 7,\n        \"samples\": [\n          \"990\",\n          \"2024-08-25 19:20:43.636363520\",\n          \"2024-11-29 00:00:00\"\n        ],\n        \"semantic_type\": \"\",\n        \"description\": \"\"\n      }\n    },\n    {\n      \"column\": \"Expiration_Date\",\n      \"properties\": {\n        \"dtype\": \"date\",\n        \"min\": \"1970-01-01 00:00:00.000000990\",\n        \"max\": \"2025-02-24 00:00:00\",\n        \"num_unique_values\": 7,\n        \"samples\": [\n          \"990\",\n          \"2024-08-23 06:45:49.090909184\",\n          \"2024-11-23 00:00:00\"\n        ],\n        \"semantic_type\": \"\",\n        \"description\": \"\"\n      }\n    },\n    {\n      \"column\": \"Sales_Volume\",\n      \"properties\": {\n        \"dtype\": \"number\",\n        \"std\": 332.07333937850797,\n        \"min\": 20.0,\n        \"max\": 990.0,\n        \"num_unique_values\": 8,\n        \"samples\": [\n          58.925252525252525,\n          78.0,\n          990.0\n        ],\n        \"semantic_type\": \"\",\n        \"description\": \"\"\n      }\n    },\n    {\n      \"column\": \"Inventory_Turnover_Rate\",\n      \"properties\": {\n        \"dtype\": \"number\",\n        \"std\": 334.76157456326933,\n        \"min\": 1.0,\n        \"max\": 990.0,\n        \"num_unique_values\": 8,\n        \"samples\": [\n          50.15050505050505,\n          74.75,\n          990.0\n        ],\n        \"semantic_type\": \"\",\n        \"description\": \"\"\n      }\n    }\n  ]\n}"
            }
          },
          "metadata": {},
          "execution_count": 37
        }
      ]
    },
    {
      "cell_type": "code",
      "source": [
        "# 4️⃣testing a SQL query\n",
        "query = \"\"\"\n",
        "SELECT Last_Order_Date\n",
        "FROM Inventory\n",
        "LIMIT 2\n",
        "\"\"\"\n",
        "\n",
        "# Correct 2.x syntax — open a connection\n",
        "with engine.connect() as conn:\n",
        "    result = conn.execute(text(query))\n",
        "    top_products = pd.DataFrame(result.fetchall(), columns=result.keys())\n",
        "\n",
        "print(top_products)"
      ],
      "metadata": {
        "colab": {
          "base_uri": "https://localhost:8080/"
        },
        "id": "Hl_1Utg8YYYX",
        "outputId": "9d812e56-4deb-4981-d0f6-8c853336e69b",
        "collapsed": true
      },
      "execution_count": null,
      "outputs": [
        {
          "output_type": "stream",
          "name": "stdout",
          "text": [
            "2025-10-25 13:26:52,198 INFO sqlalchemy.engine.Engine BEGIN (implicit)\n"
          ]
        },
        {
          "output_type": "stream",
          "name": "stderr",
          "text": [
            "INFO:sqlalchemy.engine.Engine:BEGIN (implicit)\n"
          ]
        },
        {
          "output_type": "stream",
          "name": "stdout",
          "text": [
            "2025-10-25 13:26:52,202 INFO sqlalchemy.engine.Engine \n",
            "SELECT Last_Order_Date\n",
            "FROM Inventory\n",
            "LIMIT 2\n",
            "\n"
          ]
        },
        {
          "output_type": "stream",
          "name": "stderr",
          "text": [
            "INFO:sqlalchemy.engine.Engine:\n",
            "SELECT Last_Order_Date\n",
            "FROM Inventory\n",
            "LIMIT 2\n",
            "\n"
          ]
        },
        {
          "output_type": "stream",
          "name": "stdout",
          "text": [
            "2025-10-25 13:26:52,205 INFO sqlalchemy.engine.Engine [generated in 0.00701s] ()\n"
          ]
        },
        {
          "output_type": "stream",
          "name": "stderr",
          "text": [
            "INFO:sqlalchemy.engine.Engine:[generated in 0.00701s] ()\n"
          ]
        },
        {
          "output_type": "stream",
          "name": "stdout",
          "text": [
            "2025-10-25 13:26:52,210 INFO sqlalchemy.engine.Engine ROLLBACK\n"
          ]
        },
        {
          "output_type": "stream",
          "name": "stderr",
          "text": [
            "INFO:sqlalchemy.engine.Engine:ROLLBACK\n"
          ]
        },
        {
          "output_type": "stream",
          "name": "stdout",
          "text": [
            "  Last_Order_Date\n",
            "0       6/29/2024\n",
            "1       5/29/2024\n"
          ]
        }
      ]
    },
    {
      "cell_type": "code",
      "source": [
        "#Identifying products where stock is below reorder level\n",
        "\n",
        "query = \"\"\"\n",
        "     SELECT product_ID, Product_Name, Stock_Quantity, Reorder_Level\n",
        "    FROM inventory\n",
        "    WHERE stock_quantity < reorder_level\n",
        "    ORDER BY Stock_Quantity DESC\n",
        "\n",
        "    \"\"\"\n",
        "# Correct 2.x syntax — open a connection\n",
        "with engine.connect() as conn:\n",
        "    result = conn.execute(text(query))\n",
        "    top_products = pd.DataFrame(result.fetchall(), columns=result.keys())\n",
        "\n",
        "print(top_products)"
      ],
      "metadata": {
        "id": "54nNDhVpZt2V",
        "colab": {
          "base_uri": "https://localhost:8080/"
        },
        "collapsed": true,
        "outputId": "5b5a9ca0-b92e-4a9e-92b0-335cc2202c46"
      },
      "execution_count": null,
      "outputs": [
        {
          "output_type": "stream",
          "name": "stdout",
          "text": [
            "2025-10-25 13:26:52,232 INFO sqlalchemy.engine.Engine BEGIN (implicit)\n"
          ]
        },
        {
          "output_type": "stream",
          "name": "stderr",
          "text": [
            "INFO:sqlalchemy.engine.Engine:BEGIN (implicit)\n"
          ]
        },
        {
          "output_type": "stream",
          "name": "stdout",
          "text": [
            "2025-10-25 13:26:52,234 INFO sqlalchemy.engine.Engine \n",
            "     SELECT product_ID, Product_Name, Stock_Quantity, Reorder_Level\n",
            "    FROM inventory\n",
            "    WHERE stock_quantity < reorder_level\n",
            "    ORDER BY Stock_Quantity DESC\n",
            "\n",
            "    \n"
          ]
        },
        {
          "output_type": "stream",
          "name": "stderr",
          "text": [
            "INFO:sqlalchemy.engine.Engine:\n",
            "     SELECT product_ID, Product_Name, Stock_Quantity, Reorder_Level\n",
            "    FROM inventory\n",
            "    WHERE stock_quantity < reorder_level\n",
            "    ORDER BY Stock_Quantity DESC\n",
            "\n",
            "    \n"
          ]
        },
        {
          "output_type": "stream",
          "name": "stdout",
          "text": [
            "2025-10-25 13:26:52,238 INFO sqlalchemy.engine.Engine [generated in 0.00576s] ()\n"
          ]
        },
        {
          "output_type": "stream",
          "name": "stderr",
          "text": [
            "INFO:sqlalchemy.engine.Engine:[generated in 0.00576s] ()\n"
          ]
        },
        {
          "output_type": "stream",
          "name": "stdout",
          "text": [
            "2025-10-25 13:26:52,244 INFO sqlalchemy.engine.Engine ROLLBACK\n"
          ]
        },
        {
          "output_type": "stream",
          "name": "stderr",
          "text": [
            "INFO:sqlalchemy.engine.Engine:ROLLBACK\n"
          ]
        },
        {
          "output_type": "stream",
          "name": "stdout",
          "text": [
            "      Product_ID       Product_Name  Stock_Quantity  Reorder_Level\n",
            "0    45-634-0679            Haddock              98            100\n",
            "1    16-354-8122  Digestive Biscuit              97             99\n",
            "2    03-149-9760      Whipped Cream              92             99\n",
            "3    90-492-0564        Pomegranate              92             96\n",
            "4    42-220-9305        White Sugar              91             98\n",
            "..           ...                ...             ...            ...\n",
            "450  58-946-5152        Bread Flour              11             77\n",
            "451  80-020-8041         Black Rice              11             58\n",
            "452  00-357-2313        Avocado Oil              10             86\n",
            "453  95-449-1286      Egg (Chicken)              10             17\n",
            "454  42-495-7698         Sushi Rice              10             11\n",
            "\n",
            "[455 rows x 4 columns]\n"
          ]
        }
      ]
    },
    {
      "cell_type": "code",
      "source": [
        "#Created a CTE to find how many products are due for reorder\n",
        "\n",
        "\n",
        "query = \"\"\"\n",
        "WITH ReorderLevel AS\n",
        "   (\n",
        " SELECT product_ID, Product_Name, Stock_Quantity, Reorder_Level\n",
        "    FROM inventory\n",
        "    WHERE stock_quantity < reorder_level\n",
        "    ORDER BY Stock_Quantity DESC\n",
        "   )\n",
        "\n",
        "SELECT COUNT(*)\n",
        "FROM ReorderLevel;\n",
        "    \"\"\"\n",
        "\n",
        "# Correct 2.x syntax — open a connection\n",
        "with engine.connect() as conn:\n",
        "    result = conn.execute(text(query))\n",
        "    QueryResult = pd.DataFrame(result.fetchall(), columns=result.keys())\n",
        "\n",
        "print(QueryResult)"
      ],
      "metadata": {
        "colab": {
          "base_uri": "https://localhost:8080/"
        },
        "collapsed": true,
        "id": "rstiM4w0ipAr",
        "outputId": "b84f7ed5-e538-44be-8c06-5de2f4b6e974"
      },
      "execution_count": null,
      "outputs": [
        {
          "output_type": "stream",
          "name": "stdout",
          "text": [
            "2025-10-25 13:26:52,262 INFO sqlalchemy.engine.Engine BEGIN (implicit)\n"
          ]
        },
        {
          "output_type": "stream",
          "name": "stderr",
          "text": [
            "INFO:sqlalchemy.engine.Engine:BEGIN (implicit)\n"
          ]
        },
        {
          "output_type": "stream",
          "name": "stdout",
          "text": [
            "2025-10-25 13:26:52,265 INFO sqlalchemy.engine.Engine \n",
            "WITH ReorderLevel AS\n",
            "   (\n",
            " SELECT product_ID, Product_Name, Stock_Quantity, Reorder_Level\n",
            "    FROM inventory\n",
            "    WHERE stock_quantity < reorder_level\n",
            "    ORDER BY Stock_Quantity DESC\n",
            "   )\n",
            "\n",
            "SELECT COUNT(*)\n",
            "FROM ReorderLevel;\n",
            "    \n"
          ]
        },
        {
          "output_type": "stream",
          "name": "stderr",
          "text": [
            "INFO:sqlalchemy.engine.Engine:\n",
            "WITH ReorderLevel AS\n",
            "   (\n",
            " SELECT product_ID, Product_Name, Stock_Quantity, Reorder_Level\n",
            "    FROM inventory\n",
            "    WHERE stock_quantity < reorder_level\n",
            "    ORDER BY Stock_Quantity DESC\n",
            "   )\n",
            "\n",
            "SELECT COUNT(*)\n",
            "FROM ReorderLevel;\n",
            "    \n"
          ]
        },
        {
          "output_type": "stream",
          "name": "stdout",
          "text": [
            "2025-10-25 13:26:52,267 INFO sqlalchemy.engine.Engine [generated in 0.00540s] ()\n"
          ]
        },
        {
          "output_type": "stream",
          "name": "stderr",
          "text": [
            "INFO:sqlalchemy.engine.Engine:[generated in 0.00540s] ()\n"
          ]
        },
        {
          "output_type": "stream",
          "name": "stdout",
          "text": [
            "2025-10-25 13:26:52,273 INFO sqlalchemy.engine.Engine ROLLBACK\n"
          ]
        },
        {
          "output_type": "stream",
          "name": "stderr",
          "text": [
            "INFO:sqlalchemy.engine.Engine:ROLLBACK\n"
          ]
        },
        {
          "output_type": "stream",
          "name": "stdout",
          "text": [
            "   COUNT(*)\n",
            "0       455\n"
          ]
        }
      ]
    },
    {
      "cell_type": "code",
      "source": [
        "#calculating inventory value per product\n",
        "query = \"\"\"\n",
        " SELECT\n",
        "        Product_ID,\n",
        "        Product_Name,\n",
        "        Stock_Quantity,\n",
        "        Unit_price,\n",
        "        (Stock_Quantity * Unit_Price) AS Inventory_Value\n",
        "  FROM Inventory\n",
        "  ORDER BY Inventory_Value ASC;\n",
        "  \"\"\"\n",
        "# Correct 2.x syntax — open a connection\n",
        "with engine.connect() as conn:\n",
        "    result = conn.execute(text(query))\n",
        "    QueryResult = pd.DataFrame(result.fetchall(), columns=result.keys())\n",
        "\n",
        "print(QueryResult)\n"
      ],
      "metadata": {
        "colab": {
          "base_uri": "https://localhost:8080/"
        },
        "id": "xHasVu0wqAgK",
        "outputId": "22ecccbc-f22d-45c4-9325-0defda5735b1",
        "collapsed": true
      },
      "execution_count": null,
      "outputs": [
        {
          "output_type": "stream",
          "name": "stdout",
          "text": [
            "2025-10-25 13:26:52,296 INFO sqlalchemy.engine.Engine BEGIN (implicit)\n"
          ]
        },
        {
          "output_type": "stream",
          "name": "stderr",
          "text": [
            "INFO:sqlalchemy.engine.Engine:BEGIN (implicit)\n"
          ]
        },
        {
          "output_type": "stream",
          "name": "stdout",
          "text": [
            "2025-10-25 13:26:52,300 INFO sqlalchemy.engine.Engine \n",
            " SELECT\n",
            "        Product_ID,\n",
            "        Product_Name,\n",
            "        Stock_Quantity,\n",
            "        Unit_price,\n",
            "        (Stock_Quantity * Unit_Price) AS Inventory_Value\n",
            "  FROM Inventory\n",
            "  ORDER BY Inventory_Value ASC;\n",
            "  \n"
          ]
        },
        {
          "output_type": "stream",
          "name": "stderr",
          "text": [
            "INFO:sqlalchemy.engine.Engine:\n",
            " SELECT\n",
            "        Product_ID,\n",
            "        Product_Name,\n",
            "        Stock_Quantity,\n",
            "        Unit_price,\n",
            "        (Stock_Quantity * Unit_Price) AS Inventory_Value\n",
            "  FROM Inventory\n",
            "  ORDER BY Inventory_Value ASC;\n",
            "  \n"
          ]
        },
        {
          "output_type": "stream",
          "name": "stdout",
          "text": [
            "2025-10-25 13:26:52,303 INFO sqlalchemy.engine.Engine [generated in 0.00675s] ()\n"
          ]
        },
        {
          "output_type": "stream",
          "name": "stderr",
          "text": [
            "INFO:sqlalchemy.engine.Engine:[generated in 0.00675s] ()\n"
          ]
        },
        {
          "output_type": "stream",
          "name": "stdout",
          "text": [
            "2025-10-25 13:26:52,311 INFO sqlalchemy.engine.Engine ROLLBACK\n"
          ]
        },
        {
          "output_type": "stream",
          "name": "stderr",
          "text": [
            "INFO:sqlalchemy.engine.Engine:ROLLBACK\n"
          ]
        },
        {
          "output_type": "stream",
          "name": "stdout",
          "text": [
            "      Product_ID     Product_Name  Stock_Quantity Unit_Price  Inventory_Value\n",
            "0    29-205-1132       Sushi Rice              22     $4.50                 0\n",
            "1    40-681-9981   Arabica Coffee              45    $20.00                 0\n",
            "2    06-955-3428       Black Rice              30     $6.00                 0\n",
            "3    71-594-6552  Long Grain Rice              12     $1.50                 0\n",
            "4    57-437-1828             Plum              37     $4.00                 0\n",
            "..           ...              ...             ...        ...              ...\n",
            "985  82-977-7752          Spinach              88     $2.50                 0\n",
            "986  62-393-9939   Cheddar Cheese              60     $9.00                 0\n",
            "987  31-745-6850          Cabbage              94     $0.90                 0\n",
            "988  86-692-2312      Avocado Oil              30    $10.00                 0\n",
            "989  28-044-4102           Papaya              19     $4.50                 0\n",
            "\n",
            "[990 rows x 5 columns]\n"
          ]
        }
      ]
    },
    {
      "cell_type": "code",
      "source": [
        "\n",
        "#Inventory valuue per product then breaking the value nto three differnt parts\n",
        "#to determine what distribution the inventory values follow.\n",
        "\n",
        "#  Get the average inventory value in each batch\n",
        "query = \"\"\"\n",
        " WITH Int_Value AS\n",
        "  (\n",
        "   SELECT\n",
        "        Product_ID,\n",
        "        Product_Name,\n",
        "        Stock_Quantity,\n",
        "        Unit_price,\n",
        "        (Stock_Quantity * Unit_Price) AS Inventory_Value\n",
        "  FROM Inventory\n",
        "  ORDER BY Inventory_Value DESC\n",
        "  ),\n",
        " Batch AS\n",
        "    (\n",
        "        SELECT\n",
        "        Product_Name,\n",
        "        Inventory_Value,\n",
        "        NTILE(3) OVER (ORDER BY Inventory_Value DESC) AS Percetile_Group\n",
        "        FROM Int_Value\n",
        "    )\n",
        "SELECT\n",
        "  Percetile_Group,\n",
        "  AVG(Inventory_Value) AS Avg_Inventory_Value\n",
        "FROM Batch\n",
        "GROUP BY Percetile_Group\n",
        "ORDER BY Percetile_Group ASC;\n",
        "\"\"\"\n",
        "\n",
        "# Correct 2.x syntax — open a connection\n",
        "with engine.connect() as conn:\n",
        "    result = conn.execute(text(query))\n",
        "    QueryResult = pd.DataFrame(result.fetchall(), columns=result.keys())\n",
        "\n",
        "print(QueryResult)"
      ],
      "metadata": {
        "colab": {
          "base_uri": "https://localhost:8080/"
        },
        "id": "_bTManOor7Mm",
        "outputId": "32374ecc-9646-4dd8-b8de-481bd0d29405",
        "collapsed": true
      },
      "execution_count": null,
      "outputs": [
        {
          "output_type": "stream",
          "name": "stdout",
          "text": [
            "2025-10-25 13:26:52,325 INFO sqlalchemy.engine.Engine BEGIN (implicit)\n"
          ]
        },
        {
          "output_type": "stream",
          "name": "stderr",
          "text": [
            "INFO:sqlalchemy.engine.Engine:BEGIN (implicit)\n"
          ]
        },
        {
          "output_type": "stream",
          "name": "stdout",
          "text": [
            "2025-10-25 13:26:52,327 INFO sqlalchemy.engine.Engine \n",
            " WITH Int_Value AS\n",
            "  (\n",
            "   SELECT\n",
            "        Product_ID,\n",
            "        Product_Name,\n",
            "        Stock_Quantity,\n",
            "        Unit_price,\n",
            "        (Stock_Quantity * Unit_Price) AS Inventory_Value\n",
            "  FROM Inventory\n",
            "  ORDER BY Inventory_Value DESC\n",
            "  ),\n",
            " Batch AS\n",
            "    (\n",
            "        SELECT\n",
            "        Product_Name,\n",
            "        Inventory_Value,\n",
            "        NTILE(3) OVER (ORDER BY Inventory_Value DESC) AS Percetile_Group\n",
            "        FROM Int_Value\n",
            "    )\n",
            "SELECT\n",
            "  Percetile_Group,\n",
            "  AVG(Inventory_Value) AS Avg_Inventory_Value\n",
            "FROM Batch\n",
            "GROUP BY Percetile_Group\n",
            "ORDER BY Percetile_Group ASC;\n",
            "\n"
          ]
        },
        {
          "output_type": "stream",
          "name": "stderr",
          "text": [
            "INFO:sqlalchemy.engine.Engine:\n",
            " WITH Int_Value AS\n",
            "  (\n",
            "   SELECT\n",
            "        Product_ID,\n",
            "        Product_Name,\n",
            "        Stock_Quantity,\n",
            "        Unit_price,\n",
            "        (Stock_Quantity * Unit_Price) AS Inventory_Value\n",
            "  FROM Inventory\n",
            "  ORDER BY Inventory_Value DESC\n",
            "  ),\n",
            " Batch AS\n",
            "    (\n",
            "        SELECT\n",
            "        Product_Name,\n",
            "        Inventory_Value,\n",
            "        NTILE(3) OVER (ORDER BY Inventory_Value DESC) AS Percetile_Group\n",
            "        FROM Int_Value\n",
            "    )\n",
            "SELECT\n",
            "  Percetile_Group,\n",
            "  AVG(Inventory_Value) AS Avg_Inventory_Value\n",
            "FROM Batch\n",
            "GROUP BY Percetile_Group\n",
            "ORDER BY Percetile_Group ASC;\n",
            "\n"
          ]
        },
        {
          "output_type": "stream",
          "name": "stdout",
          "text": [
            "2025-10-25 13:26:52,330 INFO sqlalchemy.engine.Engine [generated in 0.00485s] ()\n"
          ]
        },
        {
          "output_type": "stream",
          "name": "stderr",
          "text": [
            "INFO:sqlalchemy.engine.Engine:[generated in 0.00485s] ()\n"
          ]
        },
        {
          "output_type": "stream",
          "name": "stdout",
          "text": [
            "2025-10-25 13:26:52,337 INFO sqlalchemy.engine.Engine ROLLBACK\n"
          ]
        },
        {
          "output_type": "stream",
          "name": "stderr",
          "text": [
            "INFO:sqlalchemy.engine.Engine:ROLLBACK\n"
          ]
        },
        {
          "output_type": "stream",
          "name": "stdout",
          "text": [
            "   Percetile_Group  Avg_Inventory_Value\n",
            "0                1                  0.0\n",
            "1                2                  0.0\n",
            "2                3                  0.0\n"
          ]
        }
      ]
    },
    {
      "cell_type": "code",
      "source": [
        "# Showing products that will expire in the next 30 days.\n",
        "\n",
        "query = \"\"\"\n",
        "WITH Expiry_Calc AS (\n",
        "    SELECT\n",
        "        Product_ID,\n",
        "        Product_Name,\n",
        "        Date_Received,\n",
        "        Expiration_Date,\n",
        "        Stock_Quantity,\n",
        "        Unit_Price * Stock_Quantity AS Inventory_Value,\n",
        "        julianday(Expiration_Date) - julianday('now') AS Days_To_Expire\n",
        "    FROM inventory\n",
        ")\n",
        "\n",
        "SELECT\n",
        "    Product_ID,\n",
        "    Product_Name,\n",
        "    Date_Received,\n",
        "    Expiration_Date,\n",
        "    ROUND(Days_To_Expire) AS Days_Left,\n",
        "    Inventory_Value\n",
        "FROM Expiry_Calc\n",
        "WHERE Days_To_Expire <= 30  -- products expiring in 30 days or less\n",
        "ORDER BY Days_To_Expire ASC;\n",
        "\n",
        "\"\"\"\n",
        "# Correct 2.x syntax — open a connection\n",
        "with engine.connect() as conn:\n",
        "    result = conn.execute(text(query))\n",
        "    QueryResult = pd.DataFrame(result.fetchall(), columns=result.keys())\n",
        "\n",
        "print(QueryResult)"
      ],
      "metadata": {
        "id": "mVaVTodwyCMv",
        "colab": {
          "base_uri": "https://localhost:8080/"
        },
        "collapsed": true,
        "outputId": "eaced84d-678c-4677-b3a1-e6227a5cef18"
      },
      "execution_count": null,
      "outputs": [
        {
          "output_type": "stream",
          "name": "stdout",
          "text": [
            "2025-10-25 13:26:52,355 INFO sqlalchemy.engine.Engine BEGIN (implicit)\n"
          ]
        },
        {
          "output_type": "stream",
          "name": "stderr",
          "text": [
            "INFO:sqlalchemy.engine.Engine:BEGIN (implicit)\n"
          ]
        },
        {
          "output_type": "stream",
          "name": "stdout",
          "text": [
            "2025-10-25 13:26:52,357 INFO sqlalchemy.engine.Engine \n",
            "WITH Expiry_Calc AS (\n",
            "    SELECT\n",
            "        Product_ID,\n",
            "        Product_Name,\n",
            "        Date_Received,\n",
            "        Expiration_Date,\n",
            "        Stock_Quantity,\n",
            "        Unit_Price * Stock_Quantity AS Inventory_Value,\n",
            "        julianday(Expiration_Date) - julianday('now') AS Days_To_Expire\n",
            "    FROM inventory\n",
            ")\n",
            "\n",
            "SELECT\n",
            "    Product_ID,\n",
            "    Product_Name,\n",
            "    Date_Received,\n",
            "    Expiration_Date,\n",
            "    ROUND(Days_To_Expire) AS Days_Left,\n",
            "    Inventory_Value\n",
            "FROM Expiry_Calc\n",
            "WHERE Days_To_Expire <= 30  -- products expiring in 30 days or less\n",
            "ORDER BY Days_To_Expire ASC;\n",
            "\n",
            "\n"
          ]
        },
        {
          "output_type": "stream",
          "name": "stderr",
          "text": [
            "INFO:sqlalchemy.engine.Engine:\n",
            "WITH Expiry_Calc AS (\n",
            "    SELECT\n",
            "        Product_ID,\n",
            "        Product_Name,\n",
            "        Date_Received,\n",
            "        Expiration_Date,\n",
            "        Stock_Quantity,\n",
            "        Unit_Price * Stock_Quantity AS Inventory_Value,\n",
            "        julianday(Expiration_Date) - julianday('now') AS Days_To_Expire\n",
            "    FROM inventory\n",
            ")\n",
            "\n",
            "SELECT\n",
            "    Product_ID,\n",
            "    Product_Name,\n",
            "    Date_Received,\n",
            "    Expiration_Date,\n",
            "    ROUND(Days_To_Expire) AS Days_Left,\n",
            "    Inventory_Value\n",
            "FROM Expiry_Calc\n",
            "WHERE Days_To_Expire <= 30  -- products expiring in 30 days or less\n",
            "ORDER BY Days_To_Expire ASC;\n",
            "\n",
            "\n"
          ]
        },
        {
          "output_type": "stream",
          "name": "stdout",
          "text": [
            "2025-10-25 13:26:52,358 INFO sqlalchemy.engine.Engine [generated in 0.00383s] ()\n"
          ]
        },
        {
          "output_type": "stream",
          "name": "stderr",
          "text": [
            "INFO:sqlalchemy.engine.Engine:[generated in 0.00383s] ()\n"
          ]
        },
        {
          "output_type": "stream",
          "name": "stdout",
          "text": [
            "2025-10-25 13:26:52,363 INFO sqlalchemy.engine.Engine ROLLBACK\n"
          ]
        },
        {
          "output_type": "stream",
          "name": "stderr",
          "text": [
            "INFO:sqlalchemy.engine.Engine:ROLLBACK\n"
          ]
        },
        {
          "output_type": "stream",
          "name": "stdout",
          "text": [
            "Empty DataFrame\n",
            "Columns: [Product_ID, Product_Name, Date_Received, Expiration_Date, Days_Left, Inventory_Value]\n",
            "Index: []\n"
          ]
        }
      ]
    },
    {
      "cell_type": "code",
      "source": [
        "#Counting the number of products with expired date\n",
        "\n",
        "query = \"\"\"\n",
        "WITH Expiry_Calc AS (\n",
        "    SELECT\n",
        "        Product_ID,\n",
        "        Product_Name,\n",
        "        Unit_Price * Stock_Quantity AS Inventory_Value,\n",
        "        julianday(Expiration_Date) - julianday('now') AS Days_To_Expire\n",
        "    FROM inventory\n",
        "),\n",
        "\n",
        "Expired AS\n",
        "\n",
        "(\n",
        "SELECT\n",
        "    Product_ID,\n",
        "    Product_Name,\n",
        "    Days_To_Expire,\n",
        "    Inventory_Value,\n",
        "    CASE\n",
        "        WHEN Days_To_Expire < 0 THEN 'Expired 🟥'\n",
        "        WHEN Days_To_Expire BETWEEN 0 AND 30 THEN 'Expiring Soon 🟨'\n",
        "        ELSE 'Safe 🟩'\n",
        "    END AS Status\n",
        "FROM Expiry_Calc\n",
        "ORDER BY Days_To_Expire ASC\n",
        ")\n",
        "\n",
        "SELECT COUNT (DISTINCT Product_ID) FROM Expired\n",
        "WHERE status = 'Expired 🟥'\n",
        ";\n",
        "\n",
        "\"\"\"\n",
        "# Correct 2.x syntax — open a connection\n",
        "with engine.connect() as conn:\n",
        "    result = conn.execute(text(query))\n",
        "    QueryResult = pd.DataFrame(result.fetchall(), columns=result.keys())\n",
        "\n",
        "print(QueryResult)"
      ],
      "metadata": {
        "colab": {
          "base_uri": "https://localhost:8080/"
        },
        "collapsed": true,
        "id": "YWM8mK9Knwrt",
        "outputId": "d3589420-9d51-42b9-e337-659e28c941de"
      },
      "execution_count": null,
      "outputs": [
        {
          "output_type": "stream",
          "name": "stdout",
          "text": [
            "2025-10-25 13:26:52,373 INFO sqlalchemy.engine.Engine BEGIN (implicit)\n"
          ]
        },
        {
          "output_type": "stream",
          "name": "stderr",
          "text": [
            "INFO:sqlalchemy.engine.Engine:BEGIN (implicit)\n"
          ]
        },
        {
          "output_type": "stream",
          "name": "stdout",
          "text": [
            "2025-10-25 13:26:52,376 INFO sqlalchemy.engine.Engine \n",
            "WITH Expiry_Calc AS (\n",
            "    SELECT\n",
            "        Product_ID,\n",
            "        Product_Name,\n",
            "        Unit_Price * Stock_Quantity AS Inventory_Value,\n",
            "        julianday(Expiration_Date) - julianday('now') AS Days_To_Expire\n",
            "    FROM inventory\n",
            "),\n",
            "\n",
            "Expired AS\n",
            "\n",
            "(\n",
            "SELECT\n",
            "    Product_ID,\n",
            "    Product_Name,\n",
            "    Days_To_Expire,\n",
            "    Inventory_Value,\n",
            "    CASE\n",
            "        WHEN Days_To_Expire < 0 THEN 'Expired 🟥'\n",
            "        WHEN Days_To_Expire BETWEEN 0 AND 30 THEN 'Expiring Soon 🟨'\n",
            "        ELSE 'Safe 🟩'\n",
            "    END AS Status\n",
            "FROM Expiry_Calc\n",
            "ORDER BY Days_To_Expire ASC\n",
            ")\n",
            "\n",
            "SELECT COUNT (DISTINCT Product_ID) FROM Expired\n",
            "WHERE status = 'Expired 🟥'\n",
            ";\n",
            "\n",
            "\n"
          ]
        },
        {
          "output_type": "stream",
          "name": "stderr",
          "text": [
            "INFO:sqlalchemy.engine.Engine:\n",
            "WITH Expiry_Calc AS (\n",
            "    SELECT\n",
            "        Product_ID,\n",
            "        Product_Name,\n",
            "        Unit_Price * Stock_Quantity AS Inventory_Value,\n",
            "        julianday(Expiration_Date) - julianday('now') AS Days_To_Expire\n",
            "    FROM inventory\n",
            "),\n",
            "\n",
            "Expired AS\n",
            "\n",
            "(\n",
            "SELECT\n",
            "    Product_ID,\n",
            "    Product_Name,\n",
            "    Days_To_Expire,\n",
            "    Inventory_Value,\n",
            "    CASE\n",
            "        WHEN Days_To_Expire < 0 THEN 'Expired 🟥'\n",
            "        WHEN Days_To_Expire BETWEEN 0 AND 30 THEN 'Expiring Soon 🟨'\n",
            "        ELSE 'Safe 🟩'\n",
            "    END AS Status\n",
            "FROM Expiry_Calc\n",
            "ORDER BY Days_To_Expire ASC\n",
            ")\n",
            "\n",
            "SELECT COUNT (DISTINCT Product_ID) FROM Expired\n",
            "WHERE status = 'Expired 🟥'\n",
            ";\n",
            "\n",
            "\n"
          ]
        },
        {
          "output_type": "stream",
          "name": "stdout",
          "text": [
            "2025-10-25 13:26:52,377 INFO sqlalchemy.engine.Engine [generated in 0.00406s] ()\n"
          ]
        },
        {
          "output_type": "stream",
          "name": "stderr",
          "text": [
            "INFO:sqlalchemy.engine.Engine:[generated in 0.00406s] ()\n"
          ]
        },
        {
          "output_type": "stream",
          "name": "stdout",
          "text": [
            "2025-10-25 13:26:52,381 INFO sqlalchemy.engine.Engine ROLLBACK\n"
          ]
        },
        {
          "output_type": "stream",
          "name": "stderr",
          "text": [
            "INFO:sqlalchemy.engine.Engine:ROLLBACK\n"
          ]
        },
        {
          "output_type": "stream",
          "name": "stdout",
          "text": [
            "   COUNT (DISTINCT Product_ID)\n",
            "0                            0\n"
          ]
        }
      ]
    },
    {
      "cell_type": "code",
      "source": [
        "# showing which suppliers supply the top selling products\n",
        "\n",
        "query = \"\"\"\n",
        "WITH Reorder_Intervals AS (\n",
        "    SELECT\n",
        "        Product_Name,\n",
        "        AVG(julianday(next_date) - julianday(current_date)) AS Avg_Days_Between_Reorders\n",
        "    FROM (\n",
        "        SELECT\n",
        "            Product_Name,\n",
        "            Date_Received AS current_date,\n",
        "            LEAD(Date_Received) OVER (PARTITION BY Product_Name ORDER BY Date_Received) AS next_date\n",
        "        FROM inventory\n",
        "    )\n",
        "    WHERE next_date IS NOT NULL\n",
        "    GROUP BY Product_Name\n",
        ")\n",
        "SELECT\n",
        "    Product_Name,\n",
        "    ROUND(Avg_Days_Between_Reorders, 1) AS Avg_Days_Between_Reorders\n",
        "FROM Reorder_Intervals\n",
        "ORDER BY Avg_Days_Between_Reorders ASC;\n",
        "\n",
        "\n",
        "\"\"\"\n",
        "# Correct 2.x syntax — open a connection\n",
        "with engine.connect() as conn:\n",
        "    result = conn.execute(text(query))\n",
        "    QueryResult = pd.DataFrame(result.fetchall(), columns=result.keys())\n",
        "\n",
        "print(QueryResult)"
      ],
      "metadata": {
        "collapsed": true,
        "colab": {
          "base_uri": "https://localhost:8080/"
        },
        "id": "PW2i0sTAsR6b",
        "outputId": "0c12de1a-8bbe-4fdb-b5e8-74af685473b2"
      },
      "execution_count": null,
      "outputs": [
        {
          "output_type": "stream",
          "name": "stdout",
          "text": [
            "2025-10-25 13:26:52,394 INFO sqlalchemy.engine.Engine BEGIN (implicit)\n"
          ]
        },
        {
          "output_type": "stream",
          "name": "stderr",
          "text": [
            "INFO:sqlalchemy.engine.Engine:BEGIN (implicit)\n"
          ]
        },
        {
          "output_type": "stream",
          "name": "stdout",
          "text": [
            "2025-10-25 13:26:52,395 INFO sqlalchemy.engine.Engine \n",
            "WITH Reorder_Intervals AS (\n",
            "    SELECT\n",
            "        Product_Name,\n",
            "        AVG(julianday(next_date) - julianday(current_date)) AS Avg_Days_Between_Reorders\n",
            "    FROM (\n",
            "        SELECT\n",
            "            Product_Name,\n",
            "            Date_Received AS current_date,\n",
            "            LEAD(Date_Received) OVER (PARTITION BY Product_Name ORDER BY Date_Received) AS next_date\n",
            "        FROM inventory\n",
            "    )\n",
            "    WHERE next_date IS NOT NULL\n",
            "    GROUP BY Product_Name\n",
            ")\n",
            "SELECT\n",
            "    Product_Name,\n",
            "    ROUND(Avg_Days_Between_Reorders, 1) AS Avg_Days_Between_Reorders\n",
            "FROM Reorder_Intervals\n",
            "ORDER BY Avg_Days_Between_Reorders ASC;\n",
            "\n",
            "\n",
            "\n"
          ]
        },
        {
          "output_type": "stream",
          "name": "stderr",
          "text": [
            "INFO:sqlalchemy.engine.Engine:\n",
            "WITH Reorder_Intervals AS (\n",
            "    SELECT\n",
            "        Product_Name,\n",
            "        AVG(julianday(next_date) - julianday(current_date)) AS Avg_Days_Between_Reorders\n",
            "    FROM (\n",
            "        SELECT\n",
            "            Product_Name,\n",
            "            Date_Received AS current_date,\n",
            "            LEAD(Date_Received) OVER (PARTITION BY Product_Name ORDER BY Date_Received) AS next_date\n",
            "        FROM inventory\n",
            "    )\n",
            "    WHERE next_date IS NOT NULL\n",
            "    GROUP BY Product_Name\n",
            ")\n",
            "SELECT\n",
            "    Product_Name,\n",
            "    ROUND(Avg_Days_Between_Reorders, 1) AS Avg_Days_Between_Reorders\n",
            "FROM Reorder_Intervals\n",
            "ORDER BY Avg_Days_Between_Reorders ASC;\n",
            "\n",
            "\n",
            "\n"
          ]
        },
        {
          "output_type": "stream",
          "name": "stdout",
          "text": [
            "2025-10-25 13:26:52,397 INFO sqlalchemy.engine.Engine [generated in 0.00377s] ()\n"
          ]
        },
        {
          "output_type": "stream",
          "name": "stderr",
          "text": [
            "INFO:sqlalchemy.engine.Engine:[generated in 0.00377s] ()\n"
          ]
        },
        {
          "output_type": "stream",
          "name": "stdout",
          "text": [
            "2025-10-25 13:26:52,405 INFO sqlalchemy.engine.Engine ROLLBACK\n"
          ]
        },
        {
          "output_type": "stream",
          "name": "stderr",
          "text": [
            "INFO:sqlalchemy.engine.Engine:ROLLBACK\n"
          ]
        },
        {
          "output_type": "stream",
          "name": "stdout",
          "text": [
            "          Product_Name Avg_Days_Between_Reorders\n",
            "0    All-Purpose Flour                      None\n",
            "1         Almond Flour                      None\n",
            "2            Anchovies                      None\n",
            "3                Apple                      None\n",
            "4              Apricot                      None\n",
            "..                 ...                       ...\n",
            "116  Whole Wheat Bread                      None\n",
            "117  Whole Wheat Flour                      None\n",
            "118          Wild Rice                      None\n",
            "119             Yogurt                      None\n",
            "120           Zucchini                      None\n",
            "\n",
            "[121 rows x 2 columns]\n"
          ]
        }
      ]
    },
    {
      "cell_type": "code",
      "source": [
        "# Likely products that sells fast and needs replenishment.\n",
        "#the higher the reorder ratio it shows that it is fast selling\n",
        "\n",
        "query = \"\"\"\n",
        "SELECT\n",
        "    Product_Name,\n",
        "    Reorder_Level,\n",
        "    Reorder_Quantity,\n",
        "    Stock_Quantity,\n",
        "    ROUND((CAST(Reorder_Quantity AS REAL) / NULLIF(Reorder_Level, 0)), 2) AS Reorder_Ratio\n",
        "FROM inventory\n",
        "ORDER BY Reorder_Ratio DESC\n",
        "LIMIT 10;\n",
        "\"\"\"\n",
        "# Correct 2.x syntax — open a connection\n",
        "with engine.connect() as conn:\n",
        "    result = conn.execute(text(query))\n",
        "    QueryResult = pd.DataFrame(result.fetchall(), columns=result.keys())\n",
        "\n",
        "print(QueryResult)\n",
        "\n"
      ],
      "metadata": {
        "collapsed": true,
        "colab": {
          "base_uri": "https://localhost:8080/"
        },
        "id": "0s8lXZPuwzPy",
        "outputId": "e7bdb33e-4f78-413e-e925-567ae0d2dde3"
      },
      "execution_count": null,
      "outputs": [
        {
          "output_type": "stream",
          "name": "stdout",
          "text": [
            "2025-10-25 13:26:52,416 INFO sqlalchemy.engine.Engine BEGIN (implicit)\n"
          ]
        },
        {
          "output_type": "stream",
          "name": "stderr",
          "text": [
            "INFO:sqlalchemy.engine.Engine:BEGIN (implicit)\n"
          ]
        },
        {
          "output_type": "stream",
          "name": "stdout",
          "text": [
            "2025-10-25 13:26:52,418 INFO sqlalchemy.engine.Engine \n",
            "SELECT\n",
            "    Product_Name,\n",
            "    Reorder_Level,\n",
            "    Reorder_Quantity,\n",
            "    Stock_Quantity,\n",
            "    ROUND((CAST(Reorder_Quantity AS REAL) / NULLIF(Reorder_Level, 0)), 2) AS Reorder_Ratio\n",
            "FROM inventory\n",
            "ORDER BY Reorder_Ratio DESC\n",
            "LIMIT 10;\n",
            "\n"
          ]
        },
        {
          "output_type": "stream",
          "name": "stderr",
          "text": [
            "INFO:sqlalchemy.engine.Engine:\n",
            "SELECT\n",
            "    Product_Name,\n",
            "    Reorder_Level,\n",
            "    Reorder_Quantity,\n",
            "    Stock_Quantity,\n",
            "    ROUND((CAST(Reorder_Quantity AS REAL) / NULLIF(Reorder_Level, 0)), 2) AS Reorder_Ratio\n",
            "FROM inventory\n",
            "ORDER BY Reorder_Ratio DESC\n",
            "LIMIT 10;\n",
            "\n"
          ]
        },
        {
          "output_type": "stream",
          "name": "stdout",
          "text": [
            "2025-10-25 13:26:52,419 INFO sqlalchemy.engine.Engine [generated in 0.00292s] ()\n"
          ]
        },
        {
          "output_type": "stream",
          "name": "stderr",
          "text": [
            "INFO:sqlalchemy.engine.Engine:[generated in 0.00292s] ()\n"
          ]
        },
        {
          "output_type": "stream",
          "name": "stdout",
          "text": [
            "2025-10-25 13:26:52,423 INFO sqlalchemy.engine.Engine ROLLBACK\n"
          ]
        },
        {
          "output_type": "stream",
          "name": "stderr",
          "text": [
            "INFO:sqlalchemy.engine.Engine:ROLLBACK\n"
          ]
        },
        {
          "output_type": "stream",
          "name": "stdout",
          "text": [
            "        Product_Name  Reorder_Level  Reorder_Quantity  Stock_Quantity  \\\n",
            "0              Lemon              1                98              87   \n",
            "1          Anchovies              1                92              64   \n",
            "2          Mushrooms              1                79              34   \n",
            "3  Mozzarella Cheese              1                65              24   \n",
            "4          Green Tea              1                61              51   \n",
            "5         Sushi Rice              1                60              47   \n",
            "6       Greek Yogurt              2                98              62   \n",
            "7         Buttermilk              1                42              60   \n",
            "8  Digestive Biscuit              2                84              29   \n",
            "9         Egg (Duck)              1                41              77   \n",
            "\n",
            "   Reorder_Ratio  \n",
            "0           98.0  \n",
            "1           92.0  \n",
            "2           79.0  \n",
            "3           65.0  \n",
            "4           61.0  \n",
            "5           60.0  \n",
            "6           49.0  \n",
            "7           42.0  \n",
            "8           42.0  \n",
            "9           41.0  \n"
          ]
        }
      ]
    },
    {
      "cell_type": "code",
      "source": [
        "# showing which suppliers supply the top selling products\n",
        "# the highest score are top sellers\n",
        "query = \"\"\"\n",
        "SELECT\n",
        "    Product_Name,\n",
        "    Supplier_Name,\n",
        "    Inventory_Turnover_Rate,\n",
        "    Sales_Volume,\n",
        "    Stock_Quantity,\n",
        "    (Inventory_Turnover_Rate * Sales_Volume) AS Performance_Score\n",
        "FROM inventory\n",
        "ORDER BY Performance_Score DESC\n",
        "LIMIT 10;\n",
        "\"\"\"\n",
        "# Correct 2.x syntax — open a connection\n",
        "with engine.connect() as conn:\n",
        "    result = conn.execute(text(query))\n",
        "    QueryResult = pd.DataFrame(result.fetchall(), columns=result.keys())\n",
        "\n",
        "print(QueryResult)"
      ],
      "metadata": {
        "id": "5l6hv-2t1ny1",
        "colab": {
          "base_uri": "https://localhost:8080/"
        },
        "collapsed": true,
        "outputId": "05a56c59-c0fa-4cae-f27b-1a5c165a95b2"
      },
      "execution_count": null,
      "outputs": [
        {
          "output_type": "stream",
          "name": "stdout",
          "text": [
            "2025-10-25 13:26:52,439 INFO sqlalchemy.engine.Engine BEGIN (implicit)\n"
          ]
        },
        {
          "output_type": "stream",
          "name": "stderr",
          "text": [
            "INFO:sqlalchemy.engine.Engine:BEGIN (implicit)\n"
          ]
        },
        {
          "output_type": "stream",
          "name": "stdout",
          "text": [
            "2025-10-25 13:26:52,441 INFO sqlalchemy.engine.Engine \n",
            "SELECT\n",
            "    Product_Name,\n",
            "    Supplier_Name,\n",
            "    Inventory_Turnover_Rate,\n",
            "    Sales_Volume,\n",
            "    Stock_Quantity,\n",
            "    (Inventory_Turnover_Rate * Sales_Volume) AS Performance_Score\n",
            "FROM inventory\n",
            "ORDER BY Performance_Score DESC\n",
            "LIMIT 10;\n",
            "\n"
          ]
        },
        {
          "output_type": "stream",
          "name": "stderr",
          "text": [
            "INFO:sqlalchemy.engine.Engine:\n",
            "SELECT\n",
            "    Product_Name,\n",
            "    Supplier_Name,\n",
            "    Inventory_Turnover_Rate,\n",
            "    Sales_Volume,\n",
            "    Stock_Quantity,\n",
            "    (Inventory_Turnover_Rate * Sales_Volume) AS Performance_Score\n",
            "FROM inventory\n",
            "ORDER BY Performance_Score DESC\n",
            "LIMIT 10;\n",
            "\n"
          ]
        },
        {
          "output_type": "stream",
          "name": "stdout",
          "text": [
            "2025-10-25 13:26:52,443 INFO sqlalchemy.engine.Engine [generated in 0.00396s] ()\n"
          ]
        },
        {
          "output_type": "stream",
          "name": "stderr",
          "text": [
            "INFO:sqlalchemy.engine.Engine:[generated in 0.00396s] ()\n"
          ]
        },
        {
          "output_type": "stream",
          "name": "stdout",
          "text": [
            "2025-10-25 13:26:52,446 INFO sqlalchemy.engine.Engine ROLLBACK\n"
          ]
        },
        {
          "output_type": "stream",
          "name": "stderr",
          "text": [
            "INFO:sqlalchemy.engine.Engine:ROLLBACK\n"
          ]
        },
        {
          "output_type": "stream",
          "name": "stdout",
          "text": [
            "      Product_Name Supplier_Name  Inventory_Turnover_Rate  Sales_Volume  \\\n",
            "0  Long Grain Rice    Brightbean                       99            95   \n",
            "1     Jasmine Rice     Topicware                       94           100   \n",
            "2             Plum        Yambee                       94            99   \n",
            "3     Sweet Potato         Trupe                       95            97   \n",
            "4        Green Tea         Oyoyo                       99            93   \n",
            "5           Grapes        Skinix                       99            93   \n",
            "6              Cod          Katz                       92            97   \n",
            "7     Sweet Potato    Photospace                       91            98   \n",
            "8        White Tea         Aivee                      100            89   \n",
            "9         Cucumber     Youbridge                      100            89   \n",
            "\n",
            "   Stock_Quantity  Performance_Score  \n",
            "0              12               9405  \n",
            "1              53               9400  \n",
            "2              11               9306  \n",
            "3              49               9215  \n",
            "4              63               9207  \n",
            "5              88               9207  \n",
            "6              96               8924  \n",
            "7             100               8918  \n",
            "8              62               8900  \n",
            "9              38               8900  \n"
          ]
        }
      ]
    },
    {
      "cell_type": "code",
      "source": [
        "\n",
        "#No of unique product supplied by a vendor is equal to 1\n",
        "query = \"\"\"\n",
        "WITH SupplierProductCount AS\n",
        "(\n",
        "SELECT\n",
        "    Supplier_ID,\n",
        "    Supplier_Name,\n",
        "    COUNT(DISTINCT Product_ID) AS Product_Count\n",
        "FROM inventory\n",
        "GROUP BY Supplier_ID, Supplier_Name\n",
        "ORDER BY Product_Count DESC\n",
        ")\n",
        "\n",
        "SELECT\n",
        "    Supplier_ID,\n",
        "    Supplier_Name,\n",
        "    Product_Count,\n",
        "    ROW_NUMBER() OVER (ORDER BY Product_Count DESC) AS Rank\n",
        "FROM SupplierProductCount\n",
        "WHERE Product_Count =1\n",
        "ORDER BY Product_Count DESC;\n",
        "\"\"\"\n",
        "  # Correct 2.x syntax — open a connection\n",
        "with engine.connect() as conn:\n",
        "    result = conn.execute(text(query))\n",
        "    QueryResult = pd.DataFrame(result.fetchall(), columns=result.keys())\n",
        "\n",
        "print(QueryResult)"
      ],
      "metadata": {
        "collapsed": true,
        "colab": {
          "base_uri": "https://localhost:8080/"
        },
        "id": "Cj7ym34Yx46G",
        "outputId": "223f0700-e521-42f2-bd3a-0c4470057a44"
      },
      "execution_count": null,
      "outputs": [
        {
          "output_type": "stream",
          "name": "stdout",
          "text": [
            "2025-10-25 13:26:52,465 INFO sqlalchemy.engine.Engine BEGIN (implicit)\n"
          ]
        },
        {
          "output_type": "stream",
          "name": "stderr",
          "text": [
            "INFO:sqlalchemy.engine.Engine:BEGIN (implicit)\n"
          ]
        },
        {
          "output_type": "stream",
          "name": "stdout",
          "text": [
            "2025-10-25 13:26:52,467 INFO sqlalchemy.engine.Engine \n",
            "WITH SupplierProductCount AS\n",
            "(\n",
            "SELECT\n",
            "    Supplier_ID,\n",
            "    Supplier_Name,\n",
            "    COUNT(DISTINCT Product_ID) AS Product_Count\n",
            "FROM inventory\n",
            "GROUP BY Supplier_ID, Supplier_Name\n",
            "ORDER BY Product_Count DESC\n",
            ")\n",
            "\n",
            "SELECT\n",
            "    Supplier_ID,\n",
            "    Supplier_Name,\n",
            "    Product_Count,\n",
            "    ROW_NUMBER() OVER (ORDER BY Product_Count DESC) AS Rank\n",
            "FROM SupplierProductCount\n",
            "WHERE Product_Count =1\n",
            "ORDER BY Product_Count DESC;\n",
            "\n"
          ]
        },
        {
          "output_type": "stream",
          "name": "stderr",
          "text": [
            "INFO:sqlalchemy.engine.Engine:\n",
            "WITH SupplierProductCount AS\n",
            "(\n",
            "SELECT\n",
            "    Supplier_ID,\n",
            "    Supplier_Name,\n",
            "    COUNT(DISTINCT Product_ID) AS Product_Count\n",
            "FROM inventory\n",
            "GROUP BY Supplier_ID, Supplier_Name\n",
            "ORDER BY Product_Count DESC\n",
            ")\n",
            "\n",
            "SELECT\n",
            "    Supplier_ID,\n",
            "    Supplier_Name,\n",
            "    Product_Count,\n",
            "    ROW_NUMBER() OVER (ORDER BY Product_Count DESC) AS Rank\n",
            "FROM SupplierProductCount\n",
            "WHERE Product_Count =1\n",
            "ORDER BY Product_Count DESC;\n",
            "\n"
          ]
        },
        {
          "output_type": "stream",
          "name": "stdout",
          "text": [
            "2025-10-25 13:26:52,469 INFO sqlalchemy.engine.Engine [generated in 0.00391s] ()\n"
          ]
        },
        {
          "output_type": "stream",
          "name": "stderr",
          "text": [
            "INFO:sqlalchemy.engine.Engine:[generated in 0.00391s] ()\n"
          ]
        },
        {
          "output_type": "stream",
          "name": "stdout",
          "text": [
            "2025-10-25 13:26:52,596 INFO sqlalchemy.engine.Engine ROLLBACK\n"
          ]
        },
        {
          "output_type": "stream",
          "name": "stderr",
          "text": [
            "INFO:sqlalchemy.engine.Engine:ROLLBACK\n"
          ]
        },
        {
          "output_type": "stream",
          "name": "stdout",
          "text": [
            "     Supplier_ID Supplier_Name  Product_Count  Rank\n",
            "0    00-023-7719         Kamba              1     1\n",
            "1    00-131-9278     Skynoodle              1     2\n",
            "2    00-258-2525   Thoughtbeat              1     3\n",
            "3    00-487-2428       Meembee              1     4\n",
            "4    00-635-4638         Eidel              1     5\n",
            "..           ...           ...            ...   ...\n",
            "985  99-553-6838      Skipfire              1   986\n",
            "986  99-570-8162   Browsedrive              1   987\n",
            "987  99-680-2351       Innojam              1   988\n",
            "988  99-784-4391        Voolia              1   989\n",
            "989  99-864-0256        Rhyloo              1   990\n",
            "\n",
            "[990 rows x 4 columns]\n"
          ]
        }
      ]
    },
    {
      "cell_type": "code",
      "source": [
        "#List of products that should be reordered (below reorder level), with suggested reorder quantity.\n",
        "query = \"\"\"\n",
        "SELECT Product_ID,\n",
        "       Product_Name,\n",
        "       Stock_Quantity,\n",
        "       Reorder_Level,\n",
        "       Reorder_Quantity,\n",
        "       (Reorder_Level - Stock_Quantity + Reorder_Quantity) AS Suggested_Order\n",
        "FROM inventory\n",
        "WHERE Stock_Quantity < Reorder_Level\n",
        "ORDER BY Suggested_Order DESC;\n",
        "\"\"\"\n",
        "  # Correct 2.x syntax — open a connection\n",
        "with engine.connect() as conn:\n",
        "    result = conn.execute(text(query))\n",
        "    QueryResult = pd.DataFrame(result.fetchall(), columns=result.keys())\n",
        "\n",
        "print(QueryResult)"
      ],
      "metadata": {
        "id": "JXuGxtIV1nle",
        "colab": {
          "base_uri": "https://localhost:8080/"
        },
        "outputId": "d421b9fc-db8e-4f2e-8d3d-a56369433b7a",
        "collapsed": true
      },
      "execution_count": null,
      "outputs": [
        {
          "output_type": "stream",
          "name": "stdout",
          "text": [
            "2025-10-25 13:26:52,612 INFO sqlalchemy.engine.Engine BEGIN (implicit)\n"
          ]
        },
        {
          "output_type": "stream",
          "name": "stderr",
          "text": [
            "INFO:sqlalchemy.engine.Engine:BEGIN (implicit)\n"
          ]
        },
        {
          "output_type": "stream",
          "name": "stdout",
          "text": [
            "2025-10-25 13:26:52,616 INFO sqlalchemy.engine.Engine \n",
            "SELECT Product_ID,\n",
            "       Product_Name,\n",
            "       Stock_Quantity,\n",
            "       Reorder_Level,\n",
            "       Reorder_Quantity,\n",
            "       (Reorder_Level - Stock_Quantity + Reorder_Quantity) AS Suggested_Order\n",
            "FROM inventory\n",
            "WHERE Stock_Quantity < Reorder_Level\n",
            "ORDER BY Suggested_Order DESC;\n",
            "\n"
          ]
        },
        {
          "output_type": "stream",
          "name": "stderr",
          "text": [
            "INFO:sqlalchemy.engine.Engine:\n",
            "SELECT Product_ID,\n",
            "       Product_Name,\n",
            "       Stock_Quantity,\n",
            "       Reorder_Level,\n",
            "       Reorder_Quantity,\n",
            "       (Reorder_Level - Stock_Quantity + Reorder_Quantity) AS Suggested_Order\n",
            "FROM inventory\n",
            "WHERE Stock_Quantity < Reorder_Level\n",
            "ORDER BY Suggested_Order DESC;\n",
            "\n"
          ]
        },
        {
          "output_type": "stream",
          "name": "stdout",
          "text": [
            "2025-10-25 13:26:52,617 INFO sqlalchemy.engine.Engine [generated in 0.00549s] ()\n"
          ]
        },
        {
          "output_type": "stream",
          "name": "stderr",
          "text": [
            "INFO:sqlalchemy.engine.Engine:[generated in 0.00549s] ()\n"
          ]
        },
        {
          "output_type": "stream",
          "name": "stdout",
          "text": [
            "2025-10-25 13:26:52,624 INFO sqlalchemy.engine.Engine ROLLBACK\n"
          ]
        },
        {
          "output_type": "stream",
          "name": "stderr",
          "text": [
            "INFO:sqlalchemy.engine.Engine:ROLLBACK\n"
          ]
        },
        {
          "output_type": "stream",
          "name": "stdout",
          "text": [
            "      Product_ID       Product_Name  Stock_Quantity  Reorder_Level  \\\n",
            "0    70-149-6756        Heavy Cream              14             99   \n",
            "1    39-913-2999    Evaporated Milk              23             99   \n",
            "2    73-561-2867    Sourdough Bread              12             86   \n",
            "3    67-512-9754       Egg (Turkey)              19            100   \n",
            "4    03-441-4252             Yogurt              12             83   \n",
            "..           ...                ...             ...            ...   \n",
            "450  28-986-8001        Pomegranate              65             69   \n",
            "451  91-426-3204            Haddock              67             71   \n",
            "452  89-673-1543  Digestive Biscuit              72             78   \n",
            "453  58-229-1358              Cream              21             24   \n",
            "454  98-556-5323        Pomegranate              60             61   \n",
            "\n",
            "     Reorder_Quantity  Suggested_Order  \n",
            "0                  97              182  \n",
            "1                  97              173  \n",
            "2                  98              172  \n",
            "3                  83              164  \n",
            "4                  93              164  \n",
            "..                ...              ...  \n",
            "450                 4                8  \n",
            "451                 4                8  \n",
            "452                 1                7  \n",
            "453                 2                5  \n",
            "454                 2                3  \n",
            "\n",
            "[455 rows x 6 columns]\n"
          ]
        }
      ]
    },
    {
      "cell_type": "code",
      "source": [
        "#Rank products by turnover rate.\n",
        "query =\"\"\"\n",
        "SELECT Product_ID,\n",
        "       Product_Name,\n",
        "       Inventory_Turnover_Rate,\n",
        "       RANK() OVER (ORDER BY Inventory_Turnover_Rate DESC) AS Turnover_Rank\n",
        "FROM inventory;\n",
        "\"\"\"\n",
        "  # Correct 2.x syntax — open a connection\n",
        "with engine.connect() as conn:\n",
        "    result = conn.execute(text(query))\n",
        "    QueryResult = pd.DataFrame(result.fetchall(), columns=result.keys())\n",
        "\n",
        "print(QueryResult)"
      ],
      "metadata": {
        "id": "MHCF4knt1jlb",
        "colab": {
          "base_uri": "https://localhost:8080/"
        },
        "collapsed": true,
        "outputId": "17c5db07-90de-4f75-9900-46fac0e90918"
      },
      "execution_count": null,
      "outputs": [
        {
          "output_type": "stream",
          "name": "stdout",
          "text": [
            "2025-10-25 13:26:52,639 INFO sqlalchemy.engine.Engine BEGIN (implicit)\n"
          ]
        },
        {
          "output_type": "stream",
          "name": "stderr",
          "text": [
            "INFO:sqlalchemy.engine.Engine:BEGIN (implicit)\n"
          ]
        },
        {
          "output_type": "stream",
          "name": "stdout",
          "text": [
            "2025-10-25 13:26:52,642 INFO sqlalchemy.engine.Engine \n",
            "SELECT Product_ID,\n",
            "       Product_Name,\n",
            "       Inventory_Turnover_Rate,\n",
            "       RANK() OVER (ORDER BY Inventory_Turnover_Rate DESC) AS Turnover_Rank\n",
            "FROM inventory;\n",
            "\n"
          ]
        },
        {
          "output_type": "stream",
          "name": "stderr",
          "text": [
            "INFO:sqlalchemy.engine.Engine:\n",
            "SELECT Product_ID,\n",
            "       Product_Name,\n",
            "       Inventory_Turnover_Rate,\n",
            "       RANK() OVER (ORDER BY Inventory_Turnover_Rate DESC) AS Turnover_Rank\n",
            "FROM inventory;\n",
            "\n"
          ]
        },
        {
          "output_type": "stream",
          "name": "stdout",
          "text": [
            "2025-10-25 13:26:52,643 INFO sqlalchemy.engine.Engine [generated in 0.00433s] ()\n"
          ]
        },
        {
          "output_type": "stream",
          "name": "stderr",
          "text": [
            "INFO:sqlalchemy.engine.Engine:[generated in 0.00433s] ()\n"
          ]
        },
        {
          "output_type": "stream",
          "name": "stdout",
          "text": [
            "2025-10-25 13:26:52,653 INFO sqlalchemy.engine.Engine ROLLBACK\n"
          ]
        },
        {
          "output_type": "stream",
          "name": "stderr",
          "text": [
            "INFO:sqlalchemy.engine.Engine:ROLLBACK\n"
          ]
        },
        {
          "output_type": "stream",
          "name": "stdout",
          "text": [
            "      Product_ID       Product_Name  Inventory_Turnover_Rate  Turnover_Rank\n",
            "0    07-970-9352        Bell Pepper                      100              1\n",
            "1    70-815-4015     Butter Biscuit                      100              1\n",
            "2    91-257-3672            Tilapia                      100              1\n",
            "3    39-768-8205       Egg (Turkey)                      100              1\n",
            "4    29-823-6004           Zucchini                      100              1\n",
            "..           ...                ...                      ...            ...\n",
            "985  04-038-1547          Rye Bread                        1            981\n",
            "986  07-846-4804       Jasmine Rice                        1            981\n",
            "987  45-992-5653  Whole Wheat Flour                        1            981\n",
            "988  49-579-4325     Ricotta Cheese                        1            981\n",
            "989  14-331-3739        Avocado Oil                        1            981\n",
            "\n",
            "[990 rows x 4 columns]\n"
          ]
        }
      ]
    },
    {
      "cell_type": "code",
      "source": [
        "#Rank products by turnover rate.\n",
        "query =\"\"\"\n",
        "SELECT Product_ID,\n",
        "       Product_Name,\n",
        "       Inventory_Turnover_Rate,\n",
        "       RANK() OVER (ORDER BY Inventory_Turnover_Rate DESC) AS Turnover_Rank\n",
        "FROM inventory;\n",
        "\n",
        "\"\"\"\n",
        "  # Correct 2.x syntax — open a connection\n",
        "with engine.connect() as conn:\n",
        "    result = conn.execute(text(query))\n",
        "    QueryResult = pd.DataFrame(result.fetchall(), columns=result.keys())\n",
        "\n",
        "print(QueryResult)"
      ],
      "metadata": {
        "id": "Me1ldEod1fsu",
        "colab": {
          "base_uri": "https://localhost:8080/"
        },
        "outputId": "6df1b3bc-c65b-465e-ed79-4227274d5f45"
      },
      "execution_count": null,
      "outputs": [
        {
          "output_type": "stream",
          "name": "stdout",
          "text": [
            "2025-10-25 13:27:59,772 INFO sqlalchemy.engine.Engine BEGIN (implicit)\n"
          ]
        },
        {
          "output_type": "stream",
          "name": "stderr",
          "text": [
            "INFO:sqlalchemy.engine.Engine:BEGIN (implicit)\n"
          ]
        },
        {
          "output_type": "stream",
          "name": "stdout",
          "text": [
            "2025-10-25 13:27:59,782 INFO sqlalchemy.engine.Engine \n",
            "SELECT Product_ID,\n",
            "       Product_Name,\n",
            "       Inventory_Turnover_Rate,\n",
            "       RANK() OVER (ORDER BY Inventory_Turnover_Rate DESC) AS Turnover_Rank\n",
            "FROM inventory;\n",
            "\n",
            "\n"
          ]
        },
        {
          "output_type": "stream",
          "name": "stderr",
          "text": [
            "INFO:sqlalchemy.engine.Engine:\n",
            "SELECT Product_ID,\n",
            "       Product_Name,\n",
            "       Inventory_Turnover_Rate,\n",
            "       RANK() OVER (ORDER BY Inventory_Turnover_Rate DESC) AS Turnover_Rank\n",
            "FROM inventory;\n",
            "\n",
            "\n"
          ]
        },
        {
          "output_type": "stream",
          "name": "stdout",
          "text": [
            "2025-10-25 13:27:59,788 INFO sqlalchemy.engine.Engine [generated in 0.01539s] ()\n"
          ]
        },
        {
          "output_type": "stream",
          "name": "stderr",
          "text": [
            "INFO:sqlalchemy.engine.Engine:[generated in 0.01539s] ()\n"
          ]
        },
        {
          "output_type": "stream",
          "name": "stdout",
          "text": [
            "2025-10-25 13:27:59,814 INFO sqlalchemy.engine.Engine ROLLBACK\n"
          ]
        },
        {
          "output_type": "stream",
          "name": "stderr",
          "text": [
            "INFO:sqlalchemy.engine.Engine:ROLLBACK\n"
          ]
        },
        {
          "output_type": "stream",
          "name": "stdout",
          "text": [
            "      Product_ID       Product_Name  Inventory_Turnover_Rate  Turnover_Rank\n",
            "0    07-970-9352        Bell Pepper                      100              1\n",
            "1    70-815-4015     Butter Biscuit                      100              1\n",
            "2    91-257-3672            Tilapia                      100              1\n",
            "3    39-768-8205       Egg (Turkey)                      100              1\n",
            "4    29-823-6004           Zucchini                      100              1\n",
            "..           ...                ...                      ...            ...\n",
            "985  04-038-1547          Rye Bread                        1            981\n",
            "986  07-846-4804       Jasmine Rice                        1            981\n",
            "987  45-992-5653  Whole Wheat Flour                        1            981\n",
            "988  49-579-4325     Ricotta Cheese                        1            981\n",
            "989  14-331-3739        Avocado Oil                        1            981\n",
            "\n",
            "[990 rows x 4 columns]\n"
          ]
        }
      ]
    },
    {
      "cell_type": "code",
      "source": [
        "#Count of Active vs Discontinued Products\n",
        "\n",
        "#Inventory status overview.\n",
        "query =\"\"\"\n",
        "\n",
        "SELECT Status, COUNT(*) AS Product_Count\n",
        "FROM inventory\n",
        "GROUP BY Status;\n",
        "\"\"\"\n",
        "  # Correct 2.x syntax — open a connection\n",
        "with engine.connect() as conn:\n",
        "    result = conn.execute(text(query))\n",
        "    QueryResult = pd.DataFrame(result.fetchall(), columns=result.keys())\n",
        "\n",
        "print(QueryResult)"
      ],
      "metadata": {
        "id": "r55LIAL11cjO",
        "colab": {
          "base_uri": "https://localhost:8080/"
        },
        "outputId": "62c96f11-8aa6-402e-ceaf-d809fe8b715b"
      },
      "execution_count": null,
      "outputs": [
        {
          "output_type": "stream",
          "name": "stdout",
          "text": [
            "2025-10-25 13:28:04,584 INFO sqlalchemy.engine.Engine BEGIN (implicit)\n"
          ]
        },
        {
          "output_type": "stream",
          "name": "stderr",
          "text": [
            "INFO:sqlalchemy.engine.Engine:BEGIN (implicit)\n"
          ]
        },
        {
          "output_type": "stream",
          "name": "stdout",
          "text": [
            "2025-10-25 13:28:04,587 INFO sqlalchemy.engine.Engine \n",
            "\n",
            "SELECT Status, COUNT(*) AS Product_Count\n",
            "FROM inventory\n",
            "GROUP BY Status;\n",
            "\n"
          ]
        },
        {
          "output_type": "stream",
          "name": "stderr",
          "text": [
            "INFO:sqlalchemy.engine.Engine:\n",
            "\n",
            "SELECT Status, COUNT(*) AS Product_Count\n",
            "FROM inventory\n",
            "GROUP BY Status;\n",
            "\n"
          ]
        },
        {
          "output_type": "stream",
          "name": "stdout",
          "text": [
            "2025-10-25 13:28:04,588 INFO sqlalchemy.engine.Engine [generated in 0.00377s] ()\n"
          ]
        },
        {
          "output_type": "stream",
          "name": "stderr",
          "text": [
            "INFO:sqlalchemy.engine.Engine:[generated in 0.00377s] ()\n"
          ]
        },
        {
          "output_type": "stream",
          "name": "stdout",
          "text": [
            "2025-10-25 13:28:04,595 INFO sqlalchemy.engine.Engine ROLLBACK\n"
          ]
        },
        {
          "output_type": "stream",
          "name": "stderr",
          "text": [
            "INFO:sqlalchemy.engine.Engine:ROLLBACK\n"
          ]
        },
        {
          "output_type": "stream",
          "name": "stdout",
          "text": [
            "         Status  Product_Count\n",
            "0        Active            332\n",
            "1   Backordered            325\n",
            "2  Discontinued            333\n"
          ]
        }
      ]
    },
    {
      "cell_type": "code",
      "source": [
        "#See how many products are stored at each warehouse location.\n",
        "query =\"\"\"\n",
        "SELECT Warehouse_Location, COUNT(Product_ID) AS Product_Count\n",
        "FROM inventory\n",
        "GROUP BY Warehouse_Location\n",
        "ORDER BY Product_Count DESC;\n",
        "\n",
        "\"\"\"\n",
        "  # Correct 2.x syntax — open a connection\n",
        "with engine.connect() as conn:\n",
        "    result = conn.execute(text(query))\n",
        "    QueryResult = pd.DataFrame(result.fetchall(), columns=result.keys())\n",
        "\n",
        "print(QueryResult)"
      ],
      "metadata": {
        "id": "ftlAqy5E1T4L",
        "colab": {
          "base_uri": "https://localhost:8080/"
        },
        "outputId": "6c1a19c6-0581-46b1-d041-1379ee4e2a16"
      },
      "execution_count": null,
      "outputs": [
        {
          "output_type": "stream",
          "name": "stdout",
          "text": [
            "2025-10-25 13:30:41,425 INFO sqlalchemy.engine.Engine BEGIN (implicit)\n"
          ]
        },
        {
          "output_type": "stream",
          "name": "stderr",
          "text": [
            "INFO:sqlalchemy.engine.Engine:BEGIN (implicit)\n"
          ]
        },
        {
          "output_type": "stream",
          "name": "stdout",
          "text": [
            "2025-10-25 13:30:41,439 INFO sqlalchemy.engine.Engine \n",
            "SELECT Warehouse_Location, COUNT(Product_ID) AS Product_Count\n",
            "FROM inventory\n",
            "GROUP BY Warehouse_Location\n",
            "ORDER BY Product_Count DESC;\n",
            "\n",
            "\n"
          ]
        },
        {
          "output_type": "stream",
          "name": "stderr",
          "text": [
            "INFO:sqlalchemy.engine.Engine:\n",
            "SELECT Warehouse_Location, COUNT(Product_ID) AS Product_Count\n",
            "FROM inventory\n",
            "GROUP BY Warehouse_Location\n",
            "ORDER BY Product_Count DESC;\n",
            "\n",
            "\n"
          ]
        },
        {
          "output_type": "stream",
          "name": "stdout",
          "text": [
            "2025-10-25 13:30:41,447 INFO sqlalchemy.engine.Engine [generated in 0.02277s] ()\n"
          ]
        },
        {
          "output_type": "stream",
          "name": "stderr",
          "text": [
            "INFO:sqlalchemy.engine.Engine:[generated in 0.02277s] ()\n"
          ]
        },
        {
          "output_type": "stream",
          "name": "stdout",
          "text": [
            "2025-10-25 13:30:41,464 INFO sqlalchemy.engine.Engine ROLLBACK\n"
          ]
        },
        {
          "output_type": "stream",
          "name": "stderr",
          "text": [
            "INFO:sqlalchemy.engine.Engine:ROLLBACK\n"
          ]
        },
        {
          "output_type": "stream",
          "name": "stdout",
          "text": [
            "       Warehouse_Location  Product_Count\n",
            "0      996 Thierer Center              1\n",
            "1     9951 Petterle Alley              1\n",
            "2    993 Kensington Drive              1\n",
            "3          992 East Point              1\n",
            "4     99 Twin Pines Alley              1\n",
            "..                    ...            ...\n",
            "985     0 Lerdahl Parkway              1\n",
            "986        0 Lawn Parkway              1\n",
            "987       0 Larry Terrace              1\n",
            "988        0 Fordem Place              1\n",
            "989    0 Delladonna Place              1\n",
            "\n",
            "[990 rows x 2 columns]\n"
          ]
        }
      ]
    },
    {
      "cell_type": "code",
      "source": [
        "#Combine low stock, high sales volume, and high turnover rate to find products that need urgent attention.\n",
        "query =\"\"\"\n",
        "SELECT Product_ID,\n",
        "       Product_Name,\n",
        "       Stock_Quantity,\n",
        "       Sales_Volume,\n",
        "       Inventory_Turnover_Rate,\n",
        "       (Reorder_Level - Stock_Quantity) AS Shortfall\n",
        "FROM inventory\n",
        "WHERE Stock_Quantity < Reorder_Level\n",
        "ORDER BY Inventory_Turnover_Rate DESC, Sales_Volume DESC;\n",
        "\n",
        "\"\"\"\n",
        "  # Correct 2.x syntax — open a connection\n",
        "with engine.connect() as conn:\n",
        "    result = conn.execute(text(query))\n",
        "    QueryResult = pd.DataFrame(result.fetchall(), columns=result.keys())\n",
        "\n",
        "print(QueryResult)"
      ],
      "metadata": {
        "id": "JTfMy5DJ1Rpd",
        "collapsed": true,
        "colab": {
          "base_uri": "https://localhost:8080/"
        },
        "outputId": "d15a53f1-55f5-4787-a5e1-be1d2f05095c"
      },
      "execution_count": null,
      "outputs": [
        {
          "output_type": "stream",
          "name": "stdout",
          "text": [
            "2025-10-25 13:30:48,062 INFO sqlalchemy.engine.Engine BEGIN (implicit)\n"
          ]
        },
        {
          "output_type": "stream",
          "name": "stderr",
          "text": [
            "INFO:sqlalchemy.engine.Engine:BEGIN (implicit)\n"
          ]
        },
        {
          "output_type": "stream",
          "name": "stdout",
          "text": [
            "2025-10-25 13:30:48,077 INFO sqlalchemy.engine.Engine \n",
            "SELECT Product_ID,\n",
            "       Product_Name,\n",
            "       Stock_Quantity,\n",
            "       Sales_Volume,\n",
            "       Inventory_Turnover_Rate,\n",
            "       (Reorder_Level - Stock_Quantity) AS Shortfall\n",
            "FROM inventory\n",
            "WHERE Stock_Quantity < Reorder_Level\n",
            "ORDER BY Inventory_Turnover_Rate DESC, Sales_Volume DESC;\n",
            "\n",
            "\n"
          ]
        },
        {
          "output_type": "stream",
          "name": "stderr",
          "text": [
            "INFO:sqlalchemy.engine.Engine:\n",
            "SELECT Product_ID,\n",
            "       Product_Name,\n",
            "       Stock_Quantity,\n",
            "       Sales_Volume,\n",
            "       Inventory_Turnover_Rate,\n",
            "       (Reorder_Level - Stock_Quantity) AS Shortfall\n",
            "FROM inventory\n",
            "WHERE Stock_Quantity < Reorder_Level\n",
            "ORDER BY Inventory_Turnover_Rate DESC, Sales_Volume DESC;\n",
            "\n",
            "\n"
          ]
        },
        {
          "output_type": "stream",
          "name": "stdout",
          "text": [
            "2025-10-25 13:30:48,088 INFO sqlalchemy.engine.Engine [generated in 0.02624s] ()\n"
          ]
        },
        {
          "output_type": "stream",
          "name": "stderr",
          "text": [
            "INFO:sqlalchemy.engine.Engine:[generated in 0.02624s] ()\n"
          ]
        },
        {
          "output_type": "stream",
          "name": "stdout",
          "text": [
            "2025-10-25 13:30:48,134 INFO sqlalchemy.engine.Engine ROLLBACK\n"
          ]
        },
        {
          "output_type": "stream",
          "name": "stderr",
          "text": [
            "INFO:sqlalchemy.engine.Engine:ROLLBACK\n"
          ]
        },
        {
          "output_type": "stream",
          "name": "stdout",
          "text": [
            "      Product_ID    Product_Name  Stock_Quantity  Sales_Volume  \\\n",
            "0    58-005-5343        Cucumber              38            89   \n",
            "1    39-768-8205    Egg (Turkey)              56            82   \n",
            "2    94-525-6925       Rye Bread              50            70   \n",
            "3    22-266-9291        Sardines              11            69   \n",
            "4    70-815-4015  Butter Biscuit              38            67   \n",
            "..           ...             ...             ...           ...   \n",
            "450  40-681-9981  Arabica Coffee              45            85   \n",
            "451  07-846-4804    Jasmine Rice              20            78   \n",
            "452  49-579-4325  Ricotta Cheese              64            55   \n",
            "453  97-040-3822    Swiss Cheese              50            42   \n",
            "454  97-710-2449       Rye Bread              28            31   \n",
            "\n",
            "     Inventory_Turnover_Rate  Shortfall  \n",
            "0                        100         56  \n",
            "1                        100         41  \n",
            "2                        100          6  \n",
            "3                        100          6  \n",
            "4                        100         55  \n",
            "..                       ...        ...  \n",
            "450                        1         32  \n",
            "451                        1          5  \n",
            "452                        1         31  \n",
            "453                        1         49  \n",
            "454                        1         66  \n",
            "\n",
            "[455 rows x 6 columns]\n"
          ]
        }
      ]
    },
    {
      "cell_type": "markdown",
      "source": [
        "## `**VISUALIZATION**`"
      ],
      "metadata": {
        "id": "zuW6xakXkMFm"
      }
    },
    {
      "cell_type": "code",
      "source": [
        "#putting my result to visualization\n",
        "df.fig()\n",
        "import seaborn as sns\n",
        "\n",
        "plt.figure(figsize=(10,6))\n",
        "sns.barplot(x='Supplier_Name', y='Product_Count', data=result_df, palette='viridis')\n",
        "plt.title('Number of Products per Supplier')\n",
        "plt.xticks(rotation=45, ha='right')\n",
        "plt.show()\n"
      ],
      "metadata": {
        "id": "wcBVdtDI1S9k"
      },
      "execution_count": null,
      "outputs": []
    }
  ]
}
